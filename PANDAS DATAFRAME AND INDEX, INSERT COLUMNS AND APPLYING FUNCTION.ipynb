{
 "cells": [
  {
   "cell_type": "markdown",
   "id": "83c5f6e4",
   "metadata": {},
   "source": [
    "PANDAS DATAFRAME AND INDEX, INSERT COLUMNS AND APPLYING FUNCTION"
   ]
  },
  {
   "cell_type": "code",
   "execution_count": 2,
   "id": "4b1e9ba9",
   "metadata": {},
   "outputs": [],
   "source": [
    "import pandas as pd\n",
    "import numpy as np"
   ]
  },
  {
   "cell_type": "code",
   "execution_count": 6,
   "id": "687f9bc2",
   "metadata": {},
   "outputs": [
    {
     "data": {
      "text/html": [
       "<div>\n",
       "<style scoped>\n",
       "    .dataframe tbody tr th:only-of-type {\n",
       "        vertical-align: middle;\n",
       "    }\n",
       "\n",
       "    .dataframe tbody tr th {\n",
       "        vertical-align: top;\n",
       "    }\n",
       "\n",
       "    .dataframe thead th {\n",
       "        text-align: right;\n",
       "    }\n",
       "</style>\n",
       "<table border=\"1\" class=\"dataframe\">\n",
       "  <thead>\n",
       "    <tr style=\"text-align: right;\">\n",
       "      <th></th>\n",
       "      <th>0</th>\n",
       "      <th>1</th>\n",
       "    </tr>\n",
       "  </thead>\n",
       "  <tbody>\n",
       "    <tr>\n",
       "      <th>1</th>\n",
       "      <td>DL</td>\n",
       "      <td>100</td>\n",
       "    </tr>\n",
       "    <tr>\n",
       "      <th>2</th>\n",
       "      <td>UP</td>\n",
       "      <td>200</td>\n",
       "    </tr>\n",
       "    <tr>\n",
       "      <th>3</th>\n",
       "      <td>AP</td>\n",
       "      <td>300</td>\n",
       "    </tr>\n",
       "    <tr>\n",
       "      <th>4</th>\n",
       "      <td>TS</td>\n",
       "      <td>400</td>\n",
       "    </tr>\n",
       "  </tbody>\n",
       "</table>\n",
       "</div>"
      ],
      "text/plain": [
       "    0    1\n",
       "1  DL  100\n",
       "2  UP  200\n",
       "3  AP  300\n",
       "4  TS  400"
      ]
     },
     "execution_count": 6,
     "metadata": {},
     "output_type": "execute_result"
    }
   ],
   "source": [
    "df = pd.DataFrame(['DL', 'UP', 'AP', 'TS'],index = [1,2,3,4])\n",
    "df[1]=[100, 200, 300, 400]\n",
    "df"
   ]
  },
  {
   "cell_type": "code",
   "execution_count": 9,
   "id": "ea58d02e",
   "metadata": {},
   "outputs": [
    {
     "name": "stdout",
     "output_type": "stream",
     "text": [
      "loc is label based prints the index as 1 or 2 \n"
     ]
    },
    {
     "data": {
      "text/plain": [
       "0     DL\n",
       "1    100\n",
       "Name: 1, dtype: object"
      ]
     },
     "execution_count": 9,
     "metadata": {},
     "output_type": "execute_result"
    }
   ],
   "source": [
    "print('loc is label based prints the index as 1 or 2 ')\n",
    "df.loc[1]\n",
    "\n"
   ]
  },
  {
   "cell_type": "code",
   "execution_count": 10,
   "id": "31c233c3",
   "metadata": {},
   "outputs": [
    {
     "data": {
      "text/plain": [
       "0     UP\n",
       "1    200\n",
       "Name: 2, dtype: object"
      ]
     },
     "execution_count": 10,
     "metadata": {},
     "output_type": "execute_result"
    }
   ],
   "source": [
    "df.loc[2]"
   ]
  },
  {
   "cell_type": "code",
   "execution_count": null,
   "id": "e497bc77",
   "metadata": {},
   "outputs": [],
   "source": []
  },
  {
   "cell_type": "code",
   "execution_count": 8,
   "id": "2d7052cc",
   "metadata": {},
   "outputs": [
    {
     "name": "stdout",
     "output_type": "stream",
     "text": [
      "specify the rows and colums on index number that is intiger based\n"
     ]
    },
    {
     "data": {
      "text/plain": [
       "0     DL\n",
       "1    100\n",
       "Name: 1, dtype: object"
      ]
     },
     "execution_count": 8,
     "metadata": {},
     "output_type": "execute_result"
    }
   ],
   "source": [
    "print('specify the rows and colums on index number that is intiger based')\n",
    "df.iloc[0]"
   ]
  },
  {
   "cell_type": "code",
   "execution_count": 8,
   "id": "89c8f216",
   "metadata": {},
   "outputs": [
    {
     "name": "stdout",
     "output_type": "stream",
     "text": [
      "slicing based can be done\n"
     ]
    },
    {
     "data": {
      "text/html": [
       "<div>\n",
       "<style scoped>\n",
       "    .dataframe tbody tr th:only-of-type {\n",
       "        vertical-align: middle;\n",
       "    }\n",
       "\n",
       "    .dataframe tbody tr th {\n",
       "        vertical-align: top;\n",
       "    }\n",
       "\n",
       "    .dataframe thead th {\n",
       "        text-align: right;\n",
       "    }\n",
       "</style>\n",
       "<table border=\"1\" class=\"dataframe\">\n",
       "  <thead>\n",
       "    <tr style=\"text-align: right;\">\n",
       "      <th></th>\n",
       "      <th>cities</th>\n",
       "      <th>Active</th>\n",
       "    </tr>\n",
       "  </thead>\n",
       "  <tbody>\n",
       "    <tr>\n",
       "      <th>3</th>\n",
       "      <td>AP</td>\n",
       "      <td>300</td>\n",
       "    </tr>\n",
       "    <tr>\n",
       "      <th>4</th>\n",
       "      <td>TS</td>\n",
       "      <td>400</td>\n",
       "    </tr>\n",
       "  </tbody>\n",
       "</table>\n",
       "</div>"
      ],
      "text/plain": [
       "  cities  Active\n",
       "3     AP     300\n",
       "4     TS     400"
      ]
     },
     "execution_count": 8,
     "metadata": {},
     "output_type": "execute_result"
    }
   ],
   "source": [
    "print('slicing based can be done')\n",
    "df.columns = ['cities','Active']\n",
    "df.loc[df.Active>200]"
   ]
  },
  {
   "cell_type": "code",
   "execution_count": 9,
   "id": "da4b6feb",
   "metadata": {},
   "outputs": [
    {
     "data": {
      "text/plain": [
       "1    DL\n",
       "2    UP\n",
       "3    AP\n",
       "4    TS\n",
       "Name: cities, dtype: object"
      ]
     },
     "execution_count": 9,
     "metadata": {},
     "output_type": "execute_result"
    }
   ],
   "source": [
    "df.iloc[:,0]"
   ]
  },
  {
   "cell_type": "markdown",
   "id": "83629617",
   "metadata": {},
   "source": [
    " PANDAS DATAFRAME AND INDEX, INSERT COLUMNS AND APPLYING FUNCTION"
   ]
  },
  {
   "cell_type": "code",
   "execution_count": 28,
   "id": "c8c09de3",
   "metadata": {},
   "outputs": [],
   "source": [
    "d ={'Score1':[56,85,23,48,64,78],'Score2':[56,39,43,61,89,94]}\n",
    "df= pd.DataFrame(d)"
   ]
  },
  {
   "cell_type": "code",
   "execution_count": 21,
   "id": "a0dbf02a",
   "metadata": {},
   "outputs": [
    {
     "data": {
      "text/html": [
       "<div>\n",
       "<style scoped>\n",
       "    .dataframe tbody tr th:only-of-type {\n",
       "        vertical-align: middle;\n",
       "    }\n",
       "\n",
       "    .dataframe tbody tr th {\n",
       "        vertical-align: top;\n",
       "    }\n",
       "\n",
       "    .dataframe thead th {\n",
       "        text-align: right;\n",
       "    }\n",
       "</style>\n",
       "<table border=\"1\" class=\"dataframe\">\n",
       "  <thead>\n",
       "    <tr style=\"text-align: right;\">\n",
       "      <th></th>\n",
       "      <th>Score1</th>\n",
       "      <th>Score2</th>\n",
       "    </tr>\n",
       "  </thead>\n",
       "  <tbody>\n",
       "    <tr>\n",
       "      <th>0</th>\n",
       "      <td>56</td>\n",
       "      <td>56</td>\n",
       "    </tr>\n",
       "    <tr>\n",
       "      <th>1</th>\n",
       "      <td>85</td>\n",
       "      <td>39</td>\n",
       "    </tr>\n",
       "    <tr>\n",
       "      <th>2</th>\n",
       "      <td>23</td>\n",
       "      <td>43</td>\n",
       "    </tr>\n",
       "    <tr>\n",
       "      <th>3</th>\n",
       "      <td>48</td>\n",
       "      <td>61</td>\n",
       "    </tr>\n",
       "    <tr>\n",
       "      <th>4</th>\n",
       "      <td>64</td>\n",
       "      <td>89</td>\n",
       "    </tr>\n",
       "    <tr>\n",
       "      <th>5</th>\n",
       "      <td>78</td>\n",
       "      <td>94</td>\n",
       "    </tr>\n",
       "  </tbody>\n",
       "</table>\n",
       "</div>"
      ],
      "text/plain": [
       "   Score1  Score2\n",
       "0      56      56\n",
       "1      85      39\n",
       "2      23      43\n",
       "3      48      61\n",
       "4      64      89\n",
       "5      78      94"
      ]
     },
     "execution_count": 21,
     "metadata": {},
     "output_type": "execute_result"
    }
   ],
   "source": [
    "df"
   ]
  },
  {
   "cell_type": "code",
   "execution_count": 29,
   "id": "ab2da6f9",
   "metadata": {},
   "outputs": [
    {
     "name": "stdout",
     "output_type": "stream",
     "text": [
      "using funtion to dataframes\n"
     ]
    }
   ],
   "source": [
    "print('using funtion to dataframes')\n",
    "def adder(x,y):\n",
    "    return(x+y)\n"
   ]
  },
  {
   "cell_type": "code",
   "execution_count": 30,
   "id": "88a070e6",
   "metadata": {},
   "outputs": [
    {
     "name": "stdout",
     "output_type": "stream",
     "text": [
      "0    58\n",
      "1    87\n",
      "2    25\n",
      "3    50\n",
      "4    66\n",
      "5    80\n",
      "Name: Score1, dtype: int64\n"
     ]
    }
   ],
   "source": [
    "print(df['Score1'].pipe(adder,2))"
   ]
  },
  {
   "cell_type": "code",
   "execution_count": 38,
   "id": "25c69058",
   "metadata": {},
   "outputs": [],
   "source": [
    "names ={1:['Alisa','Bobby','Catherine','Madonna','Rockey','Sebastian']} "
   ]
  },
  {
   "cell_type": "code",
   "execution_count": 39,
   "id": "bff28d10",
   "metadata": {},
   "outputs": [
    {
     "data": {
      "text/plain": [
       "{1: ['Alisa', 'Bobby', 'Catherine', 'Madonna', 'Rockey', 'Sebastian']}"
      ]
     },
     "execution_count": 39,
     "metadata": {},
     "output_type": "execute_result"
    }
   ],
   "source": [
    "names"
   ]
  },
  {
   "cell_type": "code",
   "execution_count": 37,
   "id": "1861433d",
   "metadata": {},
   "outputs": [
    {
     "name": "stdout",
     "output_type": "stream",
     "text": [
      "0    56.0\n",
      "1    85.0\n",
      "2    23.0\n",
      "3    48.0\n",
      "4    64.0\n",
      "5    78.0\n",
      "Name: Score1, dtype: float64\n"
     ]
    }
   ],
   "source": [
    "print(df['Score1'].apply(np.mean))"
   ]
  },
  {
   "cell_type": "code",
   "execution_count": 45,
   "id": "edc22e34",
   "metadata": {},
   "outputs": [],
   "source": [
    "d = {'Name':['Alisa','Bobby','Catherine','Madonna','Rockey','Sebastian','Alisa','Bobby','Catherine', 'Madonna','Rockey','Sebastian'],\n",
    "    'Exam':['Semester1','Semester1','Semester1','Semester1','Semester1','Semester1','Semester2','Semester2','Semester2','Semester2','Semester2','Semester2'],\n",
    "    'Subject':['Mathematics','Mathematics','Mathematics','Science','Science','Science','Mathematics','Mathematics','Mathematics','Science','Science','Science'],\n",
    "    'Score':[62,56,45,69,84,63,52,47,81,52,81,73]}"
   ]
  },
  {
   "cell_type": "code",
   "execution_count": 46,
   "id": "58b2fbe8",
   "metadata": {},
   "outputs": [
    {
     "data": {
      "text/html": [
       "<div>\n",
       "<style scoped>\n",
       "    .dataframe tbody tr th:only-of-type {\n",
       "        vertical-align: middle;\n",
       "    }\n",
       "\n",
       "    .dataframe tbody tr th {\n",
       "        vertical-align: top;\n",
       "    }\n",
       "\n",
       "    .dataframe thead th {\n",
       "        text-align: right;\n",
       "    }\n",
       "</style>\n",
       "<table border=\"1\" class=\"dataframe\">\n",
       "  <thead>\n",
       "    <tr style=\"text-align: right;\">\n",
       "      <th></th>\n",
       "      <th>Name</th>\n",
       "      <th>Exam</th>\n",
       "      <th>Subject</th>\n",
       "      <th>Score</th>\n",
       "    </tr>\n",
       "  </thead>\n",
       "  <tbody>\n",
       "    <tr>\n",
       "      <th>0</th>\n",
       "      <td>Alisa</td>\n",
       "      <td>Semester1</td>\n",
       "      <td>Mathematics</td>\n",
       "      <td>62</td>\n",
       "    </tr>\n",
       "    <tr>\n",
       "      <th>1</th>\n",
       "      <td>Bobby</td>\n",
       "      <td>Semester1</td>\n",
       "      <td>Mathematics</td>\n",
       "      <td>56</td>\n",
       "    </tr>\n",
       "    <tr>\n",
       "      <th>2</th>\n",
       "      <td>Catherine</td>\n",
       "      <td>Semester1</td>\n",
       "      <td>Mathematics</td>\n",
       "      <td>45</td>\n",
       "    </tr>\n",
       "    <tr>\n",
       "      <th>3</th>\n",
       "      <td>Madonna</td>\n",
       "      <td>Semester1</td>\n",
       "      <td>Science</td>\n",
       "      <td>69</td>\n",
       "    </tr>\n",
       "    <tr>\n",
       "      <th>4</th>\n",
       "      <td>Rockey</td>\n",
       "      <td>Semester1</td>\n",
       "      <td>Science</td>\n",
       "      <td>84</td>\n",
       "    </tr>\n",
       "    <tr>\n",
       "      <th>5</th>\n",
       "      <td>Sebastian</td>\n",
       "      <td>Semester1</td>\n",
       "      <td>Science</td>\n",
       "      <td>63</td>\n",
       "    </tr>\n",
       "    <tr>\n",
       "      <th>6</th>\n",
       "      <td>Alisa</td>\n",
       "      <td>Semester2</td>\n",
       "      <td>Mathematics</td>\n",
       "      <td>52</td>\n",
       "    </tr>\n",
       "    <tr>\n",
       "      <th>7</th>\n",
       "      <td>Bobby</td>\n",
       "      <td>Semester2</td>\n",
       "      <td>Mathematics</td>\n",
       "      <td>47</td>\n",
       "    </tr>\n",
       "    <tr>\n",
       "      <th>8</th>\n",
       "      <td>Catherine</td>\n",
       "      <td>Semester2</td>\n",
       "      <td>Mathematics</td>\n",
       "      <td>81</td>\n",
       "    </tr>\n",
       "    <tr>\n",
       "      <th>9</th>\n",
       "      <td>Madonna</td>\n",
       "      <td>Semester2</td>\n",
       "      <td>Science</td>\n",
       "      <td>52</td>\n",
       "    </tr>\n",
       "    <tr>\n",
       "      <th>10</th>\n",
       "      <td>Rockey</td>\n",
       "      <td>Semester2</td>\n",
       "      <td>Science</td>\n",
       "      <td>81</td>\n",
       "    </tr>\n",
       "    <tr>\n",
       "      <th>11</th>\n",
       "      <td>Sebastian</td>\n",
       "      <td>Semester2</td>\n",
       "      <td>Science</td>\n",
       "      <td>73</td>\n",
       "    </tr>\n",
       "  </tbody>\n",
       "</table>\n",
       "</div>"
      ],
      "text/plain": [
       "         Name       Exam      Subject  Score\n",
       "0       Alisa  Semester1  Mathematics     62\n",
       "1       Bobby  Semester1  Mathematics     56\n",
       "2   Catherine  Semester1  Mathematics     45\n",
       "3     Madonna  Semester1      Science     69\n",
       "4      Rockey  Semester1      Science     84\n",
       "5   Sebastian  Semester1      Science     63\n",
       "6       Alisa  Semester2  Mathematics     52\n",
       "7       Bobby  Semester2  Mathematics     47\n",
       "8   Catherine  Semester2  Mathematics     81\n",
       "9     Madonna  Semester2      Science     52\n",
       "10     Rockey  Semester2      Science     81\n",
       "11  Sebastian  Semester2      Science     73"
      ]
     },
     "execution_count": 46,
     "metadata": {},
     "output_type": "execute_result"
    }
   ],
   "source": [
    "df = pd.DataFrame(d)\n",
    "df"
   ]
  },
  {
   "cell_type": "code",
   "execution_count": 48,
   "id": "cfad3c08",
   "metadata": {},
   "outputs": [
    {
     "data": {
      "text/plain": [
       "Name       Exam     \n",
       "Alisa      Semester1    62\n",
       "           Semester2    52\n",
       "Bobby      Semester1    56\n",
       "           Semester2    47\n",
       "Catherine  Semester1    45\n",
       "           Semester2    81\n",
       "Madonna    Semester1    69\n",
       "           Semester2    52\n",
       "Rockey     Semester1    84\n",
       "           Semester2    81\n",
       "Sebastian  Semester1    63\n",
       "           Semester2    73\n",
       "Name: Score, dtype: int64"
      ]
     },
     "execution_count": 48,
     "metadata": {},
     "output_type": "execute_result"
    }
   ],
   "source": [
    "df['Score'].groupby([df['Name'],df['Exam']]).sum()"
   ]
  },
  {
   "cell_type": "code",
   "execution_count": 51,
   "id": "3c2c026d",
   "metadata": {},
   "outputs": [
    {
     "data": {
      "text/html": [
       "<div>\n",
       "<style scoped>\n",
       "    .dataframe tbody tr th:only-of-type {\n",
       "        vertical-align: middle;\n",
       "    }\n",
       "\n",
       "    .dataframe tbody tr th {\n",
       "        vertical-align: top;\n",
       "    }\n",
       "\n",
       "    .dataframe thead th {\n",
       "        text-align: right;\n",
       "    }\n",
       "</style>\n",
       "<table border=\"1\" class=\"dataframe\">\n",
       "  <thead>\n",
       "    <tr style=\"text-align: right;\">\n",
       "      <th></th>\n",
       "      <th></th>\n",
       "      <th>Score</th>\n",
       "    </tr>\n",
       "    <tr>\n",
       "      <th>Subject</th>\n",
       "      <th>Exam</th>\n",
       "      <th></th>\n",
       "    </tr>\n",
       "  </thead>\n",
       "  <tbody>\n",
       "    <tr>\n",
       "      <th rowspan=\"2\" valign=\"top\">Mathematics</th>\n",
       "      <th>Semester1</th>\n",
       "      <td>163</td>\n",
       "    </tr>\n",
       "    <tr>\n",
       "      <th>Semester2</th>\n",
       "      <td>180</td>\n",
       "    </tr>\n",
       "    <tr>\n",
       "      <th rowspan=\"2\" valign=\"top\">Science</th>\n",
       "      <th>Semester1</th>\n",
       "      <td>216</td>\n",
       "    </tr>\n",
       "    <tr>\n",
       "      <th>Semester2</th>\n",
       "      <td>206</td>\n",
       "    </tr>\n",
       "  </tbody>\n",
       "</table>\n",
       "</div>"
      ],
      "text/plain": [
       "                       Score\n",
       "Subject     Exam            \n",
       "Mathematics Semester1    163\n",
       "            Semester2    180\n",
       "Science     Semester1    216\n",
       "            Semester2    206"
      ]
     },
     "execution_count": 51,
     "metadata": {},
     "output_type": "execute_result"
    }
   ],
   "source": [
    "df.groupby(['Subject','Exam']).sum()"
   ]
  },
  {
   "cell_type": "markdown",
   "id": "7fcf7fbf",
   "metadata": {},
   "source": [
    "# PANDAS-To analyse the data in the datastructure for decision making purpose. The data types are series and dataframe."
   ]
  },
  {
   "cell_type": "code",
   "execution_count": 7,
   "id": "3ed4d3fc",
   "metadata": {},
   "outputs": [
    {
     "name": "stdout",
     "output_type": "stream",
     "text": [
      "0    1\n",
      "1    2\n",
      "2    3\n",
      "3    4\n",
      "dtype: int64\n"
     ]
    }
   ],
   "source": [
    "import pandas as pd\n",
    "x= [1,2,3,4]\n",
    "sr=pd.Series(x)\n",
    "print(sr)"
   ]
  },
  {
   "cell_type": "code",
   "execution_count": 8,
   "id": "c71b0af2",
   "metadata": {},
   "outputs": [
    {
     "name": "stdout",
     "output_type": "stream",
     "text": [
      "0    1\n",
      "1    2\n",
      "2    3\n",
      "3    4\n",
      "dtype: int64\n"
     ]
    }
   ],
   "source": [
    "sr=pd.Series([1,2,3,4])\n",
    "print(sr)"
   ]
  },
  {
   "cell_type": "code",
   "execution_count": 9,
   "id": "1e9cc619",
   "metadata": {},
   "outputs": [
    {
     "name": "stdout",
     "output_type": "stream",
     "text": [
      "{'a': 0    1\n",
      "1    2\n",
      "2    3\n",
      "3    4\n",
      "dtype: int64, 'b': 0    3\n",
      "1    4\n",
      "2    5\n",
      "3    6\n",
      "dtype: int64, 'c': 0    6\n",
      "1    7\n",
      "2    8\n",
      "3    9\n",
      "dtype: int64}\n"
     ]
    }
   ],
   "source": [
    "sr1=pd.Series([1,2,3,4])\n",
    "sr2=pd.Series([3,4,5,6])\n",
    "sr3=pd.Series([6,7,8,9])\n",
    "d= {\"a\":sr1,\"b\":sr2,\"c\":sr3}\n",
    "df=pd.DataFrame(d)\n",
    "print(d)"
   ]
  },
  {
   "cell_type": "code",
   "execution_count": 11,
   "id": "2d578054",
   "metadata": {},
   "outputs": [
    {
     "name": "stdout",
     "output_type": "stream",
     "text": [
      "0    1\n",
      "1    2\n",
      "2    3\n",
      "3    4\n",
      "dtype: int64\n",
      "a    1\n",
      "b    2\n",
      "c    3\n",
      "d    4\n",
      "dtype: int64\n"
     ]
    }
   ],
   "source": [
    "import pandas as pd\n",
    "x= [1,2,3,4]\n",
    "sr=pd.Series(x)\n",
    "print(sr)\n",
    "Index=['a','b','c','d']\n",
    "sr=pd.Series(x,Index)\n",
    "print(sr)"
   ]
  },
  {
   "cell_type": "code",
   "execution_count": 13,
   "id": "c10d43d6",
   "metadata": {},
   "outputs": [
    {
     "name": "stdout",
     "output_type": "stream",
     "text": [
      "a    1\n",
      "b    2\n",
      "c    3\n",
      "dtype: int64\n"
     ]
    }
   ],
   "source": [
    "dictionary={\"a\":1,\"b\":2,\"c\":3}\n",
    "sd=pd.Series(dictionary)\n",
    "print(sd)"
   ]
  },
  {
   "cell_type": "code",
   "execution_count": 14,
   "id": "9440bc92",
   "metadata": {},
   "outputs": [
    {
     "name": "stdout",
     "output_type": "stream",
     "text": [
      "0    [1, 2]\n",
      "1    [3, 4]\n",
      "dtype: object\n"
     ]
    }
   ],
   "source": [
    "x= [[1,2],[3,4]]\n",
    "sr=pd.Series(x)\n",
    "print(sr)"
   ]
  },
  {
   "cell_type": "markdown",
   "id": "df9bcb8f",
   "metadata": {},
   "source": [
    "# Dataframes :- are two dimentional data structure of rows and columns"
   ]
  },
  {
   "cell_type": "code",
   "execution_count": 17,
   "id": "b4dc8287",
   "metadata": {},
   "outputs": [
    {
     "name": "stdout",
     "output_type": "stream",
     "text": [
      "1ST WAY TO CREATE DATAFRAME\n",
      "     a  b\n",
      "a  1.0  5\n",
      "b  2.0  6\n",
      "c  3.0  7\n",
      "d  NaN  8\n"
     ]
    }
   ],
   "source": [
    "print('1ST WAY TO CREATE DATAFRAME')\n",
    "d1={\"a\":1,\"b\":2,\"c\":3}\n",
    "d2={\"a\":5,\"b\":6,\"c\":7,\"d\":8}\n",
    "dc={\"a\":d1,\"b\":d2}\n",
    "df=pd.DataFrame(dc)\n",
    "print(df)"
   ]
  },
  {
   "cell_type": "code",
   "execution_count": 18,
   "id": "f923b93c",
   "metadata": {},
   "outputs": [
    {
     "name": "stdout",
     "output_type": "stream",
     "text": [
      "SECOND WAY TO CREATE DATAFRAME\n",
      "   a    b  c\n",
      "0  1  1.1  a\n",
      "1  2  2.2  b\n",
      "2  3  3.3  c\n",
      "3  4  4.4  d\n"
     ]
    }
   ],
   "source": [
    "print(\"SECOND WAY TO CREATE DATAFRAME\")\n",
    "s1=pd.Series( [1,2,3,4])\n",
    "s2=pd.Series([1.1,2.2,3.3,4.4])\n",
    "s3=pd.Series(['a','b','c','d'])\n",
    "Data={'a':s1,'b':s2,'c':s3}\n",
    "dfSeries= pd.DataFrame(Data)\n",
    "print(dfSeries)"
   ]
  },
  {
   "cell_type": "code",
   "execution_count": 22,
   "id": "0ca98818",
   "metadata": {},
   "outputs": [
    {
     "name": "stdout",
     "output_type": "stream",
     "text": [
      "THIRD WAY TO CREATE DATAFRAME\n",
      "           a          b\n",
      "0  [1, 2, 4]  [5, 6, 7]\n",
      "1  [3, 4, 6]  [7, 8, 9]\n"
     ]
    }
   ],
   "source": [
    "print(\"THIRD WAY TO CREATE DATAFRAME\")\n",
    "s1=[[1,2,4],[3,4,6]] \n",
    "s2=[[5,6,7],[7,8,9]]\n",
    "d={\"a\":s1,\"b\":s2}\n",
    "print(pd.DataFrame(d))"
   ]
  },
  {
   "cell_type": "markdown",
   "id": "619a9197",
   "metadata": {},
   "source": [
    "# ACCESSING PARTICULAR VALUES FROM A DATA FRAME"
   ]
  },
  {
   "cell_type": "code",
   "execution_count": 24,
   "id": "2c2bfe47",
   "metadata": {},
   "outputs": [
    {
     "name": "stdout",
     "output_type": "stream",
     "text": [
      "     a  b\n",
      "a  1.0  5\n",
      "b  2.0  6\n",
      "c  3.0  7\n",
      "d  NaN  8\n",
      "1.0 column name and row number\n"
     ]
    }
   ],
   "source": [
    "d1={\"a\":1,\"b\":2,\"c\":3}\n",
    "d2={\"a\":5,\"b\":6,\"c\":7,\"d\":8}\n",
    "dc={\"a\":d1,\"b\":d2}\n",
    "df=pd.DataFrame(dc)\n",
    "print(df)\n",
    "print(df['a'][0],\"column name and row number\")"
   ]
  },
  {
   "cell_type": "markdown",
   "id": "217a6479",
   "metadata": {},
   "source": [
    "# loc[ ] :ACCESSING BY LOCATION BY GIVING NAMES"
   ]
  },
  {
   "cell_type": "code",
   "execution_count": null,
   "id": "83d841bd",
   "metadata": {},
   "outputs": [],
   "source": []
  },
  {
   "cell_type": "code",
   "execution_count": 25,
   "id": "d345759b",
   "metadata": {},
   "outputs": [
    {
     "name": "stdout",
     "output_type": "stream",
     "text": [
      "   a  b  c\n",
      "0  3  1  4\n",
      "1  5  2  5\n",
      "2  6  3  6\n"
     ]
    }
   ],
   "source": [
    "d1=[3,5,6]\n",
    "d2=[1,2,3]\n",
    "d3=[4,5,6]\n",
    "Data={'a':d1,'b':d2,\"c\":d3}\n",
    "df=pd.DataFrame(Data)\n",
    "print(df)"
   ]
  },
  {
   "cell_type": "code",
   "execution_count": 26,
   "id": "3d9ec142",
   "metadata": {},
   "outputs": [
    {
     "name": "stdout",
     "output_type": "stream",
     "text": [
      "access a row\n",
      "a    3\n",
      "b    1\n",
      "c    4\n",
      "Name: 0, dtype: int64\n"
     ]
    }
   ],
   "source": [
    "print(\"access a row\")\n",
    "print(df.loc[0,:])"
   ]
  },
  {
   "cell_type": "code",
   "execution_count": 28,
   "id": "d59ebeff",
   "metadata": {},
   "outputs": [
    {
     "name": "stdout",
     "output_type": "stream",
     "text": [
      "   a  b  c\n",
      "0  3  1  4\n",
      "1  5  2  5 printint 1st and the 2nd row\n"
     ]
    }
   ],
   "source": [
    "print(df.loc[0:1,:],'printint 1st and the 2nd row')"
   ]
  },
  {
   "cell_type": "code",
   "execution_count": 30,
   "id": "d7ab0470",
   "metadata": {},
   "outputs": [
    {
     "name": "stdout",
     "output_type": "stream",
     "text": [
      "0    3\n",
      "1    5\n",
      "2    6\n",
      "Name: a, dtype: int64 printing all the rows and column a\n"
     ]
    }
   ],
   "source": [
    "print(df.loc[:,'a'],'printing all the rows and column a')"
   ]
  },
  {
   "cell_type": "code",
   "execution_count": 31,
   "id": "deb8009d",
   "metadata": {},
   "outputs": [
    {
     "name": "stdout",
     "output_type": "stream",
     "text": [
      "   a  b\n",
      "0  3  1\n",
      "1  5  2\n",
      "2  6  3 printing all the rows and ab column\n"
     ]
    }
   ],
   "source": [
    "print(df.loc[:,'a':'b'],'printing all the rows and ab column')"
   ]
  },
  {
   "cell_type": "markdown",
   "id": "6332e391",
   "metadata": {},
   "source": [
    "# SLICING(iloc())- THE LAST NUMBER IS NOT ACCESSABLE BY INDEX NUMBER"
   ]
  },
  {
   "cell_type": "code",
   "execution_count": null,
   "id": "52a28c29",
   "metadata": {},
   "outputs": [],
   "source": []
  },
  {
   "cell_type": "code",
   "execution_count": 32,
   "id": "dd4f3ab7",
   "metadata": {},
   "outputs": [
    {
     "name": "stdout",
     "output_type": "stream",
     "text": [
      "   a  b  c\n",
      "0  3  1  4\n",
      "1  5  2  5\n",
      "2  6  3  6\n"
     ]
    }
   ],
   "source": [
    "d1=[3,5,6]\n",
    "d2=[1,2,3]\n",
    "d3=[4,5,6]\n",
    "Data={'a':d1,'b':d2,\"c\":d3}\n",
    "df=pd.DataFrame(Data)\n",
    "print(df)\n"
   ]
  },
  {
   "cell_type": "code",
   "execution_count": 36,
   "id": "46dcf340",
   "metadata": {},
   "outputs": [
    {
     "name": "stdout",
     "output_type": "stream",
     "text": [
      "   a  b\n",
      "0  3  1\n",
      "1  5  2 the end rows and columns are not included\n"
     ]
    }
   ],
   "source": [
    "print(df.iloc[0:2,0:2],'the end rows and columns are not included')"
   ]
  },
  {
   "cell_type": "code",
   "execution_count": 44,
   "id": "f9a9f8c5",
   "metadata": {},
   "outputs": [
    {
     "name": "stdout",
     "output_type": "stream",
     "text": [
      "change the value of a particular cell\n"
     ]
    },
    {
     "ename": "TypeError",
     "evalue": "Cannot index by location index with a non-integer key",
     "output_type": "error",
     "traceback": [
      "\u001b[1;31m---------------------------------------------------------------------------\u001b[0m",
      "\u001b[1;31mTypeError\u001b[0m                                 Traceback (most recent call last)",
      "Input \u001b[1;32mIn [44]\u001b[0m, in \u001b[0;36m<module>\u001b[1;34m\u001b[0m\n\u001b[0;32m      1\u001b[0m \u001b[38;5;28mprint\u001b[39m(\u001b[38;5;124m'\u001b[39m\u001b[38;5;124mchange the value of a particular cell\u001b[39m\u001b[38;5;124m'\u001b[39m)\n\u001b[1;32m----> 2\u001b[0m \u001b[43mdf\u001b[49m\u001b[38;5;241;43m.\u001b[39;49m\u001b[43miloc\u001b[49m\u001b[43m[\u001b[49m\u001b[38;5;124;43m'\u001b[39;49m\u001b[38;5;124;43ma\u001b[39;49m\u001b[38;5;124;43m'\u001b[39;49m\u001b[43m]\u001b[49m[\u001b[38;5;241m9\u001b[39m]\u001b[38;5;241m=\u001b[39m\u001b[38;5;241m9\u001b[39m\n",
      "File \u001b[1;32m~\\AppData\\Roaming\\Python\\Python310\\site-packages\\pandas\\core\\indexing.py:967\u001b[0m, in \u001b[0;36m_LocationIndexer.__getitem__\u001b[1;34m(self, key)\u001b[0m\n\u001b[0;32m    964\u001b[0m axis \u001b[38;5;241m=\u001b[39m \u001b[38;5;28mself\u001b[39m\u001b[38;5;241m.\u001b[39maxis \u001b[38;5;129;01mor\u001b[39;00m \u001b[38;5;241m0\u001b[39m\n\u001b[0;32m    966\u001b[0m maybe_callable \u001b[38;5;241m=\u001b[39m com\u001b[38;5;241m.\u001b[39mapply_if_callable(key, \u001b[38;5;28mself\u001b[39m\u001b[38;5;241m.\u001b[39mobj)\n\u001b[1;32m--> 967\u001b[0m \u001b[38;5;28;01mreturn\u001b[39;00m \u001b[38;5;28;43mself\u001b[39;49m\u001b[38;5;241;43m.\u001b[39;49m\u001b[43m_getitem_axis\u001b[49m\u001b[43m(\u001b[49m\u001b[43mmaybe_callable\u001b[49m\u001b[43m,\u001b[49m\u001b[43m \u001b[49m\u001b[43maxis\u001b[49m\u001b[38;5;241;43m=\u001b[39;49m\u001b[43maxis\u001b[49m\u001b[43m)\u001b[49m\n",
      "File \u001b[1;32m~\\AppData\\Roaming\\Python\\Python310\\site-packages\\pandas\\core\\indexing.py:1517\u001b[0m, in \u001b[0;36m_iLocIndexer._getitem_axis\u001b[1;34m(self, key, axis)\u001b[0m\n\u001b[0;32m   1515\u001b[0m key \u001b[38;5;241m=\u001b[39m item_from_zerodim(key)\n\u001b[0;32m   1516\u001b[0m \u001b[38;5;28;01mif\u001b[39;00m \u001b[38;5;129;01mnot\u001b[39;00m is_integer(key):\n\u001b[1;32m-> 1517\u001b[0m     \u001b[38;5;28;01mraise\u001b[39;00m \u001b[38;5;167;01mTypeError\u001b[39;00m(\u001b[38;5;124m\"\u001b[39m\u001b[38;5;124mCannot index by location index with a non-integer key\u001b[39m\u001b[38;5;124m\"\u001b[39m)\n\u001b[0;32m   1519\u001b[0m \u001b[38;5;66;03m# validate the location\u001b[39;00m\n\u001b[0;32m   1520\u001b[0m \u001b[38;5;28mself\u001b[39m\u001b[38;5;241m.\u001b[39m_validate_integer(key, axis)\n",
      "\u001b[1;31mTypeError\u001b[0m: Cannot index by location index with a non-integer key"
     ]
    }
   ],
   "source": [
    "print('change the value of a particular cell')\n",
    "df.iloc['a'][9]=9\n",
    "\n"
   ]
  },
  {
   "cell_type": "code",
   "execution_count": 48,
   "id": "b43d9543",
   "metadata": {},
   "outputs": [
    {
     "name": "stdout",
     "output_type": "stream",
     "text": [
      "0    4\n",
      "1    5\n",
      "2    6\n",
      "dtype: int64\n"
     ]
    }
   ],
   "source": [
    "print(df.max(axis=1))"
   ]
  },
  {
   "cell_type": "code",
   "execution_count": 49,
   "id": "ad82faf0",
   "metadata": {},
   "outputs": [
    {
     "name": "stdout",
     "output_type": "stream",
     "text": [
      "0    1\n",
      "1    2\n",
      "2    3\n",
      "dtype: int64\n"
     ]
    }
   ],
   "source": [
    "print(df.min(axis=1))"
   ]
  },
  {
   "cell_type": "code",
   "execution_count": null,
   "id": "affb4c48",
   "metadata": {},
   "outputs": [],
   "source": [
    "mode()- GIVES THE MAX REPEATION OF VALUE(USE AXIS=1 FOR ROWS)\n",
    "median()- WILL SORT THE COLUMN IN INCREASING ORDER AND THEN RETURN THE VALUES FROM MIDDLE(USE AXIS=1 FOR ROWS)\n",
    "mean()- GIVES THE MEAN VALUE OS EACH ROW IF AXIS IS NOT MENTIONED(USE AXIS=1 FOR ROWS)\n",
    "count()-RETURNS THE TOTAL COUNT OF VALUES COLUMN WISE(USE AXIS=1 FOR ROWS)"
   ]
  },
  {
   "cell_type": "code",
   "execution_count": 50,
   "id": "b65d7149",
   "metadata": {},
   "outputs": [
    {
     "name": "stdout",
     "output_type": "stream",
     "text": [
      "     0    1    2\n",
      "0  1.0  3.0  4.0\n",
      "1  5.0  NaN  NaN\n",
      "2  6.0  NaN  NaN\n"
     ]
    }
   ],
   "source": [
    "print(df.mode(axis=1))"
   ]
  },
  {
   "cell_type": "code",
   "execution_count": 51,
   "id": "b69c7526",
   "metadata": {},
   "outputs": [
    {
     "name": "stdout",
     "output_type": "stream",
     "text": [
      "0    2.666667\n",
      "1    4.000000\n",
      "2    5.000000\n",
      "dtype: float64\n"
     ]
    }
   ],
   "source": [
    "print(df.mean(axis=1))"
   ]
  },
  {
   "cell_type": "code",
   "execution_count": 52,
   "id": "22dcb1b5",
   "metadata": {},
   "outputs": [
    {
     "name": "stdout",
     "output_type": "stream",
     "text": [
      "   a  b   c\n",
      "0  3  1   4\n",
      "1  5  2   5\n",
      "2  6  3   6\n",
      "3  7  4  10\n",
      "4  8  5  12\n",
      "5  9  6  13\n"
     ]
    }
   ],
   "source": [
    "d1=[3,5,6,7,8,9]\n",
    "d2=[1,2,3,4,5,6]\n",
    "d3=[4,5,6,10,12,13]\n",
    "Data={'a':d1,'b':d2,\"c\":d3}\n",
    "df=pd.DataFrame(Data)\n",
    "print(df)"
   ]
  },
  {
   "cell_type": "code",
   "execution_count": 54,
   "id": "c436024a",
   "metadata": {},
   "outputs": [
    {
     "name": "stdout",
     "output_type": "stream",
     "text": [
      "0    3.0\n",
      "1    5.0\n",
      "2    6.0\n",
      "3    7.0\n",
      "4    8.0\n",
      "5    9.0\n",
      "dtype: float64\n"
     ]
    }
   ],
   "source": [
    "print(df.median(axis=1))"
   ]
  },
  {
   "cell_type": "code",
   "execution_count": 55,
   "id": "9223a574",
   "metadata": {},
   "outputs": [
    {
     "name": "stdout",
     "output_type": "stream",
     "text": [
      "a    6\n",
      "b    6\n",
      "c    6\n",
      "dtype: int64\n",
      "0    3\n",
      "1    3\n",
      "2    3\n",
      "3    3\n",
      "4    3\n",
      "5    3\n",
      "dtype: int64\n"
     ]
    }
   ],
   "source": [
    "print(df.count())\n",
    "print(df.count(axis=1))"
   ]
  },
  {
   "cell_type": "code",
   "execution_count": 56,
   "id": "c9268878",
   "metadata": {},
   "outputs": [
    {
     "name": "stdout",
     "output_type": "stream",
     "text": [
      "a    38\n",
      "b    21\n",
      "c    50\n",
      "dtype: int64\n"
     ]
    }
   ],
   "source": [
    "print(df.sum())"
   ]
  },
  {
   "cell_type": "code",
   "execution_count": 60,
   "id": "5e44e14f",
   "metadata": {},
   "outputs": [
    {
     "name": "stdout",
     "output_type": "stream",
     "text": [
      "6 maximium element in the column\n"
     ]
    }
   ],
   "source": [
    "print(df['b'].max(),\"maximium element in the column\")"
   ]
  },
  {
   "cell_type": "code",
   "execution_count": 62,
   "id": "4140306e",
   "metadata": {},
   "outputs": [
    {
     "name": "stdout",
     "output_type": "stream",
     "text": [
      "b    6\n",
      "a    9\n",
      "dtype: int64\n"
     ]
    }
   ],
   "source": [
    "print(df[['b','a']].max())"
   ]
  },
  {
   "cell_type": "markdown",
   "id": "cb64ad8b",
   "metadata": {},
   "source": [
    "# PIVOTING:- HELPS TO SUMMARIZE THE DATA AND CAN BE USED TO TRANSFORMING ROWS INTO COLUMNS"
   ]
  },
  {
   "cell_type": "code",
   "execution_count": 68,
   "id": "2d7926ae",
   "metadata": {},
   "outputs": [
    {
     "name": "stdout",
     "output_type": "stream",
     "text": [
      "       A         B   C\n",
      "0   John    Master  27\n",
      "1   Boby  Graduate  23\n",
      "2  Meena  Graduate  21\n"
     ]
    }
   ],
   "source": [
    "df=pd.DataFrame({'A':['John','Boby','Meena'],\"B\":['Master','Graduate','Graduate'],'C':[27,23,21]})\n",
    "print(df)"
   ]
  },
  {
   "cell_type": "code",
   "execution_count": 69,
   "id": "a4b66721",
   "metadata": {},
   "outputs": [
    {
     "name": "stdout",
     "output_type": "stream",
     "text": [
      "B      Graduate  Master\n",
      "A                      \n",
      "Boby       23.0     NaN\n",
      "John        NaN    27.0\n",
      "Meena      21.0     NaN\n"
     ]
    }
   ],
   "source": [
    "x=df.pivot(index='A',columns='B',values='C')\n",
    "print(x)"
   ]
  },
  {
   "cell_type": "code",
   "execution_count": 70,
   "id": "d09447ed",
   "metadata": {},
   "outputs": [
    {
     "name": "stdout",
     "output_type": "stream",
     "text": [
      "             C               A       \n",
      "B     Graduate Master Graduate Master\n",
      "A                                    \n",
      "Boby        23    NaN     Boby    NaN\n",
      "John       NaN     27      NaN   John\n",
      "Meena       21    NaN    Meena    NaN\n"
     ]
    }
   ],
   "source": [
    "x=df.pivot(index='A',columns='B',values=['C','A'])\n",
    "print(x)"
   ]
  },
  {
   "cell_type": "markdown",
   "id": "f9b36e5f",
   "metadata": {},
   "source": [
    "# PIVOT TABLE"
   ]
  },
  {
   "cell_type": "code",
   "execution_count": null,
   "id": "50b59b3d",
   "metadata": {},
   "outputs": [],
   "source": [
    "import pandas as pd\n",
    "import numpy as np"
   ]
  },
  {
   "cell_type": "code",
   "execution_count": null,
   "id": "1f33f2ec",
   "metadata": {},
   "outputs": [],
   "source": []
  },
  {
   "cell_type": "code",
   "execution_count": null,
   "id": "d51ab9e4",
   "metadata": {},
   "outputs": [],
   "source": []
  },
  {
   "cell_type": "code",
   "execution_count": null,
   "id": "f23da864",
   "metadata": {},
   "outputs": [],
   "source": []
  },
  {
   "cell_type": "code",
   "execution_count": null,
   "id": "faada1f6",
   "metadata": {},
   "outputs": [],
   "source": []
  },
  {
   "cell_type": "code",
   "execution_count": null,
   "id": "5cb30654",
   "metadata": {},
   "outputs": [],
   "source": []
  },
  {
   "cell_type": "code",
   "execution_count": null,
   "id": "416427c9",
   "metadata": {},
   "outputs": [],
   "source": []
  },
  {
   "cell_type": "code",
   "execution_count": null,
   "id": "f847d638",
   "metadata": {},
   "outputs": [],
   "source": []
  },
  {
   "cell_type": "code",
   "execution_count": null,
   "id": "b002e25f",
   "metadata": {},
   "outputs": [],
   "source": []
  },
  {
   "cell_type": "code",
   "execution_count": null,
   "id": "ac916cc1",
   "metadata": {},
   "outputs": [],
   "source": []
  },
  {
   "cell_type": "code",
   "execution_count": null,
   "id": "68aebe1b",
   "metadata": {},
   "outputs": [],
   "source": []
  },
  {
   "cell_type": "code",
   "execution_count": null,
   "id": "b8c8e0e0",
   "metadata": {},
   "outputs": [],
   "source": []
  },
  {
   "cell_type": "code",
   "execution_count": null,
   "id": "5860b265",
   "metadata": {},
   "outputs": [],
   "source": []
  },
  {
   "cell_type": "code",
   "execution_count": null,
   "id": "07b32eac",
   "metadata": {},
   "outputs": [],
   "source": []
  },
  {
   "cell_type": "code",
   "execution_count": null,
   "id": "8da7ae7e",
   "metadata": {},
   "outputs": [],
   "source": []
  },
  {
   "cell_type": "code",
   "execution_count": null,
   "id": "0f6fccc4",
   "metadata": {},
   "outputs": [],
   "source": []
  },
  {
   "cell_type": "code",
   "execution_count": null,
   "id": "4adc6b55",
   "metadata": {},
   "outputs": [],
   "source": []
  },
  {
   "cell_type": "code",
   "execution_count": null,
   "id": "b736a108",
   "metadata": {},
   "outputs": [],
   "source": []
  },
  {
   "cell_type": "code",
   "execution_count": null,
   "id": "58ec4903",
   "metadata": {},
   "outputs": [],
   "source": []
  },
  {
   "cell_type": "code",
   "execution_count": null,
   "id": "8e82dba9",
   "metadata": {},
   "outputs": [],
   "source": []
  },
  {
   "cell_type": "code",
   "execution_count": null,
   "id": "36213e24",
   "metadata": {},
   "outputs": [],
   "source": []
  },
  {
   "cell_type": "code",
   "execution_count": null,
   "id": "8d973b2b",
   "metadata": {},
   "outputs": [],
   "source": []
  },
  {
   "cell_type": "code",
   "execution_count": null,
   "id": "ac23209e",
   "metadata": {},
   "outputs": [],
   "source": []
  },
  {
   "cell_type": "code",
   "execution_count": null,
   "id": "5acc2425",
   "metadata": {},
   "outputs": [],
   "source": []
  },
  {
   "cell_type": "code",
   "execution_count": null,
   "id": "235b92a0",
   "metadata": {},
   "outputs": [],
   "source": []
  },
  {
   "cell_type": "code",
   "execution_count": null,
   "id": "38a99865",
   "metadata": {},
   "outputs": [],
   "source": []
  },
  {
   "cell_type": "code",
   "execution_count": null,
   "id": "5541c40f",
   "metadata": {},
   "outputs": [],
   "source": []
  },
  {
   "cell_type": "code",
   "execution_count": null,
   "id": "75c8a6a2",
   "metadata": {},
   "outputs": [],
   "source": []
  },
  {
   "cell_type": "code",
   "execution_count": null,
   "id": "496c5d0d",
   "metadata": {},
   "outputs": [],
   "source": []
  },
  {
   "cell_type": "code",
   "execution_count": null,
   "id": "016a7bc4",
   "metadata": {},
   "outputs": [],
   "source": []
  },
  {
   "cell_type": "code",
   "execution_count": null,
   "id": "54b226ab",
   "metadata": {},
   "outputs": [],
   "source": []
  },
  {
   "cell_type": "code",
   "execution_count": null,
   "id": "235e5b5f",
   "metadata": {},
   "outputs": [],
   "source": []
  },
  {
   "cell_type": "code",
   "execution_count": null,
   "id": "9c321fe3",
   "metadata": {},
   "outputs": [],
   "source": []
  },
  {
   "cell_type": "code",
   "execution_count": null,
   "id": "b67e0557",
   "metadata": {},
   "outputs": [],
   "source": []
  },
  {
   "cell_type": "code",
   "execution_count": null,
   "id": "140509a4",
   "metadata": {},
   "outputs": [],
   "source": []
  },
  {
   "cell_type": "code",
   "execution_count": null,
   "id": "7d7917f4",
   "metadata": {},
   "outputs": [],
   "source": []
  },
  {
   "cell_type": "code",
   "execution_count": null,
   "id": "7c78c0e7",
   "metadata": {},
   "outputs": [],
   "source": [
    " "
   ]
  },
  {
   "cell_type": "code",
   "execution_count": null,
   "id": "37e9afcf",
   "metadata": {},
   "outputs": [],
   "source": []
  },
  {
   "cell_type": "code",
   "execution_count": null,
   "id": "1eab06ed",
   "metadata": {},
   "outputs": [],
   "source": []
  },
  {
   "cell_type": "code",
   "execution_count": null,
   "id": "d206b342",
   "metadata": {},
   "outputs": [],
   "source": []
  },
  {
   "cell_type": "code",
   "execution_count": null,
   "id": "71020cad",
   "metadata": {},
   "outputs": [],
   "source": []
  },
  {
   "cell_type": "code",
   "execution_count": null,
   "id": "82de2589",
   "metadata": {},
   "outputs": [],
   "source": []
  },
  {
   "cell_type": "code",
   "execution_count": null,
   "id": "0d8d0228",
   "metadata": {},
   "outputs": [],
   "source": []
  },
  {
   "cell_type": "code",
   "execution_count": null,
   "id": "e1321206",
   "metadata": {},
   "outputs": [],
   "source": []
  },
  {
   "cell_type": "code",
   "execution_count": null,
   "id": "ea5ebc11",
   "metadata": {},
   "outputs": [],
   "source": []
  },
  {
   "cell_type": "code",
   "execution_count": null,
   "id": "47159146",
   "metadata": {},
   "outputs": [],
   "source": []
  },
  {
   "cell_type": "code",
   "execution_count": null,
   "id": "182ab588",
   "metadata": {},
   "outputs": [],
   "source": []
  },
  {
   "cell_type": "code",
   "execution_count": null,
   "id": "48de9711",
   "metadata": {},
   "outputs": [],
   "source": []
  },
  {
   "cell_type": "code",
   "execution_count": null,
   "id": "f9cec274",
   "metadata": {},
   "outputs": [],
   "source": []
  },
  {
   "cell_type": "code",
   "execution_count": null,
   "id": "add5fd87",
   "metadata": {},
   "outputs": [],
   "source": []
  },
  {
   "cell_type": "code",
   "execution_count": null,
   "id": "2a6bca6f",
   "metadata": {},
   "outputs": [],
   "source": []
  },
  {
   "cell_type": "code",
   "execution_count": null,
   "id": "9bae66eb",
   "metadata": {},
   "outputs": [],
   "source": []
  },
  {
   "cell_type": "code",
   "execution_count": null,
   "id": "ec5ba1d7",
   "metadata": {},
   "outputs": [],
   "source": []
  },
  {
   "cell_type": "code",
   "execution_count": null,
   "id": "3ae19db6",
   "metadata": {},
   "outputs": [],
   "source": []
  }
 ],
 "metadata": {
  "kernelspec": {
   "display_name": "Python 3 (ipykernel)",
   "language": "python",
   "name": "python3"
  },
  "language_info": {
   "codemirror_mode": {
    "name": "ipython",
    "version": 3
   },
   "file_extension": ".py",
   "mimetype": "text/x-python",
   "name": "python",
   "nbconvert_exporter": "python",
   "pygments_lexer": "ipython3",
   "version": "3.10.3"
  }
 },
 "nbformat": 4,
 "nbformat_minor": 5
}
