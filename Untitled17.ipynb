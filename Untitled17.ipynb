{
 "cells": [
  {
   "cell_type": "code",
   "execution_count": 1,
   "id": "28ca52ba",
   "metadata": {},
   "outputs": [],
   "source": [
    "fr= open(\"guru99.txt\",\"w+\")"
   ]
  },
  {
   "cell_type": "code",
   "execution_count": 19,
   "id": "a0b5ed50",
   "metadata": {},
   "outputs": [],
   "source": [
    "for i in range(10):\n",
    "     fr.write(\"This is line %d\\r\\n\" % (i+1))"
   ]
  },
  {
   "cell_type": "code",
   "execution_count": 17,
   "id": "514630bd",
   "metadata": {},
   "outputs": [
    {
     "name": "stdout",
     "output_type": "stream",
     "text": [
      "[]\n"
     ]
    }
   ],
   "source": [
    "print(fr.readlines())"
   ]
  },
  {
   "cell_type": "code",
   "execution_count": 10,
   "id": "74bb4458",
   "metadata": {},
   "outputs": [
    {
     "data": {
      "text/plain": [
       "16"
      ]
     },
     "execution_count": 10,
     "metadata": {},
     "output_type": "execute_result"
    }
   ],
   "source": [
    "fr.write(\"testing the file\")"
   ]
  },
  {
   "cell_type": "code",
   "execution_count": 8,
   "id": "05d8a3f9",
   "metadata": {},
   "outputs": [
    {
     "name": "stdout",
     "output_type": "stream",
     "text": [
      "\n"
     ]
    }
   ],
   "source": [
    "print(fr.read())"
   ]
  },
  {
   "cell_type": "code",
   "execution_count": 5,
   "id": "5fd0d81d",
   "metadata": {},
   "outputs": [
    {
     "data": {
      "text/plain": [
       "<_io.TextIOWrapper name='guru99.txt' mode='w+' encoding='cp1252'>"
      ]
     },
     "execution_count": 5,
     "metadata": {},
     "output_type": "execute_result"
    }
   ],
   "source": [
    "fr"
   ]
  },
  {
   "cell_type": "code",
   "execution_count": 12,
   "id": "586f29fe",
   "metadata": {},
   "outputs": [],
   "source": [
    "for data in fr:\n",
    "    print(fr.read())"
   ]
  },
  {
   "cell_type": "code",
   "execution_count": 13,
   "id": "f41d8db4",
   "metadata": {},
   "outputs": [],
   "source": [
    "lines = fr.readlines()"
   ]
  },
  {
   "cell_type": "code",
   "execution_count": 15,
   "id": "3b8949f2",
   "metadata": {},
   "outputs": [
    {
     "name": "stdout",
     "output_type": "stream",
     "text": [
      "[]\n"
     ]
    }
   ],
   "source": [
    "print(fr.readlines())"
   ]
  },
  {
   "cell_type": "code",
   "execution_count": null,
   "id": "ad0bc250",
   "metadata": {},
   "outputs": [],
   "source": []
  },
  {
   "cell_type": "code",
   "execution_count": null,
   "id": "d73a7954",
   "metadata": {},
   "outputs": [],
   "source": []
  },
  {
   "cell_type": "code",
   "execution_count": null,
   "id": "c1f1c37d",
   "metadata": {},
   "outputs": [],
   "source": []
  },
  {
   "cell_type": "code",
   "execution_count": null,
   "id": "39ce4ec7",
   "metadata": {},
   "outputs": [],
   "source": []
  }
 ],
 "metadata": {
  "kernelspec": {
   "display_name": "Python 3 (ipykernel)",
   "language": "python",
   "name": "python3"
  },
  "language_info": {
   "codemirror_mode": {
    "name": "ipython",
    "version": 3
   },
   "file_extension": ".py",
   "mimetype": "text/x-python",
   "name": "python",
   "nbconvert_exporter": "python",
   "pygments_lexer": "ipython3",
   "version": "3.10.3"
  }
 },
 "nbformat": 4,
 "nbformat_minor": 5
}
