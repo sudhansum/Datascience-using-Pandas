{
 "cells": [
  {
   "cell_type": "markdown",
   "id": "67ff1c6a",
   "metadata": {},
   "source": [
    "# NUMPY STATISTICS SERIES 3"
   ]
  },
  {
   "cell_type": "markdown",
   "id": "5dbec53d",
   "metadata": {},
   "source": [
    "### COVARIANCE:- Compares two data sets and tells how similar or varying two data sets are\n",
    "2) A high posative covariance between datasets tells they are strongly similar and high negative covariance\n",
    "   explains they are highly dissimilar.\n",
    "3) Shape of the datsets should be same.\n"
   ]
  },
  {
   "cell_type": "code",
   "execution_count": 2,
   "id": "6926884c",
   "metadata": {},
   "outputs": [
    {
     "name": "stdout",
     "output_type": "stream",
     "text": [
      "[[ 2.16666667 -0.3       ]\n",
      " [-0.3         1.1       ]]\n"
     ]
    }
   ],
   "source": [
    "import numpy as np\n",
    "import pandas as pd\n",
    "x = np.array([4,5,6,7,7,8])\n",
    "y= np.array([6,4,3,4,5,5])\n",
    "c=np.cov(x,y)\n",
    "print(c)"
   ]
  },
  {
   "cell_type": "code",
   "execution_count": 4,
   "id": "12e2f217",
   "metadata": {},
   "outputs": [
    {
     "name": "stdout",
     "output_type": "stream",
     "text": [
      "[[ 2.16666667 -0.3         2.13333333]\n",
      " [-0.3         1.1        -0.4       ]\n",
      " [ 2.13333333 -0.4         9.86666667]]\n"
     ]
    }
   ],
   "source": [
    "x= np.array([[4,5,6,7,7,8],[6,4,3,4,5,5],[1,8,4,3,9,7]])\n",
    "c=np.cov(x)\n",
    "print(c)"
   ]
  },
  {
   "cell_type": "markdown",
   "id": "a8cd114c",
   "metadata": {},
   "source": [
    "CORELATION:- When we need to know wheather two datasets are similar or different.\n",
    "  Shape of the data or array should be same"
   ]
  },
  {
   "cell_type": "code",
   "execution_count": 5,
   "id": "eeef500e",
   "metadata": {},
   "outputs": [
    {
     "name": "stdout",
     "output_type": "stream",
     "text": [
      "[[4 5 6 7 7 8]\n",
      " [6 4 3 4 5 5]\n",
      " [1 8 4 3 9 7]]\n",
      "[[ 1.         -0.19432508  0.46139984]\n",
      " [-0.19432508  1.         -0.1214167 ]\n",
      " [ 0.46139984 -0.1214167   1.        ]]\n"
     ]
    }
   ],
   "source": [
    "x= np.array([[4,5,6,7,7,8],[6,4,3,4,5,5],[1,8,4,3,9,7]])\n",
    "print(x)\n",
    "print(np.corrcoef(x))"
   ]
  },
  {
   "cell_type": "markdown",
   "id": "576cc4c3",
   "metadata": {},
   "source": [
    "LINEAR TEGRESSION :- We find out the values of a and b.which will give a straight line graph.\n",
    "     We find the constand values.\n",
    "    It is used in business to evaluate and make estimates or forecast. For Example if a company \n",
    "    sales have increased steadily every month for the past few years by conducting \n",
    "    linear regression analysis on the sales data with monthly sales,the company could forecast sales\n",
    "    in the future."
   ]
  },
  {
   "cell_type": "code",
   "execution_count": 7,
   "id": "cd9f1ce6",
   "metadata": {},
   "outputs": [
    {
     "name": "stdout",
     "output_type": "stream",
     "text": [
      "[-0.13846154  5.35384615] 1 is the degree of the equation\n"
     ]
    }
   ],
   "source": [
    "x = np.array([4,5,6,7,7,8])\n",
    "y = np.array([6,4,3,4,5,5])\n",
    "c=np.polyfit(x,y,1)\n",
    "print(c, '1 is the degree of the equation')"
   ]
  },
  {
   "cell_type": "code",
   "execution_count": null,
   "id": "e2b01d68",
   "metadata": {},
   "outputs": [],
   "source": []
  },
  {
   "cell_type": "code",
   "execution_count": null,
   "id": "afd2d2f9",
   "metadata": {},
   "outputs": [],
   "source": []
  },
  {
   "cell_type": "code",
   "execution_count": null,
   "id": "c5381c54",
   "metadata": {},
   "outputs": [],
   "source": []
  },
  {
   "cell_type": "code",
   "execution_count": null,
   "id": "4a14fdb1",
   "metadata": {},
   "outputs": [],
   "source": []
  }
 ],
 "metadata": {
  "kernelspec": {
   "display_name": "Python 3 (ipykernel)",
   "language": "python",
   "name": "python3"
  },
  "language_info": {
   "codemirror_mode": {
    "name": "ipython",
    "version": 3
   },
   "file_extension": ".py",
   "mimetype": "text/x-python",
   "name": "python",
   "nbconvert_exporter": "python",
   "pygments_lexer": "ipython3",
   "version": "3.10.3"
  }
 },
 "nbformat": 4,
 "nbformat_minor": 5
}
