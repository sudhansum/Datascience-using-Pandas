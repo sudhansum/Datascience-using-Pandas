{
 "cells": [
  {
   "cell_type": "markdown",
   "id": "d4bd9f1c",
   "metadata": {},
   "source": [
    "FUNCTIONAL PROGRAMMING"
   ]
  },
  {
   "cell_type": "code",
   "execution_count": 1,
   "id": "b08853f9",
   "metadata": {},
   "outputs": [
    {
     "data": {
      "text/plain": [
       "'FUNCTIONS ARE TREATED AS FIRS CLASS OBJECTS\\n'"
      ]
     },
     "execution_count": 1,
     "metadata": {},
     "output_type": "execute_result"
    }
   ],
   "source": [
    "'''FUNCTIONS ARE TREATED AS FIRS CLASS OBJECTS\n",
    "'''\n"
   ]
  },
  {
   "cell_type": "code",
   "execution_count": 5,
   "id": "4e78ad08",
   "metadata": {},
   "outputs": [
    {
     "name": "stdout",
     "output_type": "stream",
     "text": [
      "hello\n"
     ]
    }
   ],
   "source": [
    "def fun():\n",
    "    return 'hello'\n",
    "\n",
    "x=fun()\n",
    "print(x)    "
   ]
  },
  {
   "cell_type": "code",
   "execution_count": 8,
   "id": "21663f54",
   "metadata": {},
   "outputs": [
    {
     "name": "stdout",
     "output_type": "stream",
     "text": [
      "<function fun at 0x000002D329729CF0> <class 'function'>\n"
     ]
    }
   ],
   "source": [
    "print(fun,type(fun))"
   ]
  },
  {
   "cell_type": "code",
   "execution_count": 10,
   "id": "bf864d0b",
   "metadata": {},
   "outputs": [
    {
     "name": "stdout",
     "output_type": "stream",
     "text": [
      "hello\n"
     ]
    }
   ],
   "source": [
    "print(x)"
   ]
  },
  {
   "cell_type": "markdown",
   "id": "23dad7e7",
   "metadata": {},
   "source": [
    "  PASSING FUNCTION TO ANOTHER FUNCTION AS AN ARGUMENT"
   ]
  },
  {
   "cell_type": "code",
   "execution_count": null,
   "id": "a4517a37",
   "metadata": {},
   "outputs": [],
   "source": [
    "# SORT(KEY=NONE,REVERSE= FLASE)"
   ]
  },
  {
   "cell_type": "code",
   "execution_count": 12,
   "id": "5aac6cad",
   "metadata": {},
   "outputs": [
    {
     "name": "stdout",
     "output_type": "stream",
     "text": [
      "['Anaconda', 'Atom', 'Pycharm', 'python']\n"
     ]
    }
   ],
   "source": [
    "x =['python','Anaconda','Pycharm','Atom']\n",
    "x.sort()\n",
    "print(x)"
   ]
  },
  {
   "cell_type": "code",
   "execution_count": 13,
   "id": "1557c7f3",
   "metadata": {},
   "outputs": [
    {
     "name": "stdout",
     "output_type": "stream",
     "text": [
      "['python', 'Pycharm', 'Atom', 'Anaconda']\n"
     ]
    }
   ],
   "source": [
    "x =['python','Anaconda','Pycharm','Atom']\n",
    "x.sort(reverse = True)\n",
    "print(x,'printing in decending order')"
   ]
  },
  {
   "cell_type": "code",
   "execution_count": 14,
   "id": "098816c1",
   "metadata": {},
   "outputs": [
    {
     "name": "stdout",
     "output_type": "stream",
     "text": [
      "['Atom', 'python', 'Pycharm', 'Anaconda'] sorting in length\n"
     ]
    }
   ],
   "source": [
    "x =['python','Anaconda','Pycharm','Atom']\n",
    "x.sort(key=len)\n",
    "print(x,'sorting in length')"
   ]
  },
  {
   "cell_type": "markdown",
   "id": "25727979",
   "metadata": {},
   "source": [
    "\"\"\"\n",
    "map(function,iterable)\n",
    "def add():\n",
    "    return a+b\n",
    "def div(a,b):\n",
    "    return a/f\n",
    "def compute(fun,a,b):\n",
    "    return fun(a,b)\n",
    "\n",
    "compute(add,2,3)\n",
    "compute(div,2,3) \"\"\""
   ]
  },
  {
   "cell_type": "markdown",
   "id": "3ae53964",
   "metadata": {},
   "source": [
    "RETURNING A FUNCTION FROM ANOTHER FUNCTION"
   ]
  },
  {
   "cell_type": "code",
   "execution_count": 27,
   "id": "c1f3ac9d",
   "metadata": {},
   "outputs": [
    {
     "name": "stdout",
     "output_type": "stream",
     "text": [
      "Area = 153.90900000000002\n",
      "<function compute.<locals>.area at 0x000002D32B0C1510>\n"
     ]
    }
   ],
   "source": [
    "def compute():\n",
    "    pi =3.141\n",
    "    def area(r):\n",
    "        a=pi*r*r\n",
    "        print('Area =',a)\n",
    "    return area \n",
    "    \n",
    "x=compute() \n",
    "x(7)\n",
    "print(x)\n"
   ]
  },
  {
   "cell_type": "code",
   "execution_count": null,
   "id": "dd657990",
   "metadata": {},
   "outputs": [],
   "source": [
    "def compute():\n",
    "    pi =3.141\n",
    "    def area(r):\n",
    "        a=pi*r*r\n",
    "        print('Area =',a)\n",
    "    area(5)  \n",
    "    \n",
    "compute()"
   ]
  },
  {
   "cell_type": "code",
   "execution_count": 25,
   "id": "dc4c812b",
   "metadata": {},
   "outputs": [
    {
     "ename": "SyntaxError",
     "evalue": "invalid syntax (3730943447.py, line 1)",
     "output_type": "error",
     "traceback": [
      "\u001b[1;36m  Input \u001b[1;32mIn [25]\u001b[1;36m\u001b[0m\n\u001b[1;33m    global x =20\u001b[0m\n\u001b[1;37m             ^\u001b[0m\n\u001b[1;31mSyntaxError\u001b[0m\u001b[1;31m:\u001b[0m invalid syntax\n"
     ]
    }
   ],
   "source": [
    "# how to call the global variable inside the function\n",
    "'''global x =20\n",
    "def fun():\n",
    "    x=10\n",
    "    print(globals()['x'],x)\n",
    "\n",
    "fun()'''\n",
    "    "
   ]
  },
  {
   "cell_type": "markdown",
   "id": "404c3ff1",
   "metadata": {},
   "source": [
    "# 2 CLOSURES IN PYTHON OR NONLOCAL VARIABLES FOR DATA HIDING"
   ]
  },
  {
   "cell_type": "code",
   "execution_count": 28,
   "id": "c950bc7e",
   "metadata": {},
   "outputs": [
    {
     "name": "stdout",
     "output_type": "stream",
     "text": [
      "1\n",
      "1\n",
      "1\n"
     ]
    }
   ],
   "source": [
    "def counter():\n",
    "    c =1\n",
    "    print(c)\n",
    "    c+=1\n",
    "    \n",
    "for i in range(3):\n",
    "    counter()"
   ]
  },
  {
   "cell_type": "code",
   "execution_count": null,
   "id": "2dfe5a70",
   "metadata": {},
   "outputs": [],
   "source": [
    "c =1\n",
    "def counter():\n",
    "    global c\n",
    "    print(c)\n",
    "    c+=1\n",
    "    \n",
    "for i in range(3):\n",
    "    counter()"
   ]
  },
  {
   "cell_type": "code",
   "execution_count": 29,
   "id": "25f1fbae",
   "metadata": {},
   "outputs": [
    {
     "name": "stdout",
     "output_type": "stream",
     "text": [
      "-999\n",
      "-998\n",
      "-997\n"
     ]
    }
   ],
   "source": [
    "c =1\n",
    "def counter():\n",
    "    global c\n",
    "    print(c)\n",
    "    c+=1\n",
    "    \n",
    "def virus():\n",
    "    global c\n",
    "    c=-999\n",
    "virus()\n",
    "    \n",
    "for i in range(3):\n",
    "    counter()"
   ]
  },
  {
   "cell_type": "code",
   "execution_count": 32,
   "id": "0ecf5425",
   "metadata": {},
   "outputs": [
    {
     "name": "stdout",
     "output_type": "stream",
     "text": [
      "1\n",
      "2\n",
      "3\n",
      "using NONLOCAL THE VIRUS FUNCTION WILL HAVE NO EFFECT\n"
     ]
    }
   ],
   "source": [
    "def counter():\n",
    "    c=1\n",
    "    def inc():\n",
    "        nonlocal c\n",
    "        print(c)\n",
    "        c+=1\n",
    "    return inc\n",
    "    \n",
    "x = counter()\n",
    "for i in range(3):\n",
    "    x()\n",
    "print(\"using NONLOCAL THE VIRUS FUNCTION WILL HAVE NO EFFECT\")"
   ]
  },
  {
   "cell_type": "raw",
   "id": "c5fd9ceb",
   "metadata": {},
   "source": []
  },
  {
   "cell_type": "markdown",
   "id": "dd271cf1",
   "metadata": {},
   "source": [
    "# 3 DECORATORS"
   ]
  },
  {
   "cell_type": "code",
   "execution_count": 44,
   "id": "73056524",
   "metadata": {},
   "outputs": [
    {
     "name": "stdout",
     "output_type": "stream",
     "text": [
      "cannot divide with zero\n"
     ]
    }
   ],
   "source": [
    "\n",
    "def smartdiv(fun):\n",
    "    def compute(a,b):\n",
    "        if b==0:\n",
    "            return ('cannot divide with zero')\n",
    "        else:\n",
    "            return fun(a/b)\n",
    "    return compute\n",
    "\n",
    "@smartdiv\n",
    "def div(a,b):\n",
    "    return a/b\n",
    "\n",
    "print(div(2,0))"
   ]
  },
  {
   "cell_type": "code",
   "execution_count": 36,
   "id": "afea077f",
   "metadata": {},
   "outputs": [
    {
     "name": "stdout",
     "output_type": "stream",
     "text": [
      "5\n",
      "0.6666666666666666\n"
     ]
    }
   ],
   "source": [
    "def add(a,b):\n",
    "    return a+b\n",
    "def div(a,b):\n",
    "    return a/b\n",
    "def compute(fun_name,a,b):\n",
    "    return fun(a,b)\n",
    "\n",
    "print(compute(add,2,3))\n",
    "print(compute(div,2,3))"
   ]
  },
  {
   "cell_type": "code",
   "execution_count": null,
   "id": "c1671536",
   "metadata": {},
   "outputs": [],
   "source": []
  },
  {
   "cell_type": "code",
   "execution_count": null,
   "id": "7a5d35af",
   "metadata": {},
   "outputs": [],
   "source": []
  },
  {
   "cell_type": "code",
   "execution_count": null,
   "id": "5ef046a5",
   "metadata": {},
   "outputs": [],
   "source": []
  },
  {
   "cell_type": "code",
   "execution_count": null,
   "id": "dae4d225",
   "metadata": {},
   "outputs": [],
   "source": []
  },
  {
   "cell_type": "code",
   "execution_count": null,
   "id": "89dd9430",
   "metadata": {},
   "outputs": [],
   "source": []
  },
  {
   "cell_type": "code",
   "execution_count": null,
   "id": "15c8bdd5",
   "metadata": {},
   "outputs": [],
   "source": []
  },
  {
   "cell_type": "code",
   "execution_count": null,
   "id": "e2c5821d",
   "metadata": {},
   "outputs": [],
   "source": []
  },
  {
   "cell_type": "code",
   "execution_count": null,
   "id": "60674537",
   "metadata": {},
   "outputs": [],
   "source": []
  },
  {
   "cell_type": "code",
   "execution_count": null,
   "id": "a2ff0d74",
   "metadata": {},
   "outputs": [],
   "source": []
  },
  {
   "cell_type": "code",
   "execution_count": null,
   "id": "2338ef9c",
   "metadata": {},
   "outputs": [],
   "source": []
  },
  {
   "cell_type": "code",
   "execution_count": null,
   "id": "b9e2d441",
   "metadata": {},
   "outputs": [],
   "source": []
  },
  {
   "cell_type": "code",
   "execution_count": null,
   "id": "294ddaa5",
   "metadata": {},
   "outputs": [],
   "source": []
  },
  {
   "cell_type": "code",
   "execution_count": null,
   "id": "a39b04f3",
   "metadata": {},
   "outputs": [],
   "source": []
  },
  {
   "cell_type": "code",
   "execution_count": null,
   "id": "c297c31f",
   "metadata": {},
   "outputs": [],
   "source": []
  },
  {
   "cell_type": "code",
   "execution_count": null,
   "id": "904d42d3",
   "metadata": {},
   "outputs": [],
   "source": []
  },
  {
   "cell_type": "code",
   "execution_count": null,
   "id": "77348a5d",
   "metadata": {},
   "outputs": [],
   "source": []
  },
  {
   "cell_type": "code",
   "execution_count": null,
   "id": "62a50de3",
   "metadata": {},
   "outputs": [],
   "source": []
  }
 ],
 "metadata": {
  "kernelspec": {
   "display_name": "Python 3 (ipykernel)",
   "language": "python",
   "name": "python3"
  },
  "language_info": {
   "codemirror_mode": {
    "name": "ipython",
    "version": 3
   },
   "file_extension": ".py",
   "mimetype": "text/x-python",
   "name": "python",
   "nbconvert_exporter": "python",
   "pygments_lexer": "ipython3",
   "version": "3.10.3"
  }
 },
 "nbformat": 4,
 "nbformat_minor": 5
}
