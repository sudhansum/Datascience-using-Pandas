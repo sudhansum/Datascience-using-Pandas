{
 "cells": [
  {
   "cell_type": "code",
   "execution_count": 1,
   "id": "a547a8ac",
   "metadata": {},
   "outputs": [],
   "source": [
    "import csv\n",
    "import numpy as np\n",
    "import matplotlib.pyplot as plt"
   ]
  },
  {
   "cell_type": "code",
   "execution_count": 21,
   "id": "5436b4a3",
   "metadata": {},
   "outputs": [
    {
     "name": "stdout",
     "output_type": "stream",
     "text": [
      "['2500']\n",
      "['1500']\n",
      "['5200']\n",
      "['9200']\n",
      "['1200']\n",
      "['1500']\n",
      "['21100']\n",
      "['2500', '2630']\n",
      "['1500', '1200']\n",
      "['5200', '5100']\n",
      "['9200', '6100']\n",
      "['1200', '2100']\n",
      "['1500', '1200']\n",
      "['21100', '18330']\n",
      "['2500', '2630', '2140']\n",
      "['1500', '1200', '1340']\n",
      "['5200', '5100', '4550']\n",
      "['9200', '6100', '9550']\n",
      "['1200', '2100', '3550']\n",
      "['1500', '1200', '1340']\n",
      "['21100', '18330', '22470']\n",
      "['2500', '2630', '2140', '3400']\n",
      "['1500', '1200', '1340', '1130']\n",
      "['5200', '5100', '4550', '5870']\n",
      "['9200', '6100', '9550', '8870']\n",
      "['1200', '2100', '3550', '1870']\n",
      "['1500', '1200', '1340', '1130']\n",
      "['21100', '18330', '22470', '22270']\n",
      "['2500', '2630', '2140', '3400', '3600']\n",
      "['1500', '1200', '1340', '1130', '1740']\n",
      "['5200', '5100', '4550', '5870', '4560']\n",
      "['9200', '6100', '9550', '8870', '7760']\n",
      "['1200', '2100', '3550', '1870', '1560']\n",
      "['1500', '1200', '1340', '1130', '1740']\n",
      "['21100', '18330', '22470', '22270', '20960']\n",
      "['2500', '2630', '2140', '3400', '3600', '2760']\n",
      "['1500', '1200', '1340', '1130', '1740', '1555']\n",
      "['5200', '5100', '4550', '5870', '4560', '4890']\n",
      "['9200', '6100', '9550', '8870', '7760', '7490']\n",
      "['1200', '2100', '3550', '1870', '1560', '1890']\n",
      "['1500', '1200', '1340', '1130', '1740', '1555']\n",
      "['21100', '18330', '22470', '22270', '20960', '20140']\n",
      "['2500', '2630', '2140', '3400', '3600', '2760', '2980']\n",
      "['1500', '1200', '1340', '1130', '1740', '1555', '1120']\n",
      "['5200', '5100', '4550', '5870', '4560', '4890', '4780']\n",
      "['9200', '6100', '9550', '8870', '7760', '7490', '8980']\n",
      "['1200', '2100', '3550', '1870', '1560', '1890', '1780']\n",
      "['1500', '1200', '1340', '1130', '1740', '1555', '1120']\n",
      "['21100', '18330', '22470', '22270', '20960', '20140', '29550']\n",
      "['2500', '2630', '2140', '3400', '3600', '2760', '2980', '3700']\n",
      "['1500', '1200', '1340', '1130', '1740', '1555', '1120', '1400']\n",
      "['5200', '5100', '4550', '5870', '4560', '4890', '4780', '5860']\n",
      "['9200', '6100', '9550', '8870', '7760', '7490', '8980', '9960']\n",
      "['1200', '2100', '3550', '1870', '1560', '1890', '1780', '2860']\n",
      "['1500', '1200', '1340', '1130', '1740', '1555', '1120', '1400']\n",
      "['21100', '18330', '22470', '22270', '20960', '20140', '29550', '36140']\n",
      "['2500', '2630', '2140', '3400', '3600', '2760', '2980', '3700', '3540']\n",
      "['1500', '1200', '1340', '1130', '1740', '1555', '1120', '1400', '1780']\n",
      "['5200', '5100', '4550', '5870', '4560', '4890', '4780', '5860', '6100']\n",
      "['9200', '6100', '9550', '8870', '7760', '7490', '8980', '9960', '8100']\n",
      "['1200', '2100', '3550', '1870', '1560', '1890', '1780', '2860', '2100']\n",
      "['1500', '1200', '1340', '1130', '1740', '1555', '1120', '1400', '1780']\n",
      "['21100', '18330', '22470', '22270', '20960', '20140', '29550', '36140', '23400']\n",
      "['2500', '2630', '2140', '3400', '3600', '2760', '2980', '3700', '3540', '1990']\n",
      "['1500', '1200', '1340', '1130', '1740', '1555', '1120', '1400', '1780', '1890']\n",
      "['5200', '5100', '4550', '5870', '4560', '4890', '4780', '5860', '6100', '8300']\n",
      "['9200', '6100', '9550', '8870', '7760', '7490', '8980', '9960', '8100', '10300']\n",
      "['1200', '2100', '3550', '1870', '1560', '1890', '1780', '2860', '2100', '2300']\n",
      "['1500', '1200', '1340', '1130', '1740', '1555', '1120', '1400', '1780', '1890']\n",
      "['21100', '18330', '22470', '22270', '20960', '20140', '29550', '36140', '23400', '26670']\n",
      "['2500', '2630', '2140', '3400', '3600', '2760', '2980', '3700', '3540', '1990', '2340']\n",
      "['1500', '1200', '1340', '1130', '1740', '1555', '1120', '1400', '1780', '1890', '2100']\n",
      "['5200', '5100', '4550', '5870', '4560', '4890', '4780', '5860', '6100', '8300', '7300']\n",
      "['9200', '6100', '9550', '8870', '7760', '7490', '8980', '9960', '8100', '10300', '13300']\n",
      "['1200', '2100', '3550', '1870', '1560', '1890', '1780', '2860', '2100', '2300', '2400']\n",
      "['1500', '1200', '1340', '1130', '1740', '1555', '1120', '1400', '1780', '1890', '2100']\n",
      "['21100', '18330', '22470', '22270', '20960', '20140', '29550', '36140', '23400', '26670', '41280']\n",
      "['2500', '2630', '2140', '3400', '3600', '2760', '2980', '3700', '3540', '1990', '2340', '2900']\n",
      "['1500', '1200', '1340', '1130', '1740', '1555', '1120', '1400', '1780', '1890', '2100', '1760']\n",
      "['5200', '5100', '4550', '5870', '4560', '4890', '4780', '5860', '6100', '8300', '7300', '7400']\n",
      "['9200', '6100', '9550', '8870', '7760', '7490', '8980', '9960', '8100', '10300', '13300', '14400']\n",
      "['1200', '2100', '3550', '1870', '1560', '1890', '1780', '2860', '2100', '2300', '2400', '1800']\n",
      "['1500', '1200', '1340', '1130', '1740', '1555', '1120', '1400', '1780', '1890', '2100', '1760']\n",
      "['21100', '18330', '22470', '22270', '20960', '20140', '29550', '36140', '23400', '26670', '41280', '30020']\n"
     ]
    },
    {
     "ename": "ValueError",
     "evalue": "'label' must be of length 'x'",
     "output_type": "error",
     "traceback": [
      "\u001b[1;31m---------------------------------------------------------------------------\u001b[0m",
      "\u001b[1;31mValueError\u001b[0m                                Traceback (most recent call last)",
      "Input \u001b[1;32mIn [21]\u001b[0m, in \u001b[0;36m<module>\u001b[1;34m\u001b[0m\n\u001b[0;32m     33\u001b[0m c\u001b[38;5;241m=\u001b[39m[\u001b[38;5;124m'\u001b[39m\u001b[38;5;124my\u001b[39m\u001b[38;5;124m'\u001b[39m,\u001b[38;5;124m'\u001b[39m\u001b[38;5;124mc\u001b[39m\u001b[38;5;124m'\u001b[39m,\u001b[38;5;124m'\u001b[39m\u001b[38;5;124mm\u001b[39m\u001b[38;5;124m'\u001b[39m,\u001b[38;5;124m'\u001b[39m\u001b[38;5;124mb\u001b[39m\u001b[38;5;124m'\u001b[39m,\u001b[38;5;124m'\u001b[39m\u001b[38;5;124my\u001b[39m\u001b[38;5;124m'\u001b[39m,\u001b[38;5;124m'\u001b[39m\u001b[38;5;124mc\u001b[39m\u001b[38;5;124m'\u001b[39m,\u001b[38;5;124m'\u001b[39m\u001b[38;5;124mm\u001b[39m\u001b[38;5;124m'\u001b[39m,\u001b[38;5;124m'\u001b[39m\u001b[38;5;124mb\u001b[39m\u001b[38;5;124m'\u001b[39m]\n\u001b[0;32m     34\u001b[0m \u001b[38;5;66;03m#e=[0.1,0,0,0,0,0,0,0]\u001b[39;00m\n\u001b[1;32m---> 35\u001b[0m \u001b[43mplt\u001b[49m\u001b[38;5;241;43m.\u001b[39;49m\u001b[43mpie\u001b[49m\u001b[43m(\u001b[49m\u001b[43mslices\u001b[49m\u001b[43m,\u001b[49m\u001b[43mlabels\u001b[49m\u001b[38;5;241;43m=\u001b[39;49m\u001b[43mlabels\u001b[49m\u001b[43m,\u001b[49m\u001b[43mcolors\u001b[49m\u001b[38;5;241;43m=\u001b[39;49m\u001b[43mc\u001b[49m\u001b[43m,\u001b[49m\u001b[43mshadow\u001b[49m\u001b[38;5;241;43m=\u001b[39;49m\u001b[38;5;28;43;01mTrue\u001b[39;49;00m\u001b[43m,\u001b[49m\u001b[43m)\u001b[49m\n\u001b[0;32m     36\u001b[0m plt\u001b[38;5;241m.\u001b[39mshow()\n",
      "File \u001b[1;32m~\\AppData\\Roaming\\Python\\Python310\\site-packages\\matplotlib\\pyplot.py:2744\u001b[0m, in \u001b[0;36mpie\u001b[1;34m(x, explode, labels, colors, autopct, pctdistance, shadow, labeldistance, startangle, radius, counterclock, wedgeprops, textprops, center, frame, rotatelabels, normalize, data)\u001b[0m\n\u001b[0;32m   2737\u001b[0m \u001b[38;5;129m@_copy_docstring_and_deprecators\u001b[39m(Axes\u001b[38;5;241m.\u001b[39mpie)\n\u001b[0;32m   2738\u001b[0m \u001b[38;5;28;01mdef\u001b[39;00m \u001b[38;5;21mpie\u001b[39m(\n\u001b[0;32m   2739\u001b[0m         x, explode\u001b[38;5;241m=\u001b[39m\u001b[38;5;28;01mNone\u001b[39;00m, labels\u001b[38;5;241m=\u001b[39m\u001b[38;5;28;01mNone\u001b[39;00m, colors\u001b[38;5;241m=\u001b[39m\u001b[38;5;28;01mNone\u001b[39;00m, autopct\u001b[38;5;241m=\u001b[39m\u001b[38;5;28;01mNone\u001b[39;00m,\n\u001b[1;32m   (...)\u001b[0m\n\u001b[0;32m   2742\u001b[0m         textprops\u001b[38;5;241m=\u001b[39m\u001b[38;5;28;01mNone\u001b[39;00m, center\u001b[38;5;241m=\u001b[39m(\u001b[38;5;241m0\u001b[39m, \u001b[38;5;241m0\u001b[39m), frame\u001b[38;5;241m=\u001b[39m\u001b[38;5;28;01mFalse\u001b[39;00m,\n\u001b[0;32m   2743\u001b[0m         rotatelabels\u001b[38;5;241m=\u001b[39m\u001b[38;5;28;01mFalse\u001b[39;00m, \u001b[38;5;241m*\u001b[39m, normalize\u001b[38;5;241m=\u001b[39m\u001b[38;5;28;01mTrue\u001b[39;00m, data\u001b[38;5;241m=\u001b[39m\u001b[38;5;28;01mNone\u001b[39;00m):\n\u001b[1;32m-> 2744\u001b[0m     \u001b[38;5;28;01mreturn\u001b[39;00m gca()\u001b[38;5;241m.\u001b[39mpie(\n\u001b[0;32m   2745\u001b[0m         x, explode\u001b[38;5;241m=\u001b[39mexplode, labels\u001b[38;5;241m=\u001b[39mlabels, colors\u001b[38;5;241m=\u001b[39mcolors,\n\u001b[0;32m   2746\u001b[0m         autopct\u001b[38;5;241m=\u001b[39mautopct, pctdistance\u001b[38;5;241m=\u001b[39mpctdistance, shadow\u001b[38;5;241m=\u001b[39mshadow,\n\u001b[0;32m   2747\u001b[0m         labeldistance\u001b[38;5;241m=\u001b[39mlabeldistance, startangle\u001b[38;5;241m=\u001b[39mstartangle,\n\u001b[0;32m   2748\u001b[0m         radius\u001b[38;5;241m=\u001b[39mradius, counterclock\u001b[38;5;241m=\u001b[39mcounterclock,\n\u001b[0;32m   2749\u001b[0m         wedgeprops\u001b[38;5;241m=\u001b[39mwedgeprops, textprops\u001b[38;5;241m=\u001b[39mtextprops, center\u001b[38;5;241m=\u001b[39mcenter,\n\u001b[0;32m   2750\u001b[0m         frame\u001b[38;5;241m=\u001b[39mframe, rotatelabels\u001b[38;5;241m=\u001b[39mrotatelabels, normalize\u001b[38;5;241m=\u001b[39mnormalize,\n\u001b[0;32m   2751\u001b[0m         \u001b[38;5;241m*\u001b[39m\u001b[38;5;241m*\u001b[39m({\u001b[38;5;124m\"\u001b[39m\u001b[38;5;124mdata\u001b[39m\u001b[38;5;124m\"\u001b[39m: data} \u001b[38;5;28;01mif\u001b[39;00m data \u001b[38;5;129;01mis\u001b[39;00m \u001b[38;5;129;01mnot\u001b[39;00m \u001b[38;5;28;01mNone\u001b[39;00m \u001b[38;5;28;01melse\u001b[39;00m {}))\n",
      "File \u001b[1;32m~\\AppData\\Roaming\\Python\\Python310\\site-packages\\matplotlib\\__init__.py:1412\u001b[0m, in \u001b[0;36m_preprocess_data.<locals>.inner\u001b[1;34m(ax, data, *args, **kwargs)\u001b[0m\n\u001b[0;32m   1409\u001b[0m \u001b[38;5;129m@functools\u001b[39m\u001b[38;5;241m.\u001b[39mwraps(func)\n\u001b[0;32m   1410\u001b[0m \u001b[38;5;28;01mdef\u001b[39;00m \u001b[38;5;21minner\u001b[39m(ax, \u001b[38;5;241m*\u001b[39margs, data\u001b[38;5;241m=\u001b[39m\u001b[38;5;28;01mNone\u001b[39;00m, \u001b[38;5;241m*\u001b[39m\u001b[38;5;241m*\u001b[39mkwargs):\n\u001b[0;32m   1411\u001b[0m     \u001b[38;5;28;01mif\u001b[39;00m data \u001b[38;5;129;01mis\u001b[39;00m \u001b[38;5;28;01mNone\u001b[39;00m:\n\u001b[1;32m-> 1412\u001b[0m         \u001b[38;5;28;01mreturn\u001b[39;00m func(ax, \u001b[38;5;241m*\u001b[39m\u001b[38;5;28mmap\u001b[39m(sanitize_sequence, args), \u001b[38;5;241m*\u001b[39m\u001b[38;5;241m*\u001b[39mkwargs)\n\u001b[0;32m   1414\u001b[0m     bound \u001b[38;5;241m=\u001b[39m new_sig\u001b[38;5;241m.\u001b[39mbind(ax, \u001b[38;5;241m*\u001b[39margs, \u001b[38;5;241m*\u001b[39m\u001b[38;5;241m*\u001b[39mkwargs)\n\u001b[0;32m   1415\u001b[0m     auto_label \u001b[38;5;241m=\u001b[39m (bound\u001b[38;5;241m.\u001b[39marguments\u001b[38;5;241m.\u001b[39mget(label_namer)\n\u001b[0;32m   1416\u001b[0m                   \u001b[38;5;129;01mor\u001b[39;00m bound\u001b[38;5;241m.\u001b[39mkwargs\u001b[38;5;241m.\u001b[39mget(label_namer))\n",
      "File \u001b[1;32m~\\AppData\\Roaming\\Python\\Python310\\site-packages\\matplotlib\\axes\\_axes.py:3060\u001b[0m, in \u001b[0;36mAxes.pie\u001b[1;34m(self, x, explode, labels, colors, autopct, pctdistance, shadow, labeldistance, startangle, radius, counterclock, wedgeprops, textprops, center, frame, rotatelabels, normalize)\u001b[0m\n\u001b[0;32m   3058\u001b[0m     explode \u001b[38;5;241m=\u001b[39m [\u001b[38;5;241m0\u001b[39m] \u001b[38;5;241m*\u001b[39m \u001b[38;5;28mlen\u001b[39m(x)\n\u001b[0;32m   3059\u001b[0m \u001b[38;5;28;01mif\u001b[39;00m \u001b[38;5;28mlen\u001b[39m(x) \u001b[38;5;241m!=\u001b[39m \u001b[38;5;28mlen\u001b[39m(labels):\n\u001b[1;32m-> 3060\u001b[0m     \u001b[38;5;28;01mraise\u001b[39;00m \u001b[38;5;167;01mValueError\u001b[39;00m(\u001b[38;5;124m\"\u001b[39m\u001b[38;5;124m'\u001b[39m\u001b[38;5;124mlabel\u001b[39m\u001b[38;5;124m'\u001b[39m\u001b[38;5;124m must be of length \u001b[39m\u001b[38;5;124m'\u001b[39m\u001b[38;5;124mx\u001b[39m\u001b[38;5;124m'\u001b[39m\u001b[38;5;124m\"\u001b[39m)\n\u001b[0;32m   3061\u001b[0m \u001b[38;5;28;01mif\u001b[39;00m \u001b[38;5;28mlen\u001b[39m(x) \u001b[38;5;241m!=\u001b[39m \u001b[38;5;28mlen\u001b[39m(explode):\n\u001b[0;32m   3062\u001b[0m     \u001b[38;5;28;01mraise\u001b[39;00m \u001b[38;5;167;01mValueError\u001b[39;00m(\u001b[38;5;124m\"\u001b[39m\u001b[38;5;124m'\u001b[39m\u001b[38;5;124mexplode\u001b[39m\u001b[38;5;124m'\u001b[39m\u001b[38;5;124m must be of length \u001b[39m\u001b[38;5;124m'\u001b[39m\u001b[38;5;124mx\u001b[39m\u001b[38;5;124m'\u001b[39m\u001b[38;5;124m\"\u001b[39m)\n",
      "\u001b[1;31mValueError\u001b[0m: 'label' must be of length 'x'"
     ]
    },
    {
     "data": {
      "image/png": "[encoded data removed]",
      "text/plain": [
       "<Figure size 432x288 with 1 Axes>"
      ]
     },
     "metadata": {
      "needs_background": "light"
     },
     "output_type": "display_data"
    }
   ],
   "source": [
    "with open(\"company_sales_data.csv\")as fr:\n",
    "    data = csv.reader(fr)\n",
    "    next(data)\n",
    "    facecream=[]\n",
    "    facewash=[]\n",
    "    toothpaste=[]\n",
    "    bathingsoap=[]\n",
    "    shampoo=[]\n",
    "    moisturizer=[]\n",
    "    total_profit=[]\n",
    "    \n",
    "    \n",
    "#     for i in data:\n",
    "#         print(i)\n",
    "        \n",
    "    for i in data:\n",
    "        facecream.append(i[1])\n",
    "        facewash.append(i[2])\n",
    "        toothpaste.append(i[3])\n",
    "        bathingsoap.append(i[4])\n",
    "        shampoo.append(i[5])\n",
    "        moisturizer.append(i[6])\n",
    "        total_profit.append(i[7])\n",
    "        print(facecream)\n",
    "        print(facewash)\n",
    "        print(toothpaste)\n",
    "        print(bathingsoap)\n",
    "        print(shampoo)\n",
    "        print(moisturizer)\n",
    "        print(total_profit)\n",
    "labels=['toothpaste','facecream','facewash','toothpaste','bathingsoap','shampoo','moisturizer','total_profit']\n",
    "slices=[4,5,6,1,4]\n",
    "c=['y','c','m','b','y','c','m','b']\n",
    "#e=[0.1,0,0,0,0,0,0,0]\n",
    "plt.pie(slices,labels=labels,colors=c,shadow=True,)\n",
    "plt.show()\n",
    "\n",
    "    "
   ]
  },
  {
   "cell_type": "code",
   "execution_count": null,
   "id": "8b2b5d69",
   "metadata": {},
   "outputs": [],
   "source": []
  },
  {
   "cell_type": "code",
   "execution_count": null,
   "id": "382fea49",
   "metadata": {},
   "outputs": [],
   "source": []
  },
  {
   "cell_type": "code",
   "execution_count": null,
   "id": "f268f7ae",
   "metadata": {},
   "outputs": [],
   "source": []
  },
  {
   "cell_type": "code",
   "execution_count": null,
   "id": "309cc55f",
   "metadata": {},
   "outputs": [],
   "source": []
  },
  {
   "cell_type": "code",
   "execution_count": null,
   "id": "a1b5a5c6",
   "metadata": {},
   "outputs": [],
   "source": []
  },
  {
   "cell_type": "code",
   "execution_count": null,
   "id": "16ab478b",
   "metadata": {},
   "outputs": [],
   "source": []
  },
  {
   "cell_type": "code",
   "execution_count": null,
   "id": "121b2a68",
   "metadata": {},
   "outputs": [],
   "source": []
  },
  {
   "cell_type": "code",
   "execution_count": null,
   "id": "d9a4ba4b",
   "metadata": {},
   "outputs": [],
   "source": []
  },
  {
   "cell_type": "code",
   "execution_count": null,
   "id": "334e5dc8",
   "metadata": {},
   "outputs": [],
   "source": []
  },
  {
   "cell_type": "code",
   "execution_count": null,
   "id": "e817237f",
   "metadata": {},
   "outputs": [],
   "source": []
  },
  {
   "cell_type": "code",
   "execution_count": null,
   "id": "b08fe2a2",
   "metadata": {},
   "outputs": [],
   "source": []
  },
  {
   "cell_type": "code",
   "execution_count": null,
   "id": "46d71e8a",
   "metadata": {},
   "outputs": [],
   "source": []
  },
  {
   "cell_type": "code",
   "execution_count": null,
   "id": "8b301047",
   "metadata": {},
   "outputs": [],
   "source": []
  },
  {
   "cell_type": "code",
   "execution_count": null,
   "id": "40bdf71e",
   "metadata": {},
   "outputs": [],
   "source": []
  },
  {
   "cell_type": "code",
   "execution_count": null,
   "id": "52ee626f",
   "metadata": {},
   "outputs": [],
   "source": []
  },
  {
   "cell_type": "code",
   "execution_count": null,
   "id": "4fab620f",
   "metadata": {},
   "outputs": [],
   "source": []
  },
  {
   "cell_type": "code",
   "execution_count": null,
   "id": "37a374c6",
   "metadata": {},
   "outputs": [],
   "source": []
  },
  {
   "cell_type": "code",
   "execution_count": null,
   "id": "9e9b675d",
   "metadata": {},
   "outputs": [],
   "source": []
  },
  {
   "cell_type": "code",
   "execution_count": null,
   "id": "a98f281e",
   "metadata": {},
   "outputs": [],
   "source": []
  },
  {
   "cell_type": "code",
   "execution_count": null,
   "id": "a4e367f9",
   "metadata": {},
   "outputs": [],
   "source": []
  }
 ],
 "metadata": {
  "kernelspec": {
   "display_name": "Python 3 (ipykernel)",
   "language": "python",
   "name": "python3"
  },
  "language_info": {
   "codemirror_mode": {
    "name": "ipython",
    "version": 3
   },
   "file_extension": ".py",
   "mimetype": "text/x-python",
   "name": "python",
   "nbconvert_exporter": "python",
   "pygments_lexer": "ipython3",
   "version": "3.10.3"
  }
 },
 "nbformat": 4,
 "nbformat_minor": 5
}
