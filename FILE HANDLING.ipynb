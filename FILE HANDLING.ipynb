{
 "cells": [
  {
   "cell_type": "markdown",
   "id": "b7584828",
   "metadata": {},
   "source": [
    "# FILES"
   ]
  },
  {
   "cell_type": "code",
   "execution_count": 1,
   "id": "33e680d8",
   "metadata": {},
   "outputs": [],
   "source": [
    "import sys"
   ]
  },
  {
   "cell_type": "code",
   "execution_count": 22,
   "id": "0a035f3c",
   "metadata": {},
   "outputs": [],
   "source": [
    "fr = open('poem.txt')"
   ]
  },
  {
   "cell_type": "code",
   "execution_count": 35,
   "id": "a5a1a230",
   "metadata": {},
   "outputs": [
    {
     "name": "stdout",
     "output_type": "stream",
     "text": [
      "Behold her, single in the field,\n",
      " Yon solitary Highland Lass!\n",
      " Reaping and singing by herself;\n",
      " A voice so thrilling ne'er was heard\n",
      " In spring-time from the Cuckoo-bird,\n",
      " Breaking the silence of the seas\n",
      " Among the farthest Hebrides.adding data as listadding to the end of the lineadding data as listadding to the end of the lineadding data as listadding to the end of the lineadding data as listadding to the end of the lineadding data as listadding to the end of the lineusing flushfn to add the data in the buffer to the text fileIndiastudying python  "
     ]
    }
   ],
   "source": [
    "fr = open(\"poem.txt\",'r')\n",
    "str = \" \"\n",
    "while str:\n",
    "    str=fr.readline()\n",
    "    print(str,end=\" \")\n",
    "# str = fr.read()\n",
    "# print(str)\n",
    "fr.close()"
   ]
  },
  {
   "cell_type": "code",
   "execution_count": 34,
   "id": "a6e5be68",
   "metadata": {},
   "outputs": [
    {
     "name": "stdout",
     "output_type": "stream",
     "text": [
      "Behold her, single in the field,\n",
      "\n",
      "Yon solitary Highland Lass!\n",
      "\n",
      "Reaping and singing by herself;\n",
      "\n",
      "A voice so thrilling ne'er was heard\n",
      "\n",
      "In spring-time from the Cuckoo-bird,\n",
      "\n",
      "Breaking the silence of the seas\n",
      "\n",
      "Among the farthest Hebrides.adding data as listadding to the end of the lineadding data as listadding to the end of the lineadding data as listadding to the end of the lineadding data as listadding to the end of the lineadding data as listadding to the end of the lineusing flushfn to add the data in the buffer to the text fileIndiastudying python\n"
     ]
    }
   ],
   "source": [
    "fr = open('poem.txt')\n",
    "for line in fr:\n",
    "    print(line)"
   ]
  },
  {
   "cell_type": "code",
   "execution_count": null,
   "id": "ad869b2a",
   "metadata": {},
   "outputs": [],
   "source": []
  },
  {
   "cell_type": "markdown",
   "id": "82420740",
   "metadata": {},
   "source": [
    "# DISPLAY THE SIZE OF A FILE AFTER REMOVING THE END OF LINE CHARACTERS(EOL) AND BLANK SPACES USING STRIP() FUNCTION"
   ]
  },
  {
   "cell_type": "code",
   "execution_count": 26,
   "id": "f29e4256",
   "metadata": {},
   "outputs": [
    {
     "name": "stdout",
     "output_type": "stream",
     "text": [
      "size of file after removing EOL and blank lines = 491\n",
      "the total size of files = 507\n"
     ]
    }
   ],
   "source": [
    "fr = open('poem.txt')\n",
    "str1 = ' '\n",
    "size =0\n",
    "tsize =0\n",
    "while str1:\n",
    "    str1= fr.readline()\n",
    "    tsize=tsize+len(str1)\n",
    "    size = size+len(str1.strip())\n",
    "print(\"size of file after removing EOL and blank lines =\",size)\n",
    "print('the total size of files =',tsize)\n",
    "fr.close()"
   ]
  },
  {
   "cell_type": "markdown",
   "id": "428d65e6",
   "metadata": {},
   "source": [
    "# write a program to read the complete file as a list"
   ]
  },
  {
   "cell_type": "code",
   "execution_count": 27,
   "id": "b86c104f",
   "metadata": {},
   "outputs": [
    {
     "name": "stdout",
     "output_type": "stream",
     "text": [
      "reading the complete file in a list\n",
      "['Behold her, single in the field,\\n', 'Yon solitary Highland Lass!\\n', 'Reaping and singing by herself;\\n', 'Stop here, or gently pass!\\n', 'Alone she cuts and binds the grain,\\n', 'And sings a melancholy strain;\\n', 'O listen! for the Vale profound\\n', 'Is overflowing with the sound.\\n', '\\n', 'No Nightingale did ever chaunt\\n', 'More welcome notes to weary bands\\n', 'Of travellers in some shady haunt,\\n', 'Among Arabian sands:\\n', \"A voice so thrilling ne'er was heard\\n\", 'In spring-time from the Cuckoo-bird,\\n', 'Breaking the silence of the seas\\n', 'Among the farthest Hebrides.']\n"
     ]
    }
   ],
   "source": [
    "print(\"reading the complete file in a list\")\n",
    "fr = open('poem.txt')\n",
    "lst= fr.readlines()\n",
    "print(lst)\n",
    "fr.close()"
   ]
  },
  {
   "cell_type": "markdown",
   "id": "ac3f4c8b",
   "metadata": {},
   "source": [
    "# write a program to display the size of a file in bytes"
   ]
  },
  {
   "cell_type": "code",
   "execution_count": 33,
   "id": "cee7b136",
   "metadata": {},
   "outputs": [
    {
     "name": "stdout",
     "output_type": "stream",
     "text": [
      "Behold her, single in the field,\n",
      "Yon solitary Highland Lass!\n",
      "Reaping and singing by herself;\n",
      "A voice so thrilling ne'er was heard\n",
      "In spring-time from the Cuckoo-bird,\n",
      "Breaking the silence of the seas\n",
      "Among the farthest Hebrides.adding data as listadding to the end of the lineadding data as listadding to the end of the lineadding data as listadding to the end of the lineadding data as listadding to the end of the lineadding data as listadding to the end of the lineusing flushfn to add the data in the buffer to the text fileIndiastudying python\n"
     ]
    }
   ],
   "source": [
    "fr = open('poem.txt')\n",
    "str = fr.read()\n",
    "print(str)"
   ]
  },
  {
   "cell_type": "markdown",
   "id": "fc8b673f",
   "metadata": {},
   "source": [
    "# write a program to display the size of a file in bytes"
   ]
  },
  {
   "cell_type": "code",
   "execution_count": 5,
   "id": "fbb091ed",
   "metadata": {},
   "outputs": [
    {
     "name": "stdout",
     "output_type": "stream",
     "text": [
      "the size of the file in bytes is 507\n"
     ]
    }
   ],
   "source": [
    "fr = open('poem.txt')\n",
    "str= len(fr.read())\n",
    "print(\"the size of the file in bytes is\", str)"
   ]
  },
  {
   "cell_type": "markdown",
   "id": "276a96c4",
   "metadata": {},
   "source": [
    "# Read line by line"
   ]
  },
  {
   "cell_type": "code",
   "execution_count": 8,
   "id": "a10886a4",
   "metadata": {},
   "outputs": [
    {
     "name": "stdout",
     "output_type": "stream",
     "text": [
      "Behold her, single in the field,\n",
      "\n",
      "Yon solitary Highland Lass!\n",
      "\n",
      "Reaping and singing by herself;\n",
      "\n"
     ]
    }
   ],
   "source": [
    "fr = open('poem.txt')\n",
    "s1=fr.readline()\n",
    "print(s1)\n",
    "s2=fr.readline()\n",
    "print(s2)\n",
    "s3=fr.readline()\n",
    "print(s3)\n",
    "fr.close()"
   ]
  },
  {
   "cell_type": "markdown",
   "id": "441955ac",
   "metadata": {},
   "source": [
    "# PROGRAM TO DISPLAY THE NUMBER OF LINES IN A FILE"
   ]
  },
  {
   "cell_type": "code",
   "execution_count": 9,
   "id": "774378f6",
   "metadata": {},
   "outputs": [
    {
     "name": "stdout",
     "output_type": "stream",
     "text": [
      "17\n"
     ]
    }
   ],
   "source": [
    "fr = open('poem.txt')\n",
    "str= len(fr.readlines())\n",
    "print(str)"
   ]
  },
  {
   "cell_type": "markdown",
   "id": "0e165b4a",
   "metadata": {},
   "source": [
    "# WRITELINES()"
   ]
  },
  {
   "cell_type": "code",
   "execution_count": 17,
   "id": "2a2500b1",
   "metadata": {},
   "outputs": [],
   "source": [
    "fr = open('poem.txt','a')\n",
    "ln = [\"adding data as list\",\"adding to the end of the line\"]\n",
    "fr.writelines(ln)\n",
    "fr.close()\n"
   ]
  },
  {
   "cell_type": "code",
   "execution_count": 32,
   "id": "0271c5fb",
   "metadata": {},
   "outputs": [
    {
     "name": "stdout",
     "output_type": "stream",
     "text": [
      "TO CHECK THE NEW LINES ARE ADDED USING THE APPEND /'a'/ \n",
      "Behold her, single in the field,\n",
      "Yon solitary Highland Lass!\n",
      "Reaping and singing by herself;\n",
      "A voice so thrilling ne'er was heard\n",
      "In spring-time from the Cuckoo-bird,\n",
      "Breaking the silence of the seas\n",
      "Among the farthest Hebrides.adding data as listadding to the end of the lineadding data as listadding to the end of the lineadding data as listadding to the end of the lineadding data as listadding to the end of the lineadding data as listadding to the end of the lineusing flushfn to add the data in the buffer to the text fileIndiastudying python\n"
     ]
    }
   ],
   "source": [
    "print(\"TO CHECK THE NEW LINES ARE ADDED USING THE APPEND /'a'/ \" )\n",
    "fr = open('poem.txt')\n",
    "str = fr.read()\n",
    "print(str)"
   ]
  },
  {
   "cell_type": "markdown",
   "id": "309995c8",
   "metadata": {},
   "source": [
    "# FLUSH() FORCES THE WRITING OF DATA TO THE DISC STILL PENDING IN THE BUFFER"
   ]
  },
  {
   "cell_type": "code",
   "execution_count": 20,
   "id": "f34ddd06",
   "metadata": {},
   "outputs": [],
   "source": [
    "fr = open('poem.txt','a')\n",
    "fr.write(\"using flushfn to add the data in the buffer to the text file\")\n",
    "fr.flush()\n",
    "s= \"India\"\n",
    "fr.write(s)\n",
    "fr.write(\"studying python\")\n",
    "fr.flush()\n",
    "fr.close()"
   ]
  },
  {
   "cell_type": "code",
   "execution_count": 31,
   "id": "13b79dc0",
   "metadata": {},
   "outputs": [
    {
     "name": "stdout",
     "output_type": "stream",
     "text": [
      "Behold her, single in the field,\n",
      "Yon solitary Highland Lass!\n",
      "Reaping and singing by herself;\n",
      "A voice so thrilling ne'er was heard\n",
      "In spring-time from the Cuckoo-bird,\n",
      "Breaking the silence of the seas\n",
      "Among the farthest Hebrides.adding data as listadding to the end of the lineadding data as listadding to the end of the lineadding data as listadding to the end of the lineadding data as listadding to the end of the lineadding data as listadding to the end of the lineusing flushfn to add the data in the buffer to the text fileIndiastudying python\n"
     ]
    }
   ],
   "source": [
    "fr = open('poem.txt')\n",
    "str= fr.read()\n",
    "print(str)\n",
    "fr.close()"
   ]
  },
  {
   "cell_type": "markdown",
   "id": "aaa36f3c",
   "metadata": {},
   "source": [
    "# FUNCTION LSTRIP() AND RSTRIP()"
   ]
  },
  {
   "cell_type": "code",
   "execution_count": 36,
   "id": "435080ee",
   "metadata": {},
   "outputs": [
    {
     "name": "stdout",
     "output_type": "stream",
     "text": [
      "Behold her, single in the field,\n",
      "Yon solitary Highland Lass!\n",
      "Reaping and singing by herself;\n",
      "A voice so thrilling ne'er was heard\n",
      "In spring-time from the Cuckoo-bird,\n",
      "Breaking the silence of the seas\n",
      "Among the farthest Hebrides.adding data as listadding to the end of the lineadding data as listadding to the end of the lineadding data as listadding to the end of the lineadding data as listadding to the end of the lineadding data as listadding to the end of the lineusing flushfn to add the data in the buffer to the text fileIndiastudying python\n",
      "\n",
      "the lefthand data ie BEHOLD is stripped from the text\n",
      "hold her, single in the field,\n",
      "Yon solitary Highland Lass!\n",
      "Reaping and singing by herself;\n",
      "A voice so thrilling ne'er was heard\n",
      "In spring-time from the Cuckoo-bird,\n",
      "Breaking the silence of the seas\n",
      "Among the farthest Hebrides.adding data as listadding to the end of the lineadding data as listadding to the end of the lineadding data as listadding to the end of the lineadding data as listadding to the end of the lineadding data as listadding to the end of the lineusing flushfn to add the data in the buffer to the text fileIndiastudying python\n"
     ]
    }
   ],
   "source": [
    "fr = open('poem.txt')\n",
    "str= fr.read()\n",
    "print(str)\n",
    "stp= str.lstrip(\"Be\")\n",
    "print()\n",
    "print(\"the lefthand data ie BEHOLD is stripped from the text\")\n",
    "print(stp)\n",
    "fr.close()\n"
   ]
  },
  {
   "cell_type": "code",
   "execution_count": 37,
   "id": "a76c8add",
   "metadata": {},
   "outputs": [
    {
     "name": "stdout",
     "output_type": "stream",
     "text": [
      "Behold her, single in the field,\n",
      "Yon solitary Highland Lass!\n",
      "Reaping and singing by herself;\n",
      "A voice so thrilling ne'er was heard\n",
      "In spring-time from the Cuckoo-bird,\n",
      "Breaking the silence of the seas\n",
      "Among the farthest Hebrides.adding data as listadding to the end of the lineadding data as listadding to the end of the lineadding data as listadding to the end of the lineadding data as listadding to the end of the lineadding data as listadding to the end of the lineusing flushfn to add the data in the buffer to the text fileIndiastudying python\n",
      "\n",
      "THE RIGHTHAND DATA IS STRIPPED ie python\n",
      "Behold her, single in the field,\n",
      "Yon solitary Highland Lass!\n",
      "Reaping and singing by herself;\n",
      "A voice so thrilling ne'er was heard\n",
      "In spring-time from the Cuckoo-bird,\n",
      "Breaking the silence of the seas\n",
      "Among the farthest Hebrides.adding data as listadding to the end of the lineadding data as listadding to the end of the lineadding data as listadding to the end of the lineadding data as listadding to the end of the lineadding data as listadding to the end of the lineusing flushfn to add the data in the buffer to the text fileIndiastudying \n"
     ]
    }
   ],
   "source": [
    "fr = open('poem.txt')\n",
    "str= fr.read()\n",
    "print(str)\n",
    "stp= str.rstrip(\"python\")\n",
    "print()\n",
    "print(\"THE RIGHTHAND DATA IS STRIPPED ie python\")\n",
    "print(stp)\n",
    "fr.close()"
   ]
  },
  {
   "cell_type": "markdown",
   "id": "898be315",
   "metadata": {},
   "source": [
    "# FILE POINTER"
   ]
  },
  {
   "cell_type": "code",
   "execution_count": 38,
   "id": "9e1b43c7",
   "metadata": {},
   "outputs": [],
   "source": [
    "import sys"
   ]
  },
  {
   "cell_type": "code",
   "execution_count": 41,
   "id": "58b98dc8",
   "metadata": {},
   "outputs": [
    {
     "name": "stdout",
     "output_type": "stream",
     "text": [
      "Behold her, single in the field,\n"
     ]
    },
    {
     "name": "stderr",
     "output_type": "stream",
     "text": [
      "\n",
      " no errors occured"
     ]
    },
    {
     "data": {
      "text/plain": [
       "19"
      ]
     },
     "execution_count": 41,
     "metadata": {},
     "output_type": "execute_result"
    }
   ],
   "source": [
    "fr = open('poem.txt')\n",
    "l1 =fr.readline()\n",
    "sys.stdout.write(l1)\n",
    "sys.stderr.write('\\n no errors occured')"
   ]
  },
  {
   "cell_type": "code",
   "execution_count": null,
   "id": "5dc21cca",
   "metadata": {},
   "outputs": [],
   "source": []
  },
  {
   "cell_type": "markdown",
   "id": "f16762eb",
   "metadata": {},
   "source": [
    "# CODE SNIPPETS"
   ]
  },
  {
   "cell_type": "markdown",
   "id": "c85589cd",
   "metadata": {},
   "source": [
    "Q> create a file to hold some data\n"
   ]
  },
  {
   "cell_type": "code",
   "execution_count": 46,
   "id": "8d5e230a",
   "metadata": {},
   "outputs": [
    {
     "name": "stdout",
     "output_type": "stream",
     "text": [
      "Enter the name of the students test\n",
      "Enter the name of the students rest\n",
      "Enter the name of the students python\n",
      "Enter the name of the students java\n",
      "Enter the name of the students c++\n"
     ]
    }
   ],
   "source": [
    "fr = open('Student.txt','w')\n",
    "for i in range(5):\n",
    "    name=input(\"Enter the name of the students \")\n",
    "    fr.write(name)\n",
    "    fr.write('\\n')\n",
    "fr.close()"
   ]
  },
  {
   "cell_type": "markdown",
   "id": "a97f1f74",
   "metadata": {},
   "source": [
    "# Q> CREATING A FILE WITH NAMES SEPARATED BY A NEWLINE CHARACTER WIHTOUT USING WRITE()"
   ]
  },
  {
   "cell_type": "code",
   "execution_count": 55,
   "id": "2985a381",
   "metadata": {},
   "outputs": [
    {
     "name": "stdout",
     "output_type": "stream",
     "text": [
      "Enter the name of the studentsff\n",
      "Enter the name of the studentshh\n",
      "Enter the name of the studentsrr\n",
      "Enter the name of the studentsww\n",
      "Enter the name of the studentsdd\n"
     ]
    },
    {
     "ename": "TypeError",
     "evalue": "'NoneType' object is not iterable",
     "output_type": "error",
     "traceback": [
      "\u001b[1;31m---------------------------------------------------------------------------\u001b[0m",
      "\u001b[1;31mTypeError\u001b[0m                                 Traceback (most recent call last)",
      "Input \u001b[1;32mIn [55]\u001b[0m, in \u001b[0;36m<module>\u001b[1;34m\u001b[0m\n\u001b[0;32m      4\u001b[0m     name\u001b[38;5;241m=\u001b[39m\u001b[38;5;28minput\u001b[39m(\u001b[38;5;124m\"\u001b[39m\u001b[38;5;124mEnter the name of the students\u001b[39m\u001b[38;5;124m\"\u001b[39m)\n\u001b[0;32m      5\u001b[0m     lst \u001b[38;5;241m=\u001b[39mlst\u001b[38;5;241m.\u001b[39mappend(name\u001b[38;5;241m+\u001b[39m\u001b[38;5;124m'\u001b[39m\u001b[38;5;130;01m\\n\u001b[39;00m\u001b[38;5;124m'\u001b[39m)\n\u001b[1;32m----> 7\u001b[0m \u001b[43mfr\u001b[49m\u001b[38;5;241;43m.\u001b[39;49m\u001b[43mwritelines\u001b[49m\u001b[43m(\u001b[49m\u001b[43mlst\u001b[49m\u001b[43m)\u001b[49m\n\u001b[0;32m      8\u001b[0m fr\u001b[38;5;241m.\u001b[39mclose()\n",
      "\u001b[1;31mTypeError\u001b[0m: 'NoneType' object is not iterable"
     ]
    }
   ],
   "source": [
    "fr = open('Student.txt',\"w+\")\n",
    "for i in range(5):\n",
    "    lst =[]\n",
    "    name=input(\"Enter the name of the students\")\n",
    "    lst =lst.append(name+'\\n')\n",
    "    \n",
    "fr.writelines(lst)\n",
    "fr.close()\n"
   ]
  },
  {
   "cell_type": "markdown",
   "id": "80dfa745",
   "metadata": {},
   "source": [
    "Q> WRITE A PROGRAM TO GET THE MARKS OF A STUDENT OF A CLASS FROM THE USER AND STORE THE DETAILS IN A FILE"
   ]
  },
  {
   "cell_type": "code",
   "execution_count": 61,
   "id": "211dae98",
   "metadata": {},
   "outputs": [
    {
     "name": "stdout",
     "output_type": "stream",
     "text": [
      "how many students are there in the class2\n",
      "enter student details 1 below:\n",
      "Rollno23\n",
      "Namess\n",
      "Marks34\n"
     ]
    },
    {
     "ename": "TypeError",
     "evalue": "'str' object is not callable",
     "output_type": "error",
     "traceback": [
      "\u001b[1;31m---------------------------------------------------------------------------\u001b[0m",
      "\u001b[1;31mTypeError\u001b[0m                                 Traceback (most recent call last)",
      "Input \u001b[1;32mIn [61]\u001b[0m, in \u001b[0;36m<module>\u001b[1;34m\u001b[0m\n\u001b[0;32m      7\u001b[0m     name \u001b[38;5;241m=\u001b[39m \u001b[38;5;28minput\u001b[39m(\u001b[38;5;124m'\u001b[39m\u001b[38;5;124mName\u001b[39m\u001b[38;5;124m'\u001b[39m)\n\u001b[0;32m      8\u001b[0m     marks \u001b[38;5;241m=\u001b[39m \u001b[38;5;28minput\u001b[39m(\u001b[38;5;124m\"\u001b[39m\u001b[38;5;124mMarks\u001b[39m\u001b[38;5;124m\"\u001b[39m)\n\u001b[1;32m----> 9\u001b[0m     rec \u001b[38;5;241m=\u001b[39m \u001b[38;5;28;43mstr\u001b[39;49m\u001b[43m(\u001b[49m\u001b[43mrollno\u001b[49m\u001b[43m)\u001b[49m\u001b[38;5;241m+\u001b[39m\u001b[38;5;124m\"\u001b[39m\u001b[38;5;124m,\u001b[39m\u001b[38;5;124m\"\u001b[39m\u001b[38;5;241m+\u001b[39mname\u001b[38;5;241m+\u001b[39m\u001b[38;5;124m\"\u001b[39m\u001b[38;5;124m,\u001b[39m\u001b[38;5;124m\"\u001b[39m\u001b[38;5;241m+\u001b[39m\u001b[38;5;28mstr\u001b[39m(marks)\u001b[38;5;241m+\u001b[39m\u001b[38;5;124m'\u001b[39m\u001b[38;5;130;01m\\n\u001b[39;00m\u001b[38;5;124m'\u001b[39m\n\u001b[0;32m     10\u001b[0m     fr\u001b[38;5;241m.\u001b[39mwrite(rec)\n\u001b[0;32m     11\u001b[0m fr\u001b[38;5;241m.\u001b[39mclose()\n",
      "\u001b[1;31mTypeError\u001b[0m: 'str' object is not callable"
     ]
    }
   ],
   "source": [
    "count= int(input('how many students are there in the class'))\n",
    "fr= open('marks.txt','w')\n",
    "\n",
    "for i in range(count):\n",
    "    print('enter student details',(i+1),\"below:\")\n",
    "    rollno = int(input('Rollno'))\n",
    "    name = input('Name')\n",
    "    marks = input(\"Marks\")\n",
    "    rec = str(rollno)+\",\"+name+\",\"+str(marks)+'\\n'\n",
    "    fr.write(rec)\n",
    "fr.close()"
   ]
  },
  {
   "cell_type": "code",
   "execution_count": null,
   "id": "15b9e848",
   "metadata": {},
   "outputs": [],
   "source": []
  },
  {
   "cell_type": "code",
   "execution_count": null,
   "id": "605f2d8d",
   "metadata": {},
   "outputs": [],
   "source": []
  },
  {
   "cell_type": "code",
   "execution_count": null,
   "id": "892a8a52",
   "metadata": {},
   "outputs": [],
   "source": []
  },
  {
   "cell_type": "code",
   "execution_count": null,
   "id": "86b2aec2",
   "metadata": {},
   "outputs": [],
   "source": []
  },
  {
   "cell_type": "code",
   "execution_count": null,
   "id": "5801df8d",
   "metadata": {},
   "outputs": [],
   "source": []
  },
  {
   "cell_type": "code",
   "execution_count": null,
   "id": "c24676d4",
   "metadata": {},
   "outputs": [],
   "source": []
  },
  {
   "cell_type": "code",
   "execution_count": null,
   "id": "5c4daa81",
   "metadata": {},
   "outputs": [],
   "source": []
  },
  {
   "cell_type": "code",
   "execution_count": null,
   "id": "bea0ffdc",
   "metadata": {},
   "outputs": [],
   "source": []
  },
  {
   "cell_type": "code",
   "execution_count": null,
   "id": "dd41e60c",
   "metadata": {},
   "outputs": [],
   "source": []
  },
  {
   "cell_type": "code",
   "execution_count": null,
   "id": "10835fc1",
   "metadata": {},
   "outputs": [],
   "source": []
  },
  {
   "cell_type": "code",
   "execution_count": null,
   "id": "d2ea1f9c",
   "metadata": {},
   "outputs": [],
   "source": []
  },
  {
   "cell_type": "code",
   "execution_count": null,
   "id": "a2e97abc",
   "metadata": {},
   "outputs": [],
   "source": []
  },
  {
   "cell_type": "code",
   "execution_count": null,
   "id": "cdea01bc",
   "metadata": {},
   "outputs": [],
   "source": []
  },
  {
   "cell_type": "code",
   "execution_count": null,
   "id": "46b5bf46",
   "metadata": {},
   "outputs": [],
   "source": []
  },
  {
   "cell_type": "code",
   "execution_count": null,
   "id": "ee3b1c19",
   "metadata": {},
   "outputs": [],
   "source": []
  },
  {
   "cell_type": "code",
   "execution_count": null,
   "id": "fff91501",
   "metadata": {},
   "outputs": [],
   "source": []
  },
  {
   "cell_type": "code",
   "execution_count": null,
   "id": "ff416304",
   "metadata": {},
   "outputs": [],
   "source": []
  },
  {
   "cell_type": "code",
   "execution_count": null,
   "id": "90e761a5",
   "metadata": {},
   "outputs": [],
   "source": []
  },
  {
   "cell_type": "code",
   "execution_count": null,
   "id": "0aa3f86a",
   "metadata": {},
   "outputs": [],
   "source": []
  },
  {
   "cell_type": "code",
   "execution_count": null,
   "id": "49fd4af8",
   "metadata": {},
   "outputs": [],
   "source": []
  },
  {
   "cell_type": "code",
   "execution_count": null,
   "id": "f7d63de1",
   "metadata": {},
   "outputs": [],
   "source": []
  },
  {
   "cell_type": "code",
   "execution_count": null,
   "id": "9c53359e",
   "metadata": {},
   "outputs": [],
   "source": []
  },
  {
   "cell_type": "code",
   "execution_count": null,
   "id": "4a4ea964",
   "metadata": {},
   "outputs": [],
   "source": []
  }
 ],
 "metadata": {
  "kernelspec": {
   "display_name": "Python 3 (ipykernel)",
   "language": "python",
   "name": "python3"
  },
  "language_info": {
   "codemirror_mode": {
    "name": "ipython",
    "version": 3
   },
   "file_extension": ".py",
   "mimetype": "text/x-python",
   "name": "python",
   "nbconvert_exporter": "python",
   "pygments_lexer": "ipython3",
   "version": "3.10.3"
  }
 },
 "nbformat": 4,
 "nbformat_minor": 5
}
