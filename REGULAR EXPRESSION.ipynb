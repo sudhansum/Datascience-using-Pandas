{
 "cells": [
  {
   "cell_type": "markdown",
   "id": "7567e9a6",
   "metadata": {},
   "source": [
    "# REGULAR EXPRESSION"
   ]
  },
  {
   "cell_type": "code",
   "execution_count": 1,
   "id": "f14f72dd",
   "metadata": {},
   "outputs": [],
   "source": [
    "#EXTRACTING DATA FROM A HUGE SET OF DATA WE USE REGULAR EXPRESSION"
   ]
  },
  {
   "cell_type": "code",
   "execution_count": 2,
   "id": "cc2cc211",
   "metadata": {},
   "outputs": [],
   "source": [
    "#VALIDATE DATA EX PROPER EMAIL ADDRESS OR PHONE NUMBER ETC [any character inside the sq brts ex abc we are looking for a,b,c]\n",
    "# [abc meanse except a,b,c]"
   ]
  },
  {
   "cell_type": "code",
   "execution_count": null,
   "id": "a06bdf63",
   "metadata": {},
   "outputs": [],
   "source": [
    "import re"
   ]
  },
  {
   "cell_type": "code",
   "execution_count": null,
   "id": "fe9121c2",
   "metadata": {},
   "outputs": [],
   "source": []
  },
  {
   "cell_type": "code",
   "execution_count": 7,
   "id": "8b31a188",
   "metadata": {},
   "outputs": [
    {
     "data": {
      "text/plain": [
       "['a', 'b']"
      ]
     },
     "execution_count": 7,
     "metadata": {},
     "output_type": "execute_result"
    }
   ],
   "source": [
    "str = 'ab12$y45v6#'\n",
    "x = re.findall('[abc]',str)\n",
    "x"
   ]
  },
  {
   "cell_type": "code",
   "execution_count": 8,
   "id": "0e3adcea",
   "metadata": {},
   "outputs": [
    {
     "data": {
      "text/plain": [
       "['A', 'Z', 'a', 'z', '0', '9']"
      ]
     },
     "execution_count": 8,
     "metadata": {},
     "output_type": "execute_result"
    }
   ],
   "source": [
    "str = 'A-Za-z0-9'\n",
    "x =re.findall('[A-Za-z0-9]',str)\n",
    "x"
   ]
  },
  {
   "cell_type": "code",
   "execution_count": 9,
   "id": "fab840fa",
   "metadata": {},
   "outputs": [],
   "source": [
    "#\\s,\\S us is searching for whitespace characters\n",
    "#\\d for digits and \\D not digits\n",
    "#\\w alphanumeric char \\W for non alphanumeric\n",
    "#\\b bockspace . for except the letters"
   ]
  },
  {
   "cell_type": "code",
   "execution_count": 10,
   "id": "1b449016",
   "metadata": {},
   "outputs": [],
   "source": [
    "#quantifiers\n",
    "#re+: one or more occurance of the character repeated for one or more time"
   ]
  },
  {
   "cell_type": "code",
   "execution_count": 11,
   "id": "0da00127",
   "metadata": {},
   "outputs": [
    {
     "data": {
      "text/plain": [
       "['A']"
      ]
     },
     "execution_count": 11,
     "metadata": {},
     "output_type": "execute_result"
    }
   ],
   "source": [
    "str = 'A-Za-z0-9'\n",
    "x =re.findall('[AB+]',str)\n",
    "x"
   ]
  },
  {
   "cell_type": "code",
   "execution_count": 12,
   "id": "fcd83eef",
   "metadata": {},
   "outputs": [
    {
     "data": {
      "text/plain": [
       "[]"
      ]
     },
     "execution_count": 12,
     "metadata": {},
     "output_type": "execute_result"
    }
   ],
   "source": [
    "str = 'ab12$y45v6#'\n",
    "x =re.findall('[AB*]',str)\n",
    "x "
   ]
  },
  {
   "cell_type": "code",
   "execution_count": 13,
   "id": "8430fd51",
   "metadata": {},
   "outputs": [
    {
     "data": {
      "text/plain": [
       "[]"
      ]
     },
     "execution_count": 13,
     "metadata": {},
     "output_type": "execute_result"
    }
   ],
   "source": [
    "str = 'ab12$y45v6#'\n",
    "x =re.findall('[?]',str)\n",
    "x"
   ]
  },
  {
   "cell_type": "code",
   "execution_count": 14,
   "id": "b5942b2e",
   "metadata": {},
   "outputs": [
    {
     "name": "stdout",
     "output_type": "stream",
     "text": [
      "searches for one or more accurance\n"
     ]
    },
    {
     "data": {
      "text/plain": [
       "['a', 'b', 'c', 'c', 'c', 'c']"
      ]
     },
     "execution_count": 14,
     "metadata": {},
     "output_type": "execute_result"
    }
   ],
   "source": [
    "print('searches for one or more accurance')\n",
    "str = 'abcccc12$y45v6#'\n",
    "x =re.findall('[abc?]',str)\n",
    "x"
   ]
  },
  {
   "cell_type": "code",
   "execution_count": 15,
   "id": "8aecea1a",
   "metadata": {},
   "outputs": [],
   "source": [
    "# re{n};- looking for exactly n times\n",
    "#^ marks for start $  marks end"
   ]
  },
  {
   "cell_type": "code",
   "execution_count": 18,
   "id": "14c44566",
   "metadata": {},
   "outputs": [
    {
     "data": {
      "text/plain": [
       "['@g', '@g', '@y']"
      ]
     },
     "execution_count": 18,
     "metadata": {},
     "output_type": "execute_result"
    }
   ],
   "source": [
    "emails='abc.123@gmail.com,abc@gamil.com,hg@yahoo.com,pqr.gmail'\n",
    "x = re.findall('@\\w',emails)\n",
    "x"
   ]
  },
  {
   "cell_type": "code",
   "execution_count": 21,
   "id": "cfec0106",
   "metadata": {},
   "outputs": [
    {
     "name": "stdout",
     "output_type": "stream",
     "text": [
      "\\w alphanumeric char,use +,\b is backspace\n"
     ]
    },
    {
     "data": {
      "text/plain": [
       "['is', 'in', 'India']"
      ]
     },
     "execution_count": 21,
     "metadata": {},
     "output_type": "execute_result"
    }
   ],
   "source": [
    "print('\\w alphanumeric char,use +,\\b is backspace')\n",
    "str = \" learning python is good for datascience in India\"\n",
    "x=re.findall(r'\\b[aeiouAEIOU]\\w+',str)\n",
    "x"
   ]
  },
  {
   "cell_type": "code",
   "execution_count": 24,
   "id": "1e08e462",
   "metadata": {},
   "outputs": [
    {
     "data": {
      "text/plain": [
       "['12-10-2007', '02-01-2001', '11-12-2011']"
      ]
     },
     "execution_count": 24,
     "metadata": {},
     "output_type": "execute_result"
    }
   ],
   "source": [
    "str = 'Anil DOB is 12-10-2007,xyz DOB is 02-01-2001,abc DOB is 11-12-2011'\n",
    "x =re.findall(r'\\d{2}-\\d{2}-\\d{4}',str)\n",
    "x"
   ]
  },
  {
   "cell_type": "markdown",
   "id": "09307a35",
   "metadata": {},
   "source": [
    "FUNCTIONS FROM RE MODULE"
   ]
  },
  {
   "cell_type": "code",
   "execution_count": 26,
   "id": "606f3b2f",
   "metadata": {},
   "outputs": [
    {
     "data": {
      "text/plain": [
       "'Search function takes the pattern and the string '"
      ]
     },
     "execution_count": 26,
     "metadata": {},
     "output_type": "execute_result"
    }
   ],
   "source": [
    "'''Search function takes the pattern and the string '''\n",
    "#search('pattern',string)"
   ]
  },
  {
   "cell_type": "code",
   "execution_count": 29,
   "id": "f2d86258",
   "metadata": {},
   "outputs": [
    {
     "name": "stdout",
     "output_type": "stream",
     "text": [
      "India\n",
      "<re.Match object; span=(19, 24), match='India'>\n",
      "found\n"
     ]
    }
   ],
   "source": [
    "str = 'python learning in India is for the national development'\n",
    "x = input()\n",
    "print(re.search(x,str))\n",
    "if x:\n",
    "    print('found')\n",
    "else:\n",
    "    print('notfound')"
   ]
  },
  {
   "cell_type": "code",
   "execution_count": 30,
   "id": "f8c5519d",
   "metadata": {},
   "outputs": [
    {
     "name": "stdout",
     "output_type": "stream",
     "text": [
      "(7, 15)\n",
      "7\n",
      "15\n"
     ]
    }
   ],
   "source": [
    "str = 'python learning in India is for the national development'\n",
    "y = re.search('learning',str)\n",
    "print(y.span())\n",
    "print(y.start())\n",
    "print(y.end())"
   ]
  },
  {
   "cell_type": "code",
   "execution_count": 31,
   "id": "69d5ea69",
   "metadata": {},
   "outputs": [
    {
     "name": "stdout",
     "output_type": "stream",
     "text": [
      "3\n",
      "c\n",
      "3@gmail.com\n"
     ]
    }
   ],
   "source": [
    "str ='abc.123@gmail.com,abc@gamil.com,hg@yahoo.com,pqr.gmail'\n",
    "y = re.search(r'([\\w\\.])@([\\w\\.-])+([\\w]{2,3})',str)\n",
    "print(y.group(1))\n",
    "print(y.group(2))\n",
    "print(y.group())"
   ]
  },
  {
   "cell_type": "code",
   "execution_count": 32,
   "id": "7222f95d",
   "metadata": {},
   "outputs": [
    {
     "name": "stdout",
     "output_type": "stream",
     "text": [
      "3@gmail.com\n",
      "c@gamil.com\n",
      "g@yahoo.com\n"
     ]
    }
   ],
   "source": [
    "str ='abc.123@gmail.com,abc@gamil.com,hg@yahoo.com,pqr.gmail'\n",
    "y = re.finditer(r'([\\w\\.])@([\\w\\.-])+([\\w]{2,3})',str)\n",
    "for i in y:\n",
    "    print(i.group())"
   ]
  },
  {
   "cell_type": "code",
   "execution_count": 42,
   "id": "b9ea09aa",
   "metadata": {},
   "outputs": [
    {
     "name": "stdout",
     "output_type": "stream",
     "text": [
      "['10', '23', '34-45', '67-78', '89']\n",
      "['10', '23', '34', '45', '67', '78', '89']\n"
     ]
    }
   ],
   "source": [
    "str = '10,23,34-45,67-78,89'\n",
    "print(str.split(','))\n",
    "print (re.split(',|-',str))"
   ]
  },
  {
   "cell_type": "code",
   "execution_count": null,
   "id": "f1e217f4",
   "metadata": {},
   "outputs": [],
   "source": [
    "# print('validate the password')\n",
    "x=re.compile(r'')\n",
    "while True:\n",
    "    pwd=input(\"enter the password\\n\")\n",
    "    if len(pwd)<5:\n",
    "        print('1.invalid')\n",
    "    elif re.search(r'[!@#$%]',pwd) is None:\n",
    "        print('2.invalid')\n",
    "    elif re.search(r'\\d',pwd) is None:\n",
    "        print('3.invalid')\n",
    "    elif re.search(r'[A-Z]',pwd) is None:\n",
    "        print('invalid')\n",
    "    elif re.match(r'[a-zA-Z0-9!@#$%]{5}',pwd):\n",
    "        x=re.compile(r'[a-z A-Z !@#$% 0-9]{5}',pwd)\n",
    "        res=x.match(pwd)\n",
    "        print(\"valid\")\n",
    "        break\n",
    "    else:\n",
    "        print(\"5 invalid\")\n",
    "            "
   ]
  },
  {
   "cell_type": "code",
   "execution_count": null,
   "id": "808ad3b2",
   "metadata": {},
   "outputs": [],
   "source": []
  },
  {
   "cell_type": "code",
   "execution_count": null,
   "id": "e9714989",
   "metadata": {},
   "outputs": [],
   "source": []
  },
  {
   "cell_type": "code",
   "execution_count": null,
   "id": "c5df1452",
   "metadata": {},
   "outputs": [],
   "source": []
  },
  {
   "cell_type": "code",
   "execution_count": null,
   "id": "ee054cf4",
   "metadata": {},
   "outputs": [],
   "source": []
  },
  {
   "cell_type": "code",
   "execution_count": null,
   "id": "150589f1",
   "metadata": {},
   "outputs": [],
   "source": []
  },
  {
   "cell_type": "code",
   "execution_count": null,
   "id": "e5c0688c",
   "metadata": {},
   "outputs": [],
   "source": []
  },
  {
   "cell_type": "code",
   "execution_count": null,
   "id": "3d089a63",
   "metadata": {},
   "outputs": [],
   "source": []
  },
  {
   "cell_type": "code",
   "execution_count": null,
   "id": "9aa394e8",
   "metadata": {},
   "outputs": [],
   "source": []
  },
  {
   "cell_type": "code",
   "execution_count": null,
   "id": "a575aa8c",
   "metadata": {},
   "outputs": [],
   "source": []
  },
  {
   "cell_type": "code",
   "execution_count": null,
   "id": "36989be4",
   "metadata": {},
   "outputs": [],
   "source": []
  },
  {
   "cell_type": "code",
   "execution_count": null,
   "id": "a4eafe50",
   "metadata": {},
   "outputs": [],
   "source": []
  },
  {
   "cell_type": "code",
   "execution_count": null,
   "id": "cea75985",
   "metadata": {},
   "outputs": [],
   "source": []
  },
  {
   "cell_type": "code",
   "execution_count": null,
   "id": "126e72d9",
   "metadata": {},
   "outputs": [],
   "source": []
  },
  {
   "cell_type": "code",
   "execution_count": null,
   "id": "29e2d9ae",
   "metadata": {},
   "outputs": [],
   "source": []
  },
  {
   "cell_type": "code",
   "execution_count": null,
   "id": "c68f1971",
   "metadata": {},
   "outputs": [],
   "source": []
  },
  {
   "cell_type": "code",
   "execution_count": null,
   "id": "bc515912",
   "metadata": {},
   "outputs": [],
   "source": []
  },
  {
   "cell_type": "code",
   "execution_count": null,
   "id": "7715ed30",
   "metadata": {},
   "outputs": [],
   "source": []
  },
  {
   "cell_type": "code",
   "execution_count": null,
   "id": "5e7d7421",
   "metadata": {},
   "outputs": [],
   "source": []
  },
  {
   "cell_type": "code",
   "execution_count": null,
   "id": "ca281abf",
   "metadata": {},
   "outputs": [],
   "source": []
  },
  {
   "cell_type": "code",
   "execution_count": null,
   "id": "a0f71860",
   "metadata": {},
   "outputs": [],
   "source": []
  },
  {
   "cell_type": "code",
   "execution_count": null,
   "id": "ed35bf35",
   "metadata": {},
   "outputs": [],
   "source": []
  },
  {
   "cell_type": "code",
   "execution_count": null,
   "id": "29ddd6ac",
   "metadata": {},
   "outputs": [],
   "source": []
  },
  {
   "cell_type": "code",
   "execution_count": null,
   "id": "428ee81c",
   "metadata": {},
   "outputs": [],
   "source": []
  },
  {
   "cell_type": "code",
   "execution_count": null,
   "id": "0d3af106",
   "metadata": {},
   "outputs": [],
   "source": []
  }
 ],
 "metadata": {
  "kernelspec": {
   "display_name": "Python 3 (ipykernel)",
   "language": "python",
   "name": "python3"
  },
  "language_info": {
   "codemirror_mode": {
    "name": "ipython",
    "version": 3
   },
   "file_extension": ".py",
   "mimetype": "text/x-python",
   "name": "python",
   "nbconvert_exporter": "python",
   "pygments_lexer": "ipython3",
   "version": "3.10.3"
  }
 },
 "nbformat": 4,
 "nbformat_minor": 5
}
