{
 "cells": [
  {
   "cell_type": "markdown",
   "id": "3b066cd1",
   "metadata": {},
   "source": [
    "# SELECTING ROWS AND COLUMNS"
   ]
  },
  {
   "cell_type": "code",
   "execution_count": 1,
   "id": "89620838",
   "metadata": {},
   "outputs": [],
   "source": [
    "import pandas as pd\n",
    "import numpy as np\n"
   ]
  },
  {
   "cell_type": "code",
   "execution_count": 12,
   "id": "68e45ea6",
   "metadata": {},
   "outputs": [
    {
     "data": {
      "text/html": [
       "<div>\n",
       "<style scoped>\n",
       "    .dataframe tbody tr th:only-of-type {\n",
       "        vertical-align: middle;\n",
       "    }\n",
       "\n",
       "    .dataframe tbody tr th {\n",
       "        vertical-align: top;\n",
       "    }\n",
       "\n",
       "    .dataframe thead th {\n",
       "        text-align: right;\n",
       "    }\n",
       "</style>\n",
       "<table border=\"1\" class=\"dataframe\">\n",
       "  <thead>\n",
       "    <tr style=\"text-align: right;\">\n",
       "      <th></th>\n",
       "      <th>Respondent</th>\n",
       "      <th>MainBranch</th>\n",
       "      <th>Hobbyist</th>\n",
       "      <th>OpenSourcer</th>\n",
       "      <th>OpenSource</th>\n",
       "      <th>Employment</th>\n",
       "      <th>Country</th>\n",
       "      <th>Student</th>\n",
       "      <th>EdLevel</th>\n",
       "      <th>UndergradMajor</th>\n",
       "      <th>...</th>\n",
       "      <th>WelcomeChange</th>\n",
       "      <th>SONewContent</th>\n",
       "      <th>Age</th>\n",
       "      <th>Gender</th>\n",
       "      <th>Trans</th>\n",
       "      <th>Sexuality</th>\n",
       "      <th>Ethnicity</th>\n",
       "      <th>Dependents</th>\n",
       "      <th>SurveyLength</th>\n",
       "      <th>SurveyEase</th>\n",
       "    </tr>\n",
       "  </thead>\n",
       "  <tbody>\n",
       "    <tr>\n",
       "      <th>0</th>\n",
       "      <td>1</td>\n",
       "      <td>I am a student who is learning to code</td>\n",
       "      <td>Yes</td>\n",
       "      <td>Never</td>\n",
       "      <td>The quality of OSS and closed source software ...</td>\n",
       "      <td>Not employed, and not looking for work</td>\n",
       "      <td>United Kingdom</td>\n",
       "      <td>No</td>\n",
       "      <td>Primary/elementary school</td>\n",
       "      <td>NaN</td>\n",
       "      <td>...</td>\n",
       "      <td>Just as welcome now as I felt last year</td>\n",
       "      <td>Tech articles written by other developers;Indu...</td>\n",
       "      <td>14.0</td>\n",
       "      <td>Man</td>\n",
       "      <td>No</td>\n",
       "      <td>Straight / Heterosexual</td>\n",
       "      <td>NaN</td>\n",
       "      <td>No</td>\n",
       "      <td>Appropriate in length</td>\n",
       "      <td>Neither easy nor difficult</td>\n",
       "    </tr>\n",
       "    <tr>\n",
       "      <th>1</th>\n",
       "      <td>2</td>\n",
       "      <td>I am a student who is learning to code</td>\n",
       "      <td>No</td>\n",
       "      <td>Less than once per year</td>\n",
       "      <td>The quality of OSS and closed source software ...</td>\n",
       "      <td>Not employed, but looking for work</td>\n",
       "      <td>Bosnia and Herzegovina</td>\n",
       "      <td>Yes, full-time</td>\n",
       "      <td>Secondary school (e.g. American high school, G...</td>\n",
       "      <td>NaN</td>\n",
       "      <td>...</td>\n",
       "      <td>Just as welcome now as I felt last year</td>\n",
       "      <td>Tech articles written by other developers;Indu...</td>\n",
       "      <td>19.0</td>\n",
       "      <td>Man</td>\n",
       "      <td>No</td>\n",
       "      <td>Straight / Heterosexual</td>\n",
       "      <td>NaN</td>\n",
       "      <td>No</td>\n",
       "      <td>Appropriate in length</td>\n",
       "      <td>Neither easy nor difficult</td>\n",
       "    </tr>\n",
       "    <tr>\n",
       "      <th>2</th>\n",
       "      <td>3</td>\n",
       "      <td>I am not primarily a developer, but I write co...</td>\n",
       "      <td>Yes</td>\n",
       "      <td>Never</td>\n",
       "      <td>The quality of OSS and closed source software ...</td>\n",
       "      <td>Employed full-time</td>\n",
       "      <td>Thailand</td>\n",
       "      <td>No</td>\n",
       "      <td>Bachelor’s degree (BA, BS, B.Eng., etc.)</td>\n",
       "      <td>Web development or web design</td>\n",
       "      <td>...</td>\n",
       "      <td>Just as welcome now as I felt last year</td>\n",
       "      <td>Tech meetups or events in your area;Courses on...</td>\n",
       "      <td>28.0</td>\n",
       "      <td>Man</td>\n",
       "      <td>No</td>\n",
       "      <td>Straight / Heterosexual</td>\n",
       "      <td>NaN</td>\n",
       "      <td>Yes</td>\n",
       "      <td>Appropriate in length</td>\n",
       "      <td>Neither easy nor difficult</td>\n",
       "    </tr>\n",
       "    <tr>\n",
       "      <th>3</th>\n",
       "      <td>4</td>\n",
       "      <td>I am a developer by profession</td>\n",
       "      <td>No</td>\n",
       "      <td>Never</td>\n",
       "      <td>The quality of OSS and closed source software ...</td>\n",
       "      <td>Employed full-time</td>\n",
       "      <td>United States</td>\n",
       "      <td>No</td>\n",
       "      <td>Bachelor’s degree (BA, BS, B.Eng., etc.)</td>\n",
       "      <td>Computer science, computer engineering, or sof...</td>\n",
       "      <td>...</td>\n",
       "      <td>Just as welcome now as I felt last year</td>\n",
       "      <td>Tech articles written by other developers;Indu...</td>\n",
       "      <td>22.0</td>\n",
       "      <td>Man</td>\n",
       "      <td>No</td>\n",
       "      <td>Straight / Heterosexual</td>\n",
       "      <td>White or of European descent</td>\n",
       "      <td>No</td>\n",
       "      <td>Appropriate in length</td>\n",
       "      <td>Easy</td>\n",
       "    </tr>\n",
       "    <tr>\n",
       "      <th>4</th>\n",
       "      <td>5</td>\n",
       "      <td>I am a developer by profession</td>\n",
       "      <td>Yes</td>\n",
       "      <td>Once a month or more often</td>\n",
       "      <td>OSS is, on average, of HIGHER quality than pro...</td>\n",
       "      <td>Employed full-time</td>\n",
       "      <td>Ukraine</td>\n",
       "      <td>No</td>\n",
       "      <td>Bachelor’s degree (BA, BS, B.Eng., etc.)</td>\n",
       "      <td>Computer science, computer engineering, or sof...</td>\n",
       "      <td>...</td>\n",
       "      <td>Just as welcome now as I felt last year</td>\n",
       "      <td>Tech meetups or events in your area;Courses on...</td>\n",
       "      <td>30.0</td>\n",
       "      <td>Man</td>\n",
       "      <td>No</td>\n",
       "      <td>Straight / Heterosexual</td>\n",
       "      <td>White or of European descent;Multiracial</td>\n",
       "      <td>No</td>\n",
       "      <td>Appropriate in length</td>\n",
       "      <td>Easy</td>\n",
       "    </tr>\n",
       "  </tbody>\n",
       "</table>\n",
       "<p>5 rows × 85 columns</p>\n",
       "</div>"
      ],
      "text/plain": [
       "   Respondent                                         MainBranch Hobbyist  \\\n",
       "0           1             I am a student who is learning to code      Yes   \n",
       "1           2             I am a student who is learning to code       No   \n",
       "2           3  I am not primarily a developer, but I write co...      Yes   \n",
       "3           4                     I am a developer by profession       No   \n",
       "4           5                     I am a developer by profession      Yes   \n",
       "\n",
       "                  OpenSourcer  \\\n",
       "0                       Never   \n",
       "1     Less than once per year   \n",
       "2                       Never   \n",
       "3                       Never   \n",
       "4  Once a month or more often   \n",
       "\n",
       "                                          OpenSource  \\\n",
       "0  The quality of OSS and closed source software ...   \n",
       "1  The quality of OSS and closed source software ...   \n",
       "2  The quality of OSS and closed source software ...   \n",
       "3  The quality of OSS and closed source software ...   \n",
       "4  OSS is, on average, of HIGHER quality than pro...   \n",
       "\n",
       "                               Employment                 Country  \\\n",
       "0  Not employed, and not looking for work          United Kingdom   \n",
       "1      Not employed, but looking for work  Bosnia and Herzegovina   \n",
       "2                      Employed full-time                Thailand   \n",
       "3                      Employed full-time           United States   \n",
       "4                      Employed full-time                 Ukraine   \n",
       "\n",
       "          Student                                            EdLevel  \\\n",
       "0              No                          Primary/elementary school   \n",
       "1  Yes, full-time  Secondary school (e.g. American high school, G...   \n",
       "2              No           Bachelor’s degree (BA, BS, B.Eng., etc.)   \n",
       "3              No           Bachelor’s degree (BA, BS, B.Eng., etc.)   \n",
       "4              No           Bachelor’s degree (BA, BS, B.Eng., etc.)   \n",
       "\n",
       "                                      UndergradMajor  ...  \\\n",
       "0                                                NaN  ...   \n",
       "1                                                NaN  ...   \n",
       "2                      Web development or web design  ...   \n",
       "3  Computer science, computer engineering, or sof...  ...   \n",
       "4  Computer science, computer engineering, or sof...  ...   \n",
       "\n",
       "                             WelcomeChange  \\\n",
       "0  Just as welcome now as I felt last year   \n",
       "1  Just as welcome now as I felt last year   \n",
       "2  Just as welcome now as I felt last year   \n",
       "3  Just as welcome now as I felt last year   \n",
       "4  Just as welcome now as I felt last year   \n",
       "\n",
       "                                        SONewContent   Age Gender Trans  \\\n",
       "0  Tech articles written by other developers;Indu...  14.0    Man    No   \n",
       "1  Tech articles written by other developers;Indu...  19.0    Man    No   \n",
       "2  Tech meetups or events in your area;Courses on...  28.0    Man    No   \n",
       "3  Tech articles written by other developers;Indu...  22.0    Man    No   \n",
       "4  Tech meetups or events in your area;Courses on...  30.0    Man    No   \n",
       "\n",
       "                 Sexuality                                 Ethnicity  \\\n",
       "0  Straight / Heterosexual                                       NaN   \n",
       "1  Straight / Heterosexual                                       NaN   \n",
       "2  Straight / Heterosexual                                       NaN   \n",
       "3  Straight / Heterosexual              White or of European descent   \n",
       "4  Straight / Heterosexual  White or of European descent;Multiracial   \n",
       "\n",
       "  Dependents           SurveyLength                  SurveyEase  \n",
       "0         No  Appropriate in length  Neither easy nor difficult  \n",
       "1         No  Appropriate in length  Neither easy nor difficult  \n",
       "2        Yes  Appropriate in length  Neither easy nor difficult  \n",
       "3         No  Appropriate in length                        Easy  \n",
       "4         No  Appropriate in length                        Easy  \n",
       "\n",
       "[5 rows x 85 columns]"
      ]
     },
     "execution_count": 12,
     "metadata": {},
     "output_type": "execute_result"
    }
   ],
   "source": [
    "df = pd.read_csv('survey_results_public.csv')\n",
    "df.head(5)\n"
   ]
  },
  {
   "cell_type": "code",
   "execution_count": null,
   "id": "f2eb5072",
   "metadata": {},
   "outputs": [],
   "source": []
  },
  {
   "cell_type": "code",
   "execution_count": 4,
   "id": "764894ba",
   "metadata": {},
   "outputs": [
    {
     "name": "stdout",
     "output_type": "stream",
     "text": [
      "   first   last             email\n",
      "0  corey  shfer  corsaf@gmail.com\n",
      "1   jane    doe    jane@fmail.com\n",
      "2   john  smith    john@mmail.com\n"
     ]
    }
   ],
   "source": [
    "people = {'first':['corey','jane','john'],'last':['shfer','doe','smith'],'email':['corsaf@gmail.com','jane@fmail.com','john@mmail.com']}\n",
    "df =pd.DataFrame(people)\n",
    "print(df)"
   ]
  },
  {
   "cell_type": "code",
   "execution_count": 5,
   "id": "d633d976",
   "metadata": {},
   "outputs": [
    {
     "data": {
      "text/plain": [
       "0    corsaf@gmail.com\n",
       "1      jane@fmail.com\n",
       "2      john@mmail.com\n",
       "Name: email, dtype: object"
      ]
     },
     "execution_count": 5,
     "metadata": {},
     "output_type": "execute_result"
    }
   ],
   "source": [
    "df['email']"
   ]
  },
  {
   "cell_type": "code",
   "execution_count": 6,
   "id": "913e920a",
   "metadata": {},
   "outputs": [
    {
     "data": {
      "text/plain": [
       "0    corsaf@gmail.com\n",
       "1      jane@fmail.com\n",
       "2      john@mmail.com\n",
       "Name: email, dtype: object"
      ]
     },
     "execution_count": 6,
     "metadata": {},
     "output_type": "execute_result"
    }
   ],
   "source": [
    "df.email"
   ]
  },
  {
   "cell_type": "code",
   "execution_count": 8,
   "id": "d8a37628",
   "metadata": {},
   "outputs": [
    {
     "data": {
      "text/plain": [
       "Index(['first', 'last', 'email'], dtype='object')"
      ]
     },
     "execution_count": 8,
     "metadata": {},
     "output_type": "execute_result"
    }
   ],
   "source": [
    "df.columns"
   ]
  },
  {
   "cell_type": "code",
   "execution_count": 9,
   "id": "8f4baf1b",
   "metadata": {},
   "outputs": [
    {
     "data": {
      "text/html": [
       "<div>\n",
       "<style scoped>\n",
       "    .dataframe tbody tr th:only-of-type {\n",
       "        vertical-align: middle;\n",
       "    }\n",
       "\n",
       "    .dataframe tbody tr th {\n",
       "        vertical-align: top;\n",
       "    }\n",
       "\n",
       "    .dataframe thead th {\n",
       "        text-align: right;\n",
       "    }\n",
       "</style>\n",
       "<table border=\"1\" class=\"dataframe\">\n",
       "  <thead>\n",
       "    <tr style=\"text-align: right;\">\n",
       "      <th></th>\n",
       "      <th>last</th>\n",
       "      <th>email</th>\n",
       "    </tr>\n",
       "  </thead>\n",
       "  <tbody>\n",
       "    <tr>\n",
       "      <th>0</th>\n",
       "      <td>shfer</td>\n",
       "      <td>corsaf@gmail.com</td>\n",
       "    </tr>\n",
       "    <tr>\n",
       "      <th>1</th>\n",
       "      <td>doe</td>\n",
       "      <td>jane@fmail.com</td>\n",
       "    </tr>\n",
       "    <tr>\n",
       "      <th>2</th>\n",
       "      <td>smith</td>\n",
       "      <td>john@mmail.com</td>\n",
       "    </tr>\n",
       "  </tbody>\n",
       "</table>\n",
       "</div>"
      ],
      "text/plain": [
       "    last             email\n",
       "0  shfer  corsaf@gmail.com\n",
       "1    doe    jane@fmail.com\n",
       "2  smith    john@mmail.com"
      ]
     },
     "execution_count": 9,
     "metadata": {},
     "output_type": "execute_result"
    }
   ],
   "source": [
    "df[['last','email']]"
   ]
  },
  {
   "cell_type": "markdown",
   "id": "81156c2b",
   "metadata": {},
   "source": [
    "# iloc:- to get the data by index location\n"
   ]
  },
  {
   "cell_type": "code",
   "execution_count": 10,
   "id": "53105ca4",
   "metadata": {},
   "outputs": [
    {
     "data": {
      "text/plain": [
       "first               corey\n",
       "last                shfer\n",
       "email    corsaf@gmail.com\n",
       "Name: 0, dtype: object"
      ]
     },
     "execution_count": 10,
     "metadata": {},
     "output_type": "execute_result"
    }
   ],
   "source": [
    "df.iloc[0]"
   ]
  },
  {
   "cell_type": "code",
   "execution_count": 13,
   "id": "64976a9f",
   "metadata": {},
   "outputs": [
    {
     "data": {
      "text/html": [
       "<div>\n",
       "<style scoped>\n",
       "    .dataframe tbody tr th:only-of-type {\n",
       "        vertical-align: middle;\n",
       "    }\n",
       "\n",
       "    .dataframe tbody tr th {\n",
       "        vertical-align: top;\n",
       "    }\n",
       "\n",
       "    .dataframe thead th {\n",
       "        text-align: right;\n",
       "    }\n",
       "</style>\n",
       "<table border=\"1\" class=\"dataframe\">\n",
       "  <thead>\n",
       "    <tr style=\"text-align: right;\">\n",
       "      <th></th>\n",
       "      <th>first</th>\n",
       "      <th>last</th>\n",
       "      <th>email</th>\n",
       "    </tr>\n",
       "  </thead>\n",
       "  <tbody>\n",
       "    <tr>\n",
       "      <th>0</th>\n",
       "      <td>corey</td>\n",
       "      <td>shfer</td>\n",
       "      <td>corsaf@gmail.com</td>\n",
       "    </tr>\n",
       "    <tr>\n",
       "      <th>1</th>\n",
       "      <td>jane</td>\n",
       "      <td>doe</td>\n",
       "      <td>jane@fmail.com</td>\n",
       "    </tr>\n",
       "  </tbody>\n",
       "</table>\n",
       "</div>"
      ],
      "text/plain": [
       "   first   last             email\n",
       "0  corey  shfer  corsaf@gmail.com\n",
       "1   jane    doe    jane@fmail.com"
      ]
     },
     "execution_count": 13,
     "metadata": {},
     "output_type": "execute_result"
    }
   ],
   "source": [
    "df.iloc[[0,1]]"
   ]
  },
  {
   "cell_type": "code",
   "execution_count": 14,
   "id": "5831bc08",
   "metadata": {},
   "outputs": [
    {
     "data": {
      "text/plain": [
       "0    corsaf@gmail.com\n",
       "1      jane@fmail.com\n",
       "Name: email, dtype: object"
      ]
     },
     "execution_count": 14,
     "metadata": {},
     "output_type": "execute_result"
    }
   ],
   "source": [
    "df.iloc[[0,1],2]"
   ]
  },
  {
   "cell_type": "markdown",
   "id": "318eb7f4",
   "metadata": {},
   "source": [
    "# loc :- search by index or labels"
   ]
  },
  {
   "cell_type": "code",
   "execution_count": 15,
   "id": "eb49a436",
   "metadata": {},
   "outputs": [
    {
     "data": {
      "text/html": [
       "<div>\n",
       "<style scoped>\n",
       "    .dataframe tbody tr th:only-of-type {\n",
       "        vertical-align: middle;\n",
       "    }\n",
       "\n",
       "    .dataframe tbody tr th {\n",
       "        vertical-align: top;\n",
       "    }\n",
       "\n",
       "    .dataframe thead th {\n",
       "        text-align: right;\n",
       "    }\n",
       "</style>\n",
       "<table border=\"1\" class=\"dataframe\">\n",
       "  <thead>\n",
       "    <tr style=\"text-align: right;\">\n",
       "      <th></th>\n",
       "      <th>first</th>\n",
       "      <th>last</th>\n",
       "      <th>email</th>\n",
       "    </tr>\n",
       "  </thead>\n",
       "  <tbody>\n",
       "    <tr>\n",
       "      <th>0</th>\n",
       "      <td>corey</td>\n",
       "      <td>shfer</td>\n",
       "      <td>corsaf@gmail.com</td>\n",
       "    </tr>\n",
       "    <tr>\n",
       "      <th>1</th>\n",
       "      <td>jane</td>\n",
       "      <td>doe</td>\n",
       "      <td>jane@fmail.com</td>\n",
       "    </tr>\n",
       "    <tr>\n",
       "      <th>2</th>\n",
       "      <td>john</td>\n",
       "      <td>smith</td>\n",
       "      <td>john@mmail.com</td>\n",
       "    </tr>\n",
       "  </tbody>\n",
       "</table>\n",
       "</div>"
      ],
      "text/plain": [
       "   first   last             email\n",
       "0  corey  shfer  corsaf@gmail.com\n",
       "1   jane    doe    jane@fmail.com\n",
       "2   john  smith    john@mmail.com"
      ]
     },
     "execution_count": 15,
     "metadata": {},
     "output_type": "execute_result"
    }
   ],
   "source": [
    "df"
   ]
  },
  {
   "cell_type": "code",
   "execution_count": 16,
   "id": "67c37669",
   "metadata": {},
   "outputs": [
    {
     "data": {
      "text/plain": [
       "first               corey\n",
       "last                shfer\n",
       "email    corsaf@gmail.com\n",
       "Name: 0, dtype: object"
      ]
     },
     "execution_count": 16,
     "metadata": {},
     "output_type": "execute_result"
    }
   ],
   "source": [
    "df.loc[0]"
   ]
  },
  {
   "cell_type": "code",
   "execution_count": 20,
   "id": "5acba700",
   "metadata": {},
   "outputs": [
    {
     "data": {
      "text/html": [
       "<div>\n",
       "<style scoped>\n",
       "    .dataframe tbody tr th:only-of-type {\n",
       "        vertical-align: middle;\n",
       "    }\n",
       "\n",
       "    .dataframe tbody tr th {\n",
       "        vertical-align: top;\n",
       "    }\n",
       "\n",
       "    .dataframe thead th {\n",
       "        text-align: right;\n",
       "    }\n",
       "</style>\n",
       "<table border=\"1\" class=\"dataframe\">\n",
       "  <thead>\n",
       "    <tr style=\"text-align: right;\">\n",
       "      <th></th>\n",
       "      <th>first</th>\n",
       "      <th>last</th>\n",
       "      <th>email</th>\n",
       "    </tr>\n",
       "  </thead>\n",
       "  <tbody>\n",
       "    <tr>\n",
       "      <th>0</th>\n",
       "      <td>corey</td>\n",
       "      <td>shfer</td>\n",
       "      <td>corsaf@gmail.com</td>\n",
       "    </tr>\n",
       "    <tr>\n",
       "      <th>1</th>\n",
       "      <td>jane</td>\n",
       "      <td>doe</td>\n",
       "      <td>jane@fmail.com</td>\n",
       "    </tr>\n",
       "  </tbody>\n",
       "</table>\n",
       "</div>"
      ],
      "text/plain": [
       "   first   last             email\n",
       "0  corey  shfer  corsaf@gmail.com\n",
       "1   jane    doe    jane@fmail.com"
      ]
     },
     "execution_count": 20,
     "metadata": {},
     "output_type": "execute_result"
    }
   ],
   "source": [
    "df.loc[[0,1]]"
   ]
  },
  {
   "cell_type": "code",
   "execution_count": 21,
   "id": "3e40ba96",
   "metadata": {},
   "outputs": [
    {
     "data": {
      "text/html": [
       "<div>\n",
       "<style scoped>\n",
       "    .dataframe tbody tr th:only-of-type {\n",
       "        vertical-align: middle;\n",
       "    }\n",
       "\n",
       "    .dataframe tbody tr th {\n",
       "        vertical-align: top;\n",
       "    }\n",
       "\n",
       "    .dataframe thead th {\n",
       "        text-align: right;\n",
       "    }\n",
       "</style>\n",
       "<table border=\"1\" class=\"dataframe\">\n",
       "  <thead>\n",
       "    <tr style=\"text-align: right;\">\n",
       "      <th></th>\n",
       "      <th>email</th>\n",
       "      <th>last</th>\n",
       "    </tr>\n",
       "  </thead>\n",
       "  <tbody>\n",
       "    <tr>\n",
       "      <th>0</th>\n",
       "      <td>corsaf@gmail.com</td>\n",
       "      <td>shfer</td>\n",
       "    </tr>\n",
       "    <tr>\n",
       "      <th>1</th>\n",
       "      <td>jane@fmail.com</td>\n",
       "      <td>doe</td>\n",
       "    </tr>\n",
       "  </tbody>\n",
       "</table>\n",
       "</div>"
      ],
      "text/plain": [
       "              email   last\n",
       "0  corsaf@gmail.com  shfer\n",
       "1    jane@fmail.com    doe"
      ]
     },
     "execution_count": 21,
     "metadata": {},
     "output_type": "execute_result"
    }
   ],
   "source": [
    "df.loc[[0,1],['email','last']]"
   ]
  },
  {
   "cell_type": "code",
   "execution_count": 11,
   "id": "e9028c13",
   "metadata": {},
   "outputs": [
    {
     "data": {
      "text/html": [
       "<div>\n",
       "<style scoped>\n",
       "    .dataframe tbody tr th:only-of-type {\n",
       "        vertical-align: middle;\n",
       "    }\n",
       "\n",
       "    .dataframe tbody tr th {\n",
       "        vertical-align: top;\n",
       "    }\n",
       "\n",
       "    .dataframe thead th {\n",
       "        text-align: right;\n",
       "    }\n",
       "</style>\n",
       "<table border=\"1\" class=\"dataframe\">\n",
       "  <thead>\n",
       "    <tr style=\"text-align: right;\">\n",
       "      <th></th>\n",
       "      <th>Column</th>\n",
       "      <th>QuestionText</th>\n",
       "    </tr>\n",
       "  </thead>\n",
       "  <tbody>\n",
       "    <tr>\n",
       "      <th>0</th>\n",
       "      <td>Respondent</td>\n",
       "      <td>Randomized respondent ID number (not in order ...</td>\n",
       "    </tr>\n",
       "    <tr>\n",
       "      <th>1</th>\n",
       "      <td>MainBranch</td>\n",
       "      <td>Which of the following options best describes ...</td>\n",
       "    </tr>\n",
       "    <tr>\n",
       "      <th>2</th>\n",
       "      <td>Hobbyist</td>\n",
       "      <td>Do you code as a hobby?</td>\n",
       "    </tr>\n",
       "    <tr>\n",
       "      <th>3</th>\n",
       "      <td>OpenSourcer</td>\n",
       "      <td>How often do you contribute to open source?</td>\n",
       "    </tr>\n",
       "    <tr>\n",
       "      <th>4</th>\n",
       "      <td>OpenSource</td>\n",
       "      <td>How do you feel about the quality of open sour...</td>\n",
       "    </tr>\n",
       "    <tr>\n",
       "      <th>...</th>\n",
       "      <td>...</td>\n",
       "      <td>...</td>\n",
       "    </tr>\n",
       "    <tr>\n",
       "      <th>80</th>\n",
       "      <td>Sexuality</td>\n",
       "      <td>Which of the following do you currently identi...</td>\n",
       "    </tr>\n",
       "    <tr>\n",
       "      <th>81</th>\n",
       "      <td>Ethnicity</td>\n",
       "      <td>Which of the following do you identify as? Ple...</td>\n",
       "    </tr>\n",
       "    <tr>\n",
       "      <th>82</th>\n",
       "      <td>Dependents</td>\n",
       "      <td>Do you have any dependents (e.g., children, el...</td>\n",
       "    </tr>\n",
       "    <tr>\n",
       "      <th>83</th>\n",
       "      <td>SurveyLength</td>\n",
       "      <td>How do you feel about the length of the survey...</td>\n",
       "    </tr>\n",
       "    <tr>\n",
       "      <th>84</th>\n",
       "      <td>SurveyEase</td>\n",
       "      <td>How easy or difficult was this survey to compl...</td>\n",
       "    </tr>\n",
       "  </tbody>\n",
       "</table>\n",
       "<p>85 rows × 2 columns</p>\n",
       "</div>"
      ],
      "text/plain": [
       "          Column                                       QuestionText\n",
       "0     Respondent  Randomized respondent ID number (not in order ...\n",
       "1     MainBranch  Which of the following options best describes ...\n",
       "2       Hobbyist                            Do you code as a hobby?\n",
       "3    OpenSourcer        How often do you contribute to open source?\n",
       "4     OpenSource  How do you feel about the quality of open sour...\n",
       "..           ...                                                ...\n",
       "80     Sexuality  Which of the following do you currently identi...\n",
       "81     Ethnicity  Which of the following do you identify as? Ple...\n",
       "82    Dependents  Do you have any dependents (e.g., children, el...\n",
       "83  SurveyLength  How do you feel about the length of the survey...\n",
       "84    SurveyEase  How easy or difficult was this survey to compl...\n",
       "\n",
       "[85 rows x 2 columns]"
      ]
     },
     "execution_count": 11,
     "metadata": {},
     "output_type": "execute_result"
    }
   ],
   "source": [
    "schema_df =pd.read_csv('survey_results_schema.csv')\n",
    "schema_df"
   ]
  },
  {
   "cell_type": "code",
   "execution_count": 13,
   "id": "980c5897",
   "metadata": {},
   "outputs": [
    {
     "data": {
      "text/plain": [
       "(88883, 85)"
      ]
     },
     "execution_count": 13,
     "metadata": {},
     "output_type": "execute_result"
    }
   ],
   "source": [
    "df.shape"
   ]
  },
  {
   "cell_type": "code",
   "execution_count": 14,
   "id": "a97dd6a0",
   "metadata": {},
   "outputs": [
    {
     "data": {
      "text/plain": [
       "Index(['Respondent', 'MainBranch', 'Hobbyist', 'OpenSourcer', 'OpenSource',\n",
       "       'Employment', 'Country', 'Student', 'EdLevel', 'UndergradMajor',\n",
       "       'EduOther', 'OrgSize', 'DevType', 'YearsCode', 'Age1stCode',\n",
       "       'YearsCodePro', 'CareerSat', 'JobSat', 'MgrIdiot', 'MgrMoney',\n",
       "       'MgrWant', 'JobSeek', 'LastHireDate', 'LastInt', 'FizzBuzz',\n",
       "       'JobFactors', 'ResumeUpdate', 'CurrencySymbol', 'CurrencyDesc',\n",
       "       'CompTotal', 'CompFreq', 'ConvertedComp', 'WorkWeekHrs', 'WorkPlan',\n",
       "       'WorkChallenge', 'WorkRemote', 'WorkLoc', 'ImpSyn', 'CodeRev',\n",
       "       'CodeRevHrs', 'UnitTests', 'PurchaseHow', 'PurchaseWhat',\n",
       "       'LanguageWorkedWith', 'LanguageDesireNextYear', 'DatabaseWorkedWith',\n",
       "       'DatabaseDesireNextYear', 'PlatformWorkedWith',\n",
       "       'PlatformDesireNextYear', 'WebFrameWorkedWith',\n",
       "       'WebFrameDesireNextYear', 'MiscTechWorkedWith',\n",
       "       'MiscTechDesireNextYear', 'DevEnviron', 'OpSys', 'Containers',\n",
       "       'BlockchainOrg', 'BlockchainIs', 'BetterLife', 'ITperson', 'OffOn',\n",
       "       'SocialMedia', 'Extraversion', 'ScreenName', 'SOVisit1st',\n",
       "       'SOVisitFreq', 'SOVisitTo', 'SOFindAnswer', 'SOTimeSaved',\n",
       "       'SOHowMuchTime', 'SOAccount', 'SOPartFreq', 'SOJobs', 'EntTeams',\n",
       "       'SOComm', 'WelcomeChange', 'SONewContent', 'Age', 'Gender', 'Trans',\n",
       "       'Sexuality', 'Ethnicity', 'Dependents', 'SurveyLength', 'SurveyEase'],\n",
       "      dtype='object')"
      ]
     },
     "execution_count": 14,
     "metadata": {},
     "output_type": "execute_result"
    }
   ],
   "source": [
    "df.columns"
   ]
  },
  {
   "cell_type": "code",
   "execution_count": 15,
   "id": "d8bbc30f",
   "metadata": {},
   "outputs": [
    {
     "data": {
      "text/plain": [
       "0        Yes\n",
       "1         No\n",
       "2        Yes\n",
       "3         No\n",
       "4        Yes\n",
       "        ... \n",
       "88878    Yes\n",
       "88879     No\n",
       "88880     No\n",
       "88881     No\n",
       "88882    Yes\n",
       "Name: Hobbyist, Length: 88883, dtype: object"
      ]
     },
     "execution_count": 15,
     "metadata": {},
     "output_type": "execute_result"
    }
   ],
   "source": [
    "df['Hobbyist']"
   ]
  },
  {
   "cell_type": "code",
   "execution_count": 16,
   "id": "7e450f47",
   "metadata": {},
   "outputs": [
    {
     "data": {
      "text/plain": [
       "Yes    71257\n",
       "No     17626\n",
       "Name: Hobbyist, dtype: int64"
      ]
     },
     "execution_count": 16,
     "metadata": {},
     "output_type": "execute_result"
    }
   ],
   "source": [
    "df['Hobbyist'].value_counts()"
   ]
  },
  {
   "cell_type": "code",
   "execution_count": 18,
   "id": "532f86fc",
   "metadata": {},
   "outputs": [
    {
     "data": {
      "text/html": [
       "<div>\n",
       "<style scoped>\n",
       "    .dataframe tbody tr th:only-of-type {\n",
       "        vertical-align: middle;\n",
       "    }\n",
       "\n",
       "    .dataframe tbody tr th {\n",
       "        vertical-align: top;\n",
       "    }\n",
       "\n",
       "    .dataframe thead th {\n",
       "        text-align: right;\n",
       "    }\n",
       "</style>\n",
       "<table border=\"1\" class=\"dataframe\">\n",
       "  <thead>\n",
       "    <tr style=\"text-align: right;\">\n",
       "      <th></th>\n",
       "      <th>Hobbyist</th>\n",
       "      <th>OpenSourcer</th>\n",
       "      <th>OpenSource</th>\n",
       "      <th>Employment</th>\n",
       "    </tr>\n",
       "  </thead>\n",
       "  <tbody>\n",
       "    <tr>\n",
       "      <th>0</th>\n",
       "      <td>Yes</td>\n",
       "      <td>Never</td>\n",
       "      <td>The quality of OSS and closed source software ...</td>\n",
       "      <td>Not employed, and not looking for work</td>\n",
       "    </tr>\n",
       "    <tr>\n",
       "      <th>1</th>\n",
       "      <td>No</td>\n",
       "      <td>Less than once per year</td>\n",
       "      <td>The quality of OSS and closed source software ...</td>\n",
       "      <td>Not employed, but looking for work</td>\n",
       "    </tr>\n",
       "    <tr>\n",
       "      <th>2</th>\n",
       "      <td>Yes</td>\n",
       "      <td>Never</td>\n",
       "      <td>The quality of OSS and closed source software ...</td>\n",
       "      <td>Employed full-time</td>\n",
       "    </tr>\n",
       "    <tr>\n",
       "      <th>3</th>\n",
       "      <td>No</td>\n",
       "      <td>Never</td>\n",
       "      <td>The quality of OSS and closed source software ...</td>\n",
       "      <td>Employed full-time</td>\n",
       "    </tr>\n",
       "  </tbody>\n",
       "</table>\n",
       "</div>"
      ],
      "text/plain": [
       "  Hobbyist              OpenSourcer  \\\n",
       "0      Yes                    Never   \n",
       "1       No  Less than once per year   \n",
       "2      Yes                    Never   \n",
       "3       No                    Never   \n",
       "\n",
       "                                          OpenSource  \\\n",
       "0  The quality of OSS and closed source software ...   \n",
       "1  The quality of OSS and closed source software ...   \n",
       "2  The quality of OSS and closed source software ...   \n",
       "3  The quality of OSS and closed source software ...   \n",
       "\n",
       "                               Employment  \n",
       "0  Not employed, and not looking for work  \n",
       "1      Not employed, but looking for work  \n",
       "2                      Employed full-time  \n",
       "3                      Employed full-time  "
      ]
     },
     "execution_count": 18,
     "metadata": {},
     "output_type": "execute_result"
    }
   ],
   "source": [
    "df.loc[0:3,'Hobbyist':'Employment']"
   ]
  },
  {
   "cell_type": "code",
   "execution_count": null,
   "id": "8a56dfb6",
   "metadata": {},
   "outputs": [],
   "source": []
  },
  {
   "cell_type": "code",
   "execution_count": null,
   "id": "8a7054a4",
   "metadata": {},
   "outputs": [],
   "source": []
  },
  {
   "cell_type": "code",
   "execution_count": null,
   "id": "ad39bfdd",
   "metadata": {},
   "outputs": [],
   "source": []
  }
 ],
 "metadata": {
  "kernelspec": {
   "display_name": "Python 3 (ipykernel)",
   "language": "python",
   "name": "python3"
  },
  "language_info": {
   "codemirror_mode": {
    "name": "ipython",
    "version": 3
   },
   "file_extension": ".py",
   "mimetype": "text/x-python",
   "name": "python",
   "nbconvert_exporter": "python",
   "pygments_lexer": "ipython3",
   "version": "3.10.3"
  }
 },
 "nbformat": 4,
 "nbformat_minor": 5
}
