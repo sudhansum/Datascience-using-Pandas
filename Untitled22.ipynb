{
 "cells": [
  {
   "cell_type": "markdown",
   "id": "e7ccc488",
   "metadata": {},
   "source": [
    "# DATA SCIENCE SERIES2 STATICS FUNCTIONS"
   ]
  },
  {
   "cell_type": "code",
   "execution_count": 1,
   "id": "3fb04b9b",
   "metadata": {},
   "outputs": [],
   "source": [
    "import pandas as pd\n",
    "import numpy as np"
   ]
  },
  {
   "cell_type": "code",
   "execution_count": 5,
   "id": "4780718f",
   "metadata": {},
   "outputs": [
    {
     "name": "stdout",
     "output_type": "stream",
     "text": [
      "    0   1   2\n",
      "0  10  15  18\n",
      "1  22   5   6\n",
      "2   3   2   5\n",
      "\n",
      "0    22\n",
      "1    15\n",
      "2    18\n",
      "dtype: int64\n"
     ]
    }
   ],
   "source": [
    "df1= pd.DataFrame([[10,15,18],[22,5,6],[3,2,5]])\n",
    "print(df1)\n",
    "print()\n",
    "print(df1.max())"
   ]
  },
  {
   "cell_type": "code",
   "execution_count": 6,
   "id": "d3b478c0",
   "metadata": {},
   "outputs": [
    {
     "name": "stdout",
     "output_type": "stream",
     "text": [
      "    0   1   2\n",
      "0  10  15  18\n",
      "1  22   5   6\n",
      "2   3   2   5\n",
      "Gives the mx value row wise\n",
      "0    18\n",
      "1    22\n",
      "2     5\n",
      "dtype: int64\n"
     ]
    }
   ],
   "source": [
    "df1= pd.DataFrame([[10,15,18],[22,5,6],[3,2,5]])\n",
    "print(df1)\n",
    "print('Gives the mx value row wise')\n",
    "print(df1.max(axis=1))"
   ]
  },
  {
   "cell_type": "markdown",
   "id": "ef6f1129",
   "metadata": {},
   "source": [
    "# MODE :- WILL RETURN THE MAXIMIUM RECURRING VALUES COLUMN WISE(USE AXIS=1 FOR ROW WISE)"
   ]
  },
  {
   "cell_type": "code",
   "execution_count": 7,
   "id": "902a915b",
   "metadata": {},
   "outputs": [
    {
     "name": "stdout",
     "output_type": "stream",
     "text": [
      "    0   1   2\n",
      "0  10  15  18\n",
      "1  22   5   6\n",
      "2   3   2   5\n",
      "Gives the mx value row wise\n",
      "    0   1   2\n",
      "0  10  15  18\n",
      "1   5   6  22\n",
      "2   2   3   5\n"
     ]
    }
   ],
   "source": [
    "df1= pd.DataFrame([[10,15,18],[22,5,6],[3,2,5]])\n",
    "print(df1)\n",
    "print('Gives the mx value row wise')\n",
    "print(df1.mode(axis=1))"
   ]
  },
  {
   "cell_type": "code",
   "execution_count": 13,
   "id": "eba4ecfd",
   "metadata": {},
   "outputs": [
    {
     "name": "stdout",
     "output_type": "stream",
     "text": [
      "    0   1   2\n",
      "0  10  15  18\n",
      "1  22   5   6\n",
      "2   3   2   5\n",
      "Gives the mx value column wise\n",
      "    0   1   2\n",
      "0   3   2   5\n",
      "1  10   5   6\n",
      "2  22  15  18\n"
     ]
    }
   ],
   "source": [
    "df1= pd.DataFrame([[10,15,18],[22,5,6],[3,2,5]])\n",
    "print(df1)\n",
    "print('Gives the mx value column wise')\n",
    "print(df1.mode())"
   ]
  },
  {
   "cell_type": "markdown",
   "id": "e7587c5e",
   "metadata": {},
   "source": [
    "# MEAN :- AVERAGE OF THE VALUE\n",
    "# MEDIAN:- SORTED INCREASING ORDER AND  MIDDLE VALUE OF THE SERIES SORTED COLUMN WISE OR ROW WISE"
   ]
  },
  {
   "cell_type": "code",
   "execution_count": null,
   "id": "064d69f9",
   "metadata": {},
   "outputs": [],
   "source": []
  },
  {
   "cell_type": "code",
   "execution_count": null,
   "id": "b3bba2ce",
   "metadata": {},
   "outputs": [],
   "source": []
  },
  {
   "cell_type": "code",
   "execution_count": null,
   "id": "3494e9a5",
   "metadata": {},
   "outputs": [],
   "source": []
  },
  {
   "cell_type": "code",
   "execution_count": null,
   "id": "f0076242",
   "metadata": {},
   "outputs": [],
   "source": []
  },
  {
   "cell_type": "code",
   "execution_count": null,
   "id": "2e1aa7b5",
   "metadata": {},
   "outputs": [],
   "source": []
  },
  {
   "cell_type": "code",
   "execution_count": null,
   "id": "d724529f",
   "metadata": {},
   "outputs": [],
   "source": []
  },
  {
   "cell_type": "code",
   "execution_count": null,
   "id": "bd46a215",
   "metadata": {},
   "outputs": [],
   "source": []
  },
  {
   "cell_type": "code",
   "execution_count": null,
   "id": "e71fd6ea",
   "metadata": {},
   "outputs": [],
   "source": []
  }
 ],
 "metadata": {
  "kernelspec": {
   "display_name": "Python 3 (ipykernel)",
   "language": "python",
   "name": "python3"
  },
  "language_info": {
   "codemirror_mode": {
    "name": "ipython",
    "version": 3
   },
   "file_extension": ".py",
   "mimetype": "text/x-python",
   "name": "python",
   "nbconvert_exporter": "python",
   "pygments_lexer": "ipython3",
   "version": "3.10.3"
  }
 },
 "nbformat": 4,
 "nbformat_minor": 5
}
