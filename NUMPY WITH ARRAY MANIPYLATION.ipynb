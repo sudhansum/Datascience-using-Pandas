{
 "cells": [
  {
   "cell_type": "markdown",
   "id": "6efbb903",
   "metadata": {},
   "source": [
    "# NUMPY WITH ARRAY MANIPYLATION"
   ]
  },
  {
   "cell_type": "code",
   "execution_count": 1,
   "id": "a758de8c",
   "metadata": {},
   "outputs": [],
   "source": [
    "import pandas as pd\n",
    "import numpy as np"
   ]
  },
  {
   "cell_type": "code",
   "execution_count": 2,
   "id": "7965ef4f",
   "metadata": {},
   "outputs": [],
   "source": [
    "#define and array\n",
    "a = np.arange(1,5)"
   ]
  },
  {
   "cell_type": "code",
   "execution_count": 3,
   "id": "f92fda1e",
   "metadata": {},
   "outputs": [
    {
     "data": {
      "text/plain": [
       "array([1, 2, 3, 4])"
      ]
     },
     "execution_count": 3,
     "metadata": {},
     "output_type": "execute_result"
    }
   ],
   "source": [
    "a"
   ]
  },
  {
   "cell_type": "code",
   "execution_count": 4,
   "id": "4c98c93e",
   "metadata": {},
   "outputs": [
    {
     "data": {
      "text/plain": [
       "<function ndarray.reshape>"
      ]
     },
     "execution_count": 4,
     "metadata": {},
     "output_type": "execute_result"
    }
   ],
   "source": [
    "a.reshape"
   ]
  },
  {
   "cell_type": "code",
   "execution_count": 5,
   "id": "53764d9c",
   "metadata": {},
   "outputs": [
    {
     "data": {
      "text/plain": [
       "array([[1, 2],\n",
       "       [3, 4]])"
      ]
     },
     "execution_count": 5,
     "metadata": {},
     "output_type": "execute_result"
    }
   ],
   "source": [
    "a.reshape(2,2)"
   ]
  },
  {
   "cell_type": "code",
   "execution_count": 7,
   "id": "42557d14",
   "metadata": {},
   "outputs": [],
   "source": [
    " a = np.array([[1,2],[3,4]])"
   ]
  },
  {
   "cell_type": "code",
   "execution_count": 8,
   "id": "0576f841",
   "metadata": {},
   "outputs": [
    {
     "data": {
      "text/plain": [
       "array([[1, 2],\n",
       "       [3, 4]])"
      ]
     },
     "execution_count": 8,
     "metadata": {},
     "output_type": "execute_result"
    }
   ],
   "source": [
    "a"
   ]
  },
  {
   "cell_type": "code",
   "execution_count": 11,
   "id": "27ddc9e2",
   "metadata": {},
   "outputs": [
    {
     "data": {
      "text/plain": [
       "array([[1, 2],\n",
       "       [3, 4],\n",
       "       [5, 6]])"
      ]
     },
     "execution_count": 11,
     "metadata": {},
     "output_type": "execute_result"
    }
   ],
   "source": [
    "y=np.append(a,[[5,6]],axis =0)\n",
    "y"
   ]
  },
  {
   "cell_type": "code",
   "execution_count": 13,
   "id": "7a0b8b7f",
   "metadata": {},
   "outputs": [
    {
     "data": {
      "text/plain": [
       "array([[1, 2, 8],\n",
       "       [3, 4, 9]])"
      ]
     },
     "execution_count": 13,
     "metadata": {},
     "output_type": "execute_result"
    }
   ],
   "source": [
    "y = np.append(a,[[8],[9]],axis=1)\n",
    "y"
   ]
  },
  {
   "cell_type": "code",
   "execution_count": null,
   "id": "0dc9fdcf",
   "metadata": {},
   "outputs": [],
   "source": [
    "#input(arr,obj,value,axis) if there is no axis the array will flatten"
   ]
  },
  {
   "cell_type": "code",
   "execution_count": 14,
   "id": "d5ea1488",
   "metadata": {},
   "outputs": [
    {
     "data": {
      "text/plain": [
       "array([ 1,  2,  3,  4,  5,  6,  7,  8,  9, 10])"
      ]
     },
     "execution_count": 14,
     "metadata": {},
     "output_type": "execute_result"
    }
   ],
   "source": [
    "x=np.arange(1,11)\n",
    "x"
   ]
  },
  {
   "cell_type": "code",
   "execution_count": 21,
   "id": "2bce5c2d",
   "metadata": {},
   "outputs": [
    {
     "data": {
      "text/plain": [
       "array([  1, 999,   2,   3,   4,   5,   6,   7,   8,   9,  10])"
      ]
     },
     "execution_count": 21,
     "metadata": {},
     "output_type": "execute_result"
    }
   ],
   "source": [
    "y= np.insert(x,1,999)\n",
    "y"
   ]
  },
  {
   "cell_type": "code",
   "execution_count": null,
   "id": "933e5f04",
   "metadata": {},
   "outputs": [],
   "source": [
    "# ARRAY BROADCASTING"
   ]
  },
  {
   "cell_type": "code",
   "execution_count": 19,
   "id": "0691fb00",
   "metadata": {},
   "outputs": [
    {
     "data": {
      "text/plain": [
       "array([  1, 999,   2,   3,   4,   5,   6,   7,   8,   9,  10])"
      ]
     },
     "execution_count": 19,
     "metadata": {},
     "output_type": "execute_result"
    }
   ],
   "source": [
    "y= np.insert(x,1,999,axis=0)\n",
    "y"
   ]
  },
  {
   "cell_type": "code",
   "execution_count": 22,
   "id": "65fea082",
   "metadata": {},
   "outputs": [],
   "source": [
    "x= np.array([[1,2],[3,4]])"
   ]
  },
  {
   "cell_type": "code",
   "execution_count": 23,
   "id": "07b98767",
   "metadata": {},
   "outputs": [
    {
     "data": {
      "text/plain": [
       "array([[1, 2],\n",
       "       [3, 4]])"
      ]
     },
     "execution_count": 23,
     "metadata": {},
     "output_type": "execute_result"
    }
   ],
   "source": [
    "x"
   ]
  },
  {
   "cell_type": "code",
   "execution_count": 26,
   "id": "91e041be",
   "metadata": {},
   "outputs": [
    {
     "data": {
      "text/plain": [
       "array([[  1,   2],\n",
       "       [999, 999],\n",
       "       [  3,   4]])"
      ]
     },
     "execution_count": 26,
     "metadata": {},
     "output_type": "execute_result"
    }
   ],
   "source": [
    "y=np.insert(x,1,999,axis=0)\n",
    "y"
   ]
  },
  {
   "cell_type": "code",
   "execution_count": 27,
   "id": "59cd8aad",
   "metadata": {},
   "outputs": [
    {
     "data": {
      "text/plain": [
       "array([[1, 2],\n",
       "       [7, 8],\n",
       "       [3, 4]])"
      ]
     },
     "execution_count": 27,
     "metadata": {},
     "output_type": "execute_result"
    }
   ],
   "source": [
    "y=np.insert(x,1,[7,8],axis=0)\n",
    "y"
   ]
  },
  {
   "cell_type": "code",
   "execution_count": 34,
   "id": "07547475",
   "metadata": {},
   "outputs": [
    {
     "data": {
      "text/plain": [
       "8"
      ]
     },
     "execution_count": 34,
     "metadata": {},
     "output_type": "execute_result"
    }
   ],
   "source": [
    "max_element = np.max(y)\n",
    "max_element"
   ]
  },
  {
   "cell_type": "code",
   "execution_count": 35,
   "id": "2811a48c",
   "metadata": {},
   "outputs": [
    {
     "data": {
      "text/plain": [
       "array([0, 1, 2, 3, 4])"
      ]
     },
     "execution_count": 35,
     "metadata": {},
     "output_type": "execute_result"
    }
   ],
   "source": [
    "y = np.arange(5)\n",
    "y"
   ]
  },
  {
   "cell_type": "code",
   "execution_count": 36,
   "id": "ad6d66a2",
   "metadata": {},
   "outputs": [
    {
     "data": {
      "text/plain": [
       "array([2, 3, 4, 5, 6])"
      ]
     },
     "execution_count": 36,
     "metadata": {},
     "output_type": "execute_result"
    }
   ],
   "source": [
    "y =y+2\n",
    "y"
   ]
  },
  {
   "cell_type": "code",
   "execution_count": 39,
   "id": "21b8147b",
   "metadata": {},
   "outputs": [
    {
     "data": {
      "text/plain": [
       "array([[ 0,  1,  2,  3,  4],\n",
       "       [ 5,  6,  7,  8,  9],\n",
       "       [10, 11, 12, 13, 14]])"
      ]
     },
     "execution_count": 39,
     "metadata": {},
     "output_type": "execute_result"
    }
   ],
   "source": [
    "x= np.arange(15).reshape((3,5))\n",
    "x"
   ]
  },
  {
   "cell_type": "code",
   "execution_count": 41,
   "id": "16b78139",
   "metadata": {},
   "outputs": [
    {
     "name": "stdout",
     "output_type": "stream",
     "text": [
      "y is broadcasted into a 3x3 matrix and added\n"
     ]
    },
    {
     "data": {
      "text/plain": [
       "array([[ 2,  4,  6,  8, 10],\n",
       "       [ 7,  9, 11, 13, 15],\n",
       "       [12, 14, 16, 18, 20]])"
      ]
     },
     "execution_count": 41,
     "metadata": {},
     "output_type": "execute_result"
    }
   ],
   "source": [
    "print('y is broadcasted into a 3x3 matrix and added')\n",
    "y+x\n"
   ]
  },
  {
   "cell_type": "code",
   "execution_count": 42,
   "id": "b733804d",
   "metadata": {},
   "outputs": [
    {
     "data": {
      "text/plain": [
       "array([0, 1, 2])"
      ]
     },
     "execution_count": 42,
     "metadata": {},
     "output_type": "execute_result"
    }
   ],
   "source": [
    "x = np.arange(3)\n",
    "x"
   ]
  },
  {
   "cell_type": "code",
   "execution_count": 44,
   "id": "6c3bd1f5",
   "metadata": {},
   "outputs": [
    {
     "data": {
      "text/plain": [
       "array([[0],\n",
       "       [1],\n",
       "       [2]])"
      ]
     },
     "execution_count": 44,
     "metadata": {},
     "output_type": "execute_result"
    }
   ],
   "source": [
    "y = np.arange(3).reshape((3,1))\n",
    "y"
   ]
  },
  {
   "cell_type": "code",
   "execution_count": 46,
   "id": "689d1266",
   "metadata": {},
   "outputs": [
    {
     "name": "stdout",
     "output_type": "stream",
     "text": [
      "both the arrays will be broadcasted\n"
     ]
    },
    {
     "data": {
      "text/plain": [
       "array([[0, 1, 2],\n",
       "       [1, 2, 3],\n",
       "       [2, 3, 4]])"
      ]
     },
     "execution_count": 46,
     "metadata": {},
     "output_type": "execute_result"
    }
   ],
   "source": [
    "print('both the arrays will be broadcasted')\n",
    "x+y"
   ]
  },
  {
   "cell_type": "markdown",
   "id": "56ac4937",
   "metadata": {},
   "source": [
    " # DELETE FUNCTION TAKES 3 ARRAYS AS DELETE(ARR,OBJ,AXIS=NONE/0/1)"
   ]
  },
  {
   "cell_type": "code",
   "execution_count": 47,
   "id": "c263e7df",
   "metadata": {},
   "outputs": [
    {
     "data": {
      "text/plain": [
       "array([ 1,  2,  3,  4,  5,  6,  7,  8,  9, 10])"
      ]
     },
     "execution_count": 47,
     "metadata": {},
     "output_type": "execute_result"
    }
   ],
   "source": [
    "x = np.arange(1,11)\n",
    "x"
   ]
  },
  {
   "cell_type": "code",
   "execution_count": 50,
   "id": "67a8294d",
   "metadata": {},
   "outputs": [
    {
     "name": "stdout",
     "output_type": "stream",
     "text": [
      "2 will be dleted from the array\n"
     ]
    },
    {
     "data": {
      "text/plain": [
       "array([ 1,  3,  4,  5,  6,  7,  8,  9, 10])"
      ]
     },
     "execution_count": 50,
     "metadata": {},
     "output_type": "execute_result"
    }
   ],
   "source": [
    "print('2 will be dleted from the array')\n",
    "y= np.delete(x,1)\n",
    "y"
   ]
  },
  {
   "cell_type": "code",
   "execution_count": 53,
   "id": "325a94a7",
   "metadata": {},
   "outputs": [
    {
     "data": {
      "text/plain": [
       "array([[1, 2],\n",
       "       [3, 4]])"
      ]
     },
     "execution_count": 53,
     "metadata": {},
     "output_type": "execute_result"
    }
   ],
   "source": [
    "x = np.array([[1,2],[3,4]])\n",
    "x"
   ]
  },
  {
   "cell_type": "code",
   "execution_count": 52,
   "id": "5446cd08",
   "metadata": {},
   "outputs": [
    {
     "name": "stdout",
     "output_type": "stream",
     "text": [
      "first it will flatten and the it will delete\n"
     ]
    },
    {
     "data": {
      "text/plain": [
       "array([1, 2, 4])"
      ]
     },
     "execution_count": 52,
     "metadata": {},
     "output_type": "execute_result"
    }
   ],
   "source": [
    "print('first it will flatten and the it will delete')\n",
    "y = np.delete(x,2)\n",
    "y"
   ]
  },
  {
   "cell_type": "code",
   "execution_count": 57,
   "id": "95f7f95a",
   "metadata": {},
   "outputs": [
    {
     "data": {
      "text/plain": [
       "array([[0, 1, 2],\n",
       "       [3, 4, 5]])"
      ]
     },
     "execution_count": 57,
     "metadata": {},
     "output_type": "execute_result"
    }
   ],
   "source": [
    "y=np.arange(6).reshape(2,3)\n",
    "y"
   ]
  },
  {
   "cell_type": "code",
   "execution_count": 58,
   "id": "e4ea1300",
   "metadata": {},
   "outputs": [
    {
     "data": {
      "text/plain": [
       "array([[0, 1, 2],\n",
       "       [3, 4, 5],\n",
       "       [0, 1, 2],\n",
       "       [3, 4, 5]])"
      ]
     },
     "execution_count": 58,
     "metadata": {},
     "output_type": "execute_result"
    }
   ],
   "source": [
    "np.concatenate((x,y))"
   ]
  },
  {
   "cell_type": "code",
   "execution_count": 59,
   "id": "5ed31588",
   "metadata": {},
   "outputs": [
    {
     "data": {
      "text/plain": [
       "array([[0, 1, 2, 0, 1, 2],\n",
       "       [3, 4, 5, 3, 4, 5]])"
      ]
     },
     "execution_count": 59,
     "metadata": {},
     "output_type": "execute_result"
    }
   ],
   "source": [
    "np.concatenate((x,y),axis =1)"
   ]
  },
  {
   "cell_type": "markdown",
   "id": "0237fea0",
   "metadata": {},
   "source": [
    "# 2D ARRAY"
   ]
  },
  {
   "cell_type": "code",
   "execution_count": 4,
   "id": "fdb92981",
   "metadata": {},
   "outputs": [
    {
     "name": "stdout",
     "output_type": "stream",
     "text": [
      "[[5 6 7 8]\n",
      " [6 7 8 9]]\n"
     ]
    }
   ],
   "source": [
    "import numpy as np\n",
    "l1=[5,6,7,8]\n",
    "l2=[6,7,8,9]\n",
    "l3=[10,11,12]\n",
    "a=np.array([l1,l2])\n",
    "print(a)"
   ]
  },
  {
   "cell_type": "code",
   "execution_count": 7,
   "id": "0d456054",
   "metadata": {},
   "outputs": [
    {
     "name": "stdout",
     "output_type": "stream",
     "text": [
      "[[ 5  6  7  8]\n",
      " [ 6  7  8  9]\n",
      " [10 11 12 13]]\n"
     ]
    }
   ],
   "source": [
    "a=np.array([[5,6,7,8],[6,7,8,9],[10,11,12,13]])\n",
    "print(a)"
   ]
  },
  {
   "cell_type": "markdown",
   "id": "3e9a0aaa",
   "metadata": {},
   "source": [
    "HOW ARE ARRAY STORED IN THE MEMORY"
   ]
  },
  {
   "cell_type": "code",
   "execution_count": 10,
   "id": "2cbc26b0",
   "metadata": {},
   "outputs": [
    {
     "name": "stdout",
     "output_type": "stream",
     "text": [
      "(3, 4)\n"
     ]
    }
   ],
   "source": [
    "print(a.shape)"
   ]
  },
  {
   "cell_type": "markdown",
   "id": "84e9c31b",
   "metadata": {},
   "source": [
    "# 2D IS, AXIS0 =1D,AXIS1=2D,RANK = NO OF AXES,SHAPE- NUMBER OF ELEMENTS ALONG EACH AXIS OF IT SHAPE IS THE FORM OF TUPLE"
   ]
  },
  {
   "cell_type": "code",
   "execution_count": 13,
   "id": "5888f46e",
   "metadata": {},
   "outputs": [
    {
     "name": "stdout",
     "output_type": "stream",
     "text": [
      "[6 7 8 9]\n"
     ]
    }
   ],
   "source": [
    "l1=[5,6,7,8]\n",
    "x=np.array(l1)\n",
    "x=x+1\n",
    "print(x)"
   ]
  },
  {
   "cell_type": "markdown",
   "id": "8d3f4a5e",
   "metadata": {},
   "source": [
    "fromiter() - USED TO MAKE A 1D ARRAY MOSTLY FROM DICTONARY"
   ]
  },
  {
   "cell_type": "code",
   "execution_count": 14,
   "id": "461ee00d",
   "metadata": {},
   "outputs": [
    {
     "name": "stdout",
     "output_type": "stream",
     "text": [
      "[3 6 7]\n"
     ]
    }
   ],
   "source": [
    "y={3:'d',6:'m',7:4}\n",
    "x=np.fromiter(y,dtype=np.int32)\n",
    "print(x)"
   ]
  },
  {
   "cell_type": "code",
   "execution_count": 15,
   "id": "db8566d3",
   "metadata": {},
   "outputs": [
    {
     "name": "stdout",
     "output_type": "stream",
     "text": [
      "[3 6]\n"
     ]
    }
   ],
   "source": [
    "y={3:'d',6:'m',6:4}\n",
    "x=np.fromiter(y,dtype=np.int32)\n",
    "print(x)"
   ]
  },
  {
   "cell_type": "code",
   "execution_count": 17,
   "id": "0e04844e",
   "metadata": {},
   "outputs": [
    {
     "name": "stdout",
     "output_type": "stream",
     "text": [
      "['p' 'y' 't' 'h' 'o' 'n']\n"
     ]
    }
   ],
   "source": [
    "y=\"python\"\n",
    "x=np.fromiter(y,dtype=\"U2\")\n",
    "print(x)"
   ]
  },
  {
   "cell_type": "code",
   "execution_count": 18,
   "id": "5d356a76",
   "metadata": {},
   "outputs": [
    {
     "name": "stdout",
     "output_type": "stream",
     "text": [
      "['p' 'y' 't' 'h' 'o']\n"
     ]
    }
   ],
   "source": [
    "y=\"python\"\n",
    "x=np.fromiter(y,dtype=\"U2\",count=5)\n",
    "print(x)"
   ]
  },
  {
   "cell_type": "markdown",
   "id": "2766e914",
   "metadata": {},
   "source": [
    "# ACCESSING A 2D ARRAY"
   ]
  },
  {
   "cell_type": "code",
   "execution_count": 19,
   "id": "cc2fd522",
   "metadata": {},
   "outputs": [
    {
     "name": "stdout",
     "output_type": "stream",
     "text": [
      "9\n"
     ]
    }
   ],
   "source": [
    "a= np.array([[5,6,7,8],[6,7,8,9]])\n",
    "print(a[1,3])\n",
    "print(\"first row and 3rd column\")"
   ]
  },
  {
   "cell_type": "code",
   "execution_count": 20,
   "id": "e7a9ae4f",
   "metadata": {},
   "outputs": [
    {
     "name": "stdout",
     "output_type": "stream",
     "text": [
      "12\n",
      "11\n"
     ]
    }
   ],
   "source": [
    "a=np.array([[5,6,7,8],[6,7,8,9],[10,11,12,13]])\n",
    "print(a[2,2])\n",
    "print(a[2,-3])"
   ]
  },
  {
   "cell_type": "markdown",
   "id": "bfda96c7",
   "metadata": {},
   "source": [
    "# MODIFY THE VALUES OF AN ARRAY"
   ]
  },
  {
   "cell_type": "code",
   "execution_count": 23,
   "id": "4071010c",
   "metadata": {},
   "outputs": [
    {
     "name": "stdout",
     "output_type": "stream",
     "text": [
      "6\n",
      "[[ 5  6  7  8]\n",
      " [ 6  7  8  9]\n",
      " [10 11  6 13]] 12 is replaces with 6\n"
     ]
    }
   ],
   "source": [
    "a= np.array([[5,6,7,8],[6,7,8,9],[10,11,12,13]])\n",
    "a[2,2]=6\n",
    "print(a[2,2])\n",
    "print(a,\"12 is replaces with 6\")"
   ]
  },
  {
   "cell_type": "markdown",
   "id": "32934d8b",
   "metadata": {},
   "source": [
    "# ARRAY CONCATINATION,hstack() - to add horizontally\n",
    " vstack() IS USED TO ADD COLUMNS VERTICALLY"
   ]
  },
  {
   "cell_type": "code",
   "execution_count": 25,
   "id": "e4fb84a0",
   "metadata": {},
   "outputs": [],
   "source": [
    "import numpy as np\n"
   ]
  },
  {
   "cell_type": "code",
   "execution_count": 27,
   "id": "92b9c5ac",
   "metadata": {},
   "outputs": [
    {
     "name": "stdout",
     "output_type": "stream",
     "text": [
      "[ 5  6  7  8  6  7  8  9 10 11 12]\n"
     ]
    }
   ],
   "source": [
    "l1=[5,6,7,8]\n",
    "l2=[6,7,8,9]\n",
    "l3=[10,11,12]\n",
    "cl=np.hstack((l1,l2,l3))\n",
    "print(cl)"
   ]
  },
  {
   "cell_type": "markdown",
   "id": "eda7da6d",
   "metadata": {},
   "source": [
    " VSTACK IS USED TO ADD COLUMNS"
   ]
  },
  {
   "cell_type": "code",
   "execution_count": 29,
   "id": "2975c350",
   "metadata": {},
   "outputs": [
    {
     "name": "stdout",
     "output_type": "stream",
     "text": [
      "[[ 5  6  7  8]\n",
      " [ 6  7  8  9]\n",
      " [10 11 12 13]]\n"
     ]
    }
   ],
   "source": [
    "l1=[5,6,7,8]\n",
    "l2=[6,7,8,9]\n",
    "l3=[10,11,12,13]\n",
    "cl=np.vstack((l1,l2,l3))\n",
    "print(cl)"
   ]
  },
  {
   "cell_type": "code",
   "execution_count": 32,
   "id": "dbc049fc",
   "metadata": {},
   "outputs": [
    {
     "name": "stdout",
     "output_type": "stream",
     "text": [
      "[[ 5  6  7]\n",
      " [ 6  7  8]\n",
      " [10 11 12]\n",
      " [ 2  6  9]]\n"
     ]
    }
   ],
   "source": [
    "l1=np.array([[5,6,7],[6,7,8]])\n",
    "l2=np.array([[10,11,12],[2,6,9]])\n",
    "cl=np.vstack((l1,l2))\n",
    "print(cl)"
   ]
  },
  {
   "cell_type": "markdown",
   "id": "1f2e4a32",
   "metadata": {},
   "source": [
    "# concatenate() function is used in either axis 0(columns dimention should be same) or axis 1(row dimentions should be same)"
   ]
  },
  {
   "cell_type": "code",
   "execution_count": 36,
   "id": "3895cbfc",
   "metadata": {},
   "outputs": [
    {
     "name": "stdout",
     "output_type": "stream",
     "text": [
      "(2, 3)\n",
      "[[5 6 7]\n",
      " [6 7 8]]\n",
      "\n",
      "[[ 5  6  7]\n",
      " [ 6  7  8]\n",
      " [10 11 12]\n",
      " [ 2  6  9]]\n"
     ]
    }
   ],
   "source": [
    "l1=np.array([[5,6,7],[6,7,8]])\n",
    "l2=np.array([[10,11,12],[2,6,9]])\n",
    "print(l1.shape)\n",
    "print(l1)\n",
    "print()\n",
    "cl=np.concatenate((l1,l2),axis=0)\n",
    "print(cl)"
   ]
  },
  {
   "cell_type": "code",
   "execution_count": 37,
   "id": "7de2b14c",
   "metadata": {},
   "outputs": [
    {
     "name": "stdout",
     "output_type": "stream",
     "text": [
      "[[ 5  6  7 10 11 12]\n",
      " [ 6  7  8  2  6  9]]\n"
     ]
    }
   ],
   "source": [
    "l1=np.array([[5,6,7],[6,7,8]])\n",
    "l2=np.array([[10,11,12],[2,6,9]])\n",
    "cl=np.concatenate((l1,l2),axis=1)\n",
    "print(cl)"
   ]
  },
  {
   "cell_type": "markdown",
   "id": "980e260d",
   "metadata": {},
   "source": [
    "# TRANSPOSE OF AN ARRAY"
   ]
  },
  {
   "cell_type": "code",
   "execution_count": 40,
   "id": "439b3b0d",
   "metadata": {},
   "outputs": [
    {
     "name": "stdout",
     "output_type": "stream",
     "text": [
      "[[ 5  6  7 10  2]\n",
      " [ 6  7  8 11  6]\n",
      " [ 2  1  3 12  9]] column size increased as hstack\n"
     ]
    }
   ],
   "source": [
    "l1=np.array([[5,6,7],[6,7,8],[2,1,3]])\n",
    "l2=np.array([[10,11,12],[2,6,9]])\n",
    "c1=np.concatenate((l1,l2.T),axis=1)\n",
    "print(c1,\"column size increased as hstack\")"
   ]
  },
  {
   "cell_type": "markdown",
   "id": "bd8ebfb0",
   "metadata": {},
   "source": [
    "# AXIS NONE WILL MAKE A SINGLE ROW MATRIX"
   ]
  },
  {
   "cell_type": "code",
   "execution_count": 41,
   "id": "2628b780",
   "metadata": {},
   "outputs": [
    {
     "name": "stdout",
     "output_type": "stream",
     "text": [
      "[ 5  6  7  6  7  8  2  1  3 10  2 11  6 12  9] AXIS NONE WILL MAKE A SINGLE ROW MATRIX\n"
     ]
    }
   ],
   "source": [
    "l1=np.array([[5,6,7],[6,7,8],[2,1,3]])\n",
    "l2=np.array([[10,11,12],[2,6,9]])\n",
    "c1=np.concatenate((l1,l2.T),axis=None)\n",
    "print(c1,'AXIS NONE WILL MAKE A SINGLE ROW MATRIX')"
   ]
  },
  {
   "cell_type": "markdown",
   "id": "4b980f54",
   "metadata": {},
   "source": [
    "# hsplit()vsplit(),extract()\n"
   ]
  },
  {
   "cell_type": "code",
   "execution_count": 43,
   "id": "39a3f38a",
   "metadata": {},
   "outputs": [
    {
     "name": "stdout",
     "output_type": "stream",
     "text": [
      "[array([[5, 6],\n",
      "       [6, 7],\n",
      "       [2, 1]]), array([[7, 8],\n",
      "       [8, 9],\n",
      "       [3, 4]])]\n",
      "[[7 8]\n",
      " [8 9]\n",
      " [3 4]]\n"
     ]
    }
   ],
   "source": [
    "x=np.array([[5,6,7,8],[6,7,8,9],[2,1,3,4]])\n",
    "y=np.hsplit(x,2)\n",
    "print(y)\n",
    "print(y[1])"
   ]
  },
  {
   "cell_type": "code",
   "execution_count": 44,
   "id": "41271aaf",
   "metadata": {},
   "outputs": [
    {
     "name": "stdout",
     "output_type": "stream",
     "text": [
      "[array([[5, 6, 7, 8]]), array([[6, 7, 8, 9]]), array([[2, 1, 3, 4]])]\n"
     ]
    }
   ],
   "source": [
    "x=np.array([[5,6,7,8],[6,7,8,9],[2,1,3,4]])\n",
    "y=np.vsplit(x,3)\n",
    "print(y)"
   ]
  },
  {
   "cell_type": "code",
   "execution_count": 48,
   "id": "45f5d75e",
   "metadata": {},
   "outputs": [
    {
     "name": "stdout",
     "output_type": "stream",
     "text": [
      "[array([[5, 6, 7, 8]]), array([[6, 7, 8, 9]]), array([[2, 1, 3, 4]])]\n",
      "[array([[5, 6, 7, 8],\n",
      "       [6, 7, 8, 9]]), array([[2, 1, 3, 4]]), array([], shape=(0, 4), dtype=int32)]\n"
     ]
    }
   ],
   "source": [
    "x=np.array([[5,6,7,8],[6,7,8,9],[2,1,3,4]])\n",
    "y=np.split(x,3)\n",
    "print(y)\n",
    "y=np.split(x,[2,5])\n",
    "print(y)"
   ]
  },
  {
   "cell_type": "code",
   "execution_count": 49,
   "id": "4d6efa87",
   "metadata": {},
   "outputs": [
    {
     "name": "stdout",
     "output_type": "stream",
     "text": [
      "[array([[5, 6, 7, 8]]), array([[6, 7, 8, 9]]), array([[2, 1, 3, 4]])]\n",
      "[array([[5, 6, 7, 8],\n",
      "       [6, 7, 8, 9]]), array([[2, 1, 3, 4]]), array([], shape=(0, 4), dtype=int32)]\n"
     ]
    }
   ],
   "source": [
    "x=np.array([[5,6,7,8],[6,7,8,9],[2,1,3,4]])\n",
    "y=np.split(x,3)\n",
    "print(y)\n",
    "y=np.split(x,[2,5],axis=0)\n",
    "print(y)"
   ]
  },
  {
   "cell_type": "code",
   "execution_count": 50,
   "id": "bd3a373a",
   "metadata": {},
   "outputs": [
    {
     "name": "stdout",
     "output_type": "stream",
     "text": [
      "[array([[5, 6, 7, 8]]), array([[6, 7, 8, 9]]), array([[2, 1, 3, 4]])]\n",
      "[array([[5, 6],\n",
      "       [6, 7],\n",
      "       [2, 1]]), array([[7, 8],\n",
      "       [8, 9],\n",
      "       [3, 4]]), array([], shape=(3, 0), dtype=int32)] along the column\n"
     ]
    }
   ],
   "source": [
    "x=np.array([[5,6,7,8],[6,7,8,9],[2,1,3,4]])\n",
    "y=np.split(x,3)\n",
    "print(y)\n",
    "y=np.split(x,[2,5],axis=1)\n",
    "print(y,\"along the column\")"
   ]
  },
  {
   "cell_type": "markdown",
   "id": "b56d5328",
   "metadata": {},
   "source": [
    "# EXTRACT()"
   ]
  },
  {
   "cell_type": "code",
   "execution_count": 51,
   "id": "802f67a8",
   "metadata": {},
   "outputs": [
    {
     "name": "stdout",
     "output_type": "stream",
     "text": [
      "[6 6 9 3]\n",
      "<class 'numpy.ndarray'>\n"
     ]
    }
   ],
   "source": [
    "x=np.array([[5,6,7,8],[6,7,8,9],[2,1,3,4]])\n",
    "c=np.mod(x,3)==0\n",
    "y=np.extract(c,x)\n",
    "print(y)\n",
    "print(type(y))\n"
   ]
  },
  {
   "cell_type": "code",
   "execution_count": 53,
   "id": "35c0dcac",
   "metadata": {},
   "outputs": [
    {
     "name": "stdout",
     "output_type": "stream",
     "text": [
      "[5 6 7 8 6 7 8 9 2 1 3 4]\n",
      "<class 'numpy.ndarray'>\n"
     ]
    }
   ],
   "source": [
    "x=np.array([[5,6,7,8],[6,7,8,9],[2,1,3,4]])\n",
    "c=np.sqrt(x)>0\n",
    "y=np.extract(c,x)\n",
    "print(y)\n",
    "print(type(y))"
   ]
  },
  {
   "cell_type": "code",
   "execution_count": 54,
   "id": "764ef49c",
   "metadata": {},
   "outputs": [
    {
     "name": "stdout",
     "output_type": "stream",
     "text": [
      "[[ 6  7  8  9]\n",
      " [ 7  8  9 10]\n",
      " [ 3  2  4  5]]\n"
     ]
    }
   ],
   "source": [
    "x=np.array([[5,6,7,8],[6,7,8,9],[2,1,3,4]])\n",
    "nx=x+1\n",
    "print(nx)"
   ]
  },
  {
   "cell_type": "code",
   "execution_count": 56,
   "id": "e423202a",
   "metadata": {},
   "outputs": [
    {
     "name": "stdout",
     "output_type": "stream",
     "text": [
      "[[15 17 19]\n",
      " [ 8 13 17]\n",
      " [ 8  8 11]]\n"
     ]
    }
   ],
   "source": [
    "l1=np.array([[5,6,7],[6,7,8],[2,1,3]])\n",
    "l2=np.array([[10,11,12],[2,6,9],[6,7,8]])\n",
    "nx=l1+l2\n",
    "print(nx)"
   ]
  },
  {
   "cell_type": "markdown",
   "id": "23285aa3",
   "metadata": {},
   "source": [
    "# STASTICS IS THE BRANCH OF MATHEMATICS WHICH WILL HELP TO STUDY DATA"
   ]
  },
  {
   "cell_type": "markdown",
   "id": "11771713",
   "metadata": {},
   "source": [
    "A high posative coviarance tell that the data sets are similar, both the datasets should have same shape"
   ]
  },
  {
   "cell_type": "code",
   "execution_count": 57,
   "id": "7f7a79e2",
   "metadata": {},
   "outputs": [
    {
     "name": "stdout",
     "output_type": "stream",
     "text": [
      "[[2.5  4.25]\n",
      " [4.25 8.7 ]]\n"
     ]
    }
   ],
   "source": [
    "a=np.array([5,6,4,3,2])\n",
    "b=np.array([4,9,4,3,1])\n",
    "c=np.cov(a,b)\n",
    "print(c)"
   ]
  },
  {
   "cell_type": "code",
   "execution_count": 58,
   "id": "246df54e",
   "metadata": {},
   "outputs": [
    {
     "name": "stdout",
     "output_type": "stream",
     "text": [
      "here we are going to calculate the cov of 3 arrays which are in arrya a.SO op mat will have 9 vals\n"
     ]
    }
   ],
   "source": [
    "print(\"here we are going to calculate the cov of 3 arrays which are in arrya a.SO op mat will have 9 vals\")"
   ]
  },
  {
   "cell_type": "code",
   "execution_count": 61,
   "id": "9d99f368",
   "metadata": {},
   "outputs": [
    {
     "name": "stdout",
     "output_type": "stream",
     "text": [
      "here we are going to calculate the cov of 3 arrays which are in arrya a.SO op mat will have 9 vals\n",
      "[[ 2.5   2.25 -3.75]\n",
      " [ 2.25  3.7  -3.55]\n",
      " [-3.75 -3.55  6.7 ]] the more -ve values represents they are very dissimilar\n"
     ]
    }
   ],
   "source": [
    "print(\"here we are going to calculate the cov of 3 arrays which are in arrya a.SO op mat will have 9 vals\")\n",
    "l1=np.array([[5,6,4,3,2],[6,7,8,5,3],[2,1,3,7,6]])\n",
    "c=np.cov(l1)\n",
    "print(c,\"the more -ve values represents they are very dissimilar\")"
   ]
  },
  {
   "cell_type": "markdown",
   "id": "6b69762a",
   "metadata": {},
   "source": [
    "# CORELATION - IF THE DATASETS ARE SAME OR DIFFERNT,DOES NOT SAY HOW MUCH SAME OR DIFFFERENT"
   ]
  },
  {
   "cell_type": "code",
   "execution_count": 62,
   "id": "7f8f43aa",
   "metadata": {},
   "outputs": [
    {
     "name": "stdout",
     "output_type": "stream",
     "text": [
      "[[1.         0.91129565]\n",
      " [0.91129565 1.        ]]\n"
     ]
    }
   ],
   "source": [
    "a=np.array([5,6,4,3,2])\n",
    "b=np.array([4,9,4,3,1])\n",
    "c=np.corrcoef(a,b)\n",
    "print(c)"
   ]
  },
  {
   "cell_type": "code",
   "execution_count": 64,
   "id": "ae159c33",
   "metadata": {},
   "outputs": [
    {
     "name": "stdout",
     "output_type": "stream",
     "text": [
      "[[ 1.          0.73979544 -0.91627083]\n",
      " [ 0.73979544  1.         -0.71300092]\n",
      " [-0.91627083 -0.71300092  1.        ]]\n"
     ]
    }
   ],
   "source": [
    "l1=np.array([[5,6,4,3,2],[6,7,8,5,3],[2,1,3,7,6]])\n",
    "c=np.corrcoef(l1)\n",
    "print(c)"
   ]
  },
  {
   "cell_type": "markdown",
   "id": "f05ee55c",
   "metadata": {},
   "source": [
    "# LINEAR REGRESSION-IS USED IN THE BUSINESS TO EVALUATE TRENDS AND MAKE ESTIMATES OR FORECAST. FOR EXAMPLE IF A COMPANY SALES HAVE INCREASED STEADILY EVERY MONTH FOR THE PAST FEW YEARS, BY CONDUCTING A LINEAR ANALYSIS ON THE SALES DATA WITH MONTHLY SALES, THE COMPANY FORECAST SALES IN THE FUTURE MONTHS.\n",
    "POLYFIT()\n"
   ]
  },
  {
   "cell_type": "code",
   "execution_count": 66,
   "id": "71cdd819",
   "metadata": {},
   "outputs": [
    {
     "name": "stdout",
     "output_type": "stream",
     "text": [
      "[ 1.7 -2.6]\n"
     ]
    }
   ],
   "source": [
    "a=np.array([5,6,4,3,2])\n",
    "b=np.array([4,9,4,3,1])\n",
    "c=np.polyfit(a,b,1)\n",
    "print(c)"
   ]
  },
  {
   "cell_type": "markdown",
   "id": "a8baa7be",
   "metadata": {},
   "source": [
    "#  NUMPY LIBRARY"
   ]
  },
  {
   "cell_type": "code",
   "execution_count": null,
   "id": "1c4cd8a2",
   "metadata": {},
   "outputs": [],
   "source": []
  },
  {
   "cell_type": "code",
   "execution_count": null,
   "id": "238daffe",
   "metadata": {},
   "outputs": [],
   "source": []
  },
  {
   "cell_type": "code",
   "execution_count": null,
   "id": "68995112",
   "metadata": {},
   "outputs": [],
   "source": []
  },
  {
   "cell_type": "code",
   "execution_count": null,
   "id": "d50f6b1e",
   "metadata": {},
   "outputs": [],
   "source": []
  },
  {
   "cell_type": "code",
   "execution_count": null,
   "id": "b8841528",
   "metadata": {},
   "outputs": [],
   "source": []
  },
  {
   "cell_type": "code",
   "execution_count": null,
   "id": "90a184ad",
   "metadata": {},
   "outputs": [],
   "source": []
  },
  {
   "cell_type": "code",
   "execution_count": null,
   "id": "757a5641",
   "metadata": {},
   "outputs": [],
   "source": []
  },
  {
   "cell_type": "code",
   "execution_count": null,
   "id": "4baabcd1",
   "metadata": {},
   "outputs": [],
   "source": []
  },
  {
   "cell_type": "code",
   "execution_count": null,
   "id": "de022062",
   "metadata": {},
   "outputs": [],
   "source": []
  },
  {
   "cell_type": "code",
   "execution_count": null,
   "id": "fcbfbefc",
   "metadata": {},
   "outputs": [],
   "source": []
  }
 ],
 "metadata": {
  "kernelspec": {
   "display_name": "Python 3 (ipykernel)",
   "language": "python",
   "name": "python3"
  },
  "language_info": {
   "codemirror_mode": {
    "name": "ipython",
    "version": 3
   },
   "file_extension": ".py",
   "mimetype": "text/x-python",
   "name": "python",
   "nbconvert_exporter": "python",
   "pygments_lexer": "ipython3",
   "version": "3.10.3"
  }
 },
 "nbformat": 4,
 "nbformat_minor": 5
}
