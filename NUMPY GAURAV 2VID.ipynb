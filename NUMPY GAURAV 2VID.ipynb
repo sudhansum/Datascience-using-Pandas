{
 "cells": [
  {
   "cell_type": "markdown",
   "id": "2279a96c",
   "metadata": {},
   "source": [
    "### WORKING WITH NUMPY ARRAYS MANIPULATIONS"
   ]
  },
  {
   "cell_type": "code",
   "execution_count": 1,
   "id": "7e7d8b51",
   "metadata": {},
   "outputs": [],
   "source": [
    "import numpy as np"
   ]
  },
  {
   "cell_type": "code",
   "execution_count": 2,
   "id": "e5c8dd43",
   "metadata": {},
   "outputs": [
    {
     "data": {
      "text/plain": [
       "2"
      ]
     },
     "execution_count": 2,
     "metadata": {},
     "output_type": "execute_result"
    }
   ],
   "source": [
    "x= np.array([1,2,3,4])\n",
    "x[1]"
   ]
  },
  {
   "cell_type": "code",
   "execution_count": 4,
   "id": "dd47d16d",
   "metadata": {},
   "outputs": [
    {
     "name": "stdout",
     "output_type": "stream",
     "text": [
      "6\n"
     ]
    }
   ],
   "source": [
    "x = np.array([[1, 2, 3],[ 4, 5,6]])\n",
    "print(x[1,2])            "
   ]
  },
  {
   "cell_type": "code",
   "execution_count": 7,
   "id": "4c5f0001",
   "metadata": {},
   "outputs": [
    {
     "name": "stdout",
     "output_type": "stream",
     "text": [
      "3\n",
      "4\n"
     ]
    }
   ],
   "source": [
    "a=np.array([[5,6,7,3],[6,7,8,9],[16,4,3,2]])\n",
    "print(a[2,2])\n",
    "print(a[2,-3])"
   ]
  },
  {
   "cell_type": "markdown",
   "id": "0d2543be",
   "metadata": {},
   "source": [
    "### MODIFY THE VALUE IN AN ARRAY"
   ]
  },
  {
   "cell_type": "code",
   "execution_count": 10,
   "id": "74049969",
   "metadata": {},
   "outputs": [
    {
     "name": "stdout",
     "output_type": "stream",
     "text": [
      "6\n",
      "4\n"
     ]
    }
   ],
   "source": [
    "a=np.array([[5,6,7,3],[6,7,8,9],[16,4,3,2]])\n",
    "a[2,2]=6\n",
    "print(a[2,2])\n",
    "print(a[2,-3])"
   ]
  },
  {
   "cell_type": "code",
   "execution_count": 12,
   "id": "375b2ead",
   "metadata": {},
   "outputs": [
    {
     "name": "stdout",
     "output_type": "stream",
     "text": [
      "[7 7 8]\n",
      "[5 6 7 7 8]\n",
      "[8 9 9]\n",
      "[5 7 8]\n",
      "[6 7]\n",
      "[6 7 7 8]\n",
      "[6 7]\n"
     ]
    }
   ],
   "source": [
    "x=np.array([5,6,7,7,8,9,9])\n",
    "print(x[2:5])\n",
    "print(x[:5])\n",
    "print(x[4:])\n",
    "print(x[:5:2])\n",
    "print(x[1:3])\n",
    "print(x[-6:-2]) \n",
    "print(x[-6:-3:2])"
   ]
  },
  {
   "cell_type": "code",
   "execution_count": 13,
   "id": "62f3411a",
   "metadata": {},
   "outputs": [
    {
     "name": "stdout",
     "output_type": "stream",
     "text": [
      "[[ 1  2  3  4  5]\n",
      " [ 6  7  8  9 10]\n",
      " [11 12 13 14 15]\n",
      " [16 17 18 19 20]\n",
      " [21 22 23 24 25]]\n"
     ]
    }
   ],
   "source": [
    "x = np.arange(1,26).reshape(5,5)\n",
    "print(x)"
   ]
  },
  {
   "cell_type": "code",
   "execution_count": 14,
   "id": "0e80882c",
   "metadata": {},
   "outputs": [
    {
     "data": {
      "text/plain": [
       "array([[ 1,  2,  3],\n",
       "       [ 6,  7,  8],\n",
       "       [11, 12, 13],\n",
       "       [16, 17, 18],\n",
       "       [21, 22, 23]])"
      ]
     },
     "execution_count": 14,
     "metadata": {},
     "output_type": "execute_result"
    }
   ],
   "source": [
    "x[:,:3]"
   ]
  },
  {
   "cell_type": "code",
   "execution_count": 15,
   "id": "4061e1df",
   "metadata": {},
   "outputs": [
    {
     "data": {
      "text/plain": [
       "array([12, 13, 14])"
      ]
     },
     "execution_count": 15,
     "metadata": {},
     "output_type": "execute_result"
    }
   ],
   "source": [
    "x[2,1:4]\n"
   ]
  },
  {
   "cell_type": "code",
   "execution_count": 16,
   "id": "d0bbfc38",
   "metadata": {},
   "outputs": [
    {
     "data": {
      "text/plain": [
       "array([10, 15, 20, 25])"
      ]
     },
     "execution_count": 16,
     "metadata": {},
     "output_type": "execute_result"
    }
   ],
   "source": [
    "x[1:,4]"
   ]
  },
  {
   "cell_type": "code",
   "execution_count": 19,
   "id": "c8cbf12c",
   "metadata": {},
   "outputs": [
    {
     "name": "stdout",
     "output_type": "stream",
     "text": [
      "[[7 7 8]\n",
      " [5 4 2]]\n",
      "\n",
      "[[7 6 5]]\n"
     ]
    }
   ],
   "source": [
    "x=np.array([[5,6,7,7,8],[7,6,5,4,2],[5,6,4,3,2]])\n",
    "print(x[:2,2:])\n",
    "print()\n",
    "print(x[1:2,:3])"
   ]
  },
  {
   "cell_type": "markdown",
   "id": "80c1ab8d",
   "metadata": {},
   "source": [
    "### 1. Combining existing arrays horizontally or vertically\n",
    "### 1. hstack()\n",
    "### 2. vstack()"
   ]
  },
  {
   "cell_type": "code",
   "execution_count": 4,
   "id": "ff310cef",
   "metadata": {},
   "outputs": [
    {
     "name": "stdout",
     "output_type": "stream",
     "text": [
      "[ 1  2  3  6  7  8  6  8 91]\n"
     ]
    }
   ],
   "source": [
    "l1=[1,2,3]\n",
    "l2= [6,7,8]\n",
    "l3=[6,8,91]\n",
    "cl=np.hstack((l1,l2,l3))\n",
    "print(cl)"
   ]
  },
  {
   "cell_type": "code",
   "execution_count": 2,
   "id": "60cd810d",
   "metadata": {},
   "outputs": [
    {
     "name": "stdout",
     "output_type": "stream",
     "text": [
      "[[1 2 3 6 8 9]\n",
      " [6 7 8 6 8 9]]\n"
     ]
    }
   ],
   "source": [
    "l1=np.array([[1,2,3],[6,7,8]])\n",
    "l2=np.array([[6,8,9], [6,8,9]])\n",
    "cl=np.hstack((l1,l2))\n",
    "print(cl)"
   ]
  },
  {
   "cell_type": "markdown",
   "id": "84ba1782",
   "metadata": {},
   "source": [
    "### VSTACK :- ROWS INCREASES  AND COLUMNS REMAINS CONSTANT "
   ]
  },
  {
   "cell_type": "code",
   "execution_count": 3,
   "id": "c39b3558",
   "metadata": {},
   "outputs": [
    {
     "name": "stdout",
     "output_type": "stream",
     "text": [
      "[[ 1  2  3]\n",
      " [ 6  7  8]\n",
      " [ 6  8 91]]\n"
     ]
    }
   ],
   "source": [
    "l1=[1,2,3]\n",
    "l2= [6,7,8]\n",
    "l3=[6,8,91]\n",
    "cl=np.vstack((l1,l2,l3))\n",
    "print(cl)"
   ]
  },
  {
   "cell_type": "code",
   "execution_count": 4,
   "id": "41602a3f",
   "metadata": {},
   "outputs": [
    {
     "name": "stdout",
     "output_type": "stream",
     "text": [
      "[[1 2 3]\n",
      " [6 7 8]\n",
      " [6 8 9]\n",
      " [6 8 9]]\n"
     ]
    }
   ],
   "source": [
    "l1=np.array([[1,2,3],[6,7,8]])\n",
    "l2=np.array([[6,8,9], [6,8,9]])\n",
    "cl=np.vstack((l1,l2))\n",
    "print(cl)"
   ]
  },
  {
   "cell_type": "markdown",
   "id": "7937e048",
   "metadata": {},
   "source": [
    "### concatenate: - perform the function in rows ie hstack(axis=1) \n",
    "###  or columns ie vstack(axis =0). The shape of the array should remain same\n",
    "     "
   ]
  },
  {
   "cell_type": "code",
   "execution_count": 10,
   "id": "4098a689",
   "metadata": {},
   "outputs": [
    {
     "name": "stdout",
     "output_type": "stream",
     "text": [
      "(2, 3)\n",
      "[[1 2 3]\n",
      " [6 7 8]]\n"
     ]
    }
   ],
   "source": [
    "l1=np.array([[1,2,3],[6,7,8]])\n",
    "print(l1.shape)\n",
    "print(l1)"
   ]
  },
  {
   "cell_type": "code",
   "execution_count": 11,
   "id": "53bd356a",
   "metadata": {},
   "outputs": [
    {
     "name": "stdout",
     "output_type": "stream",
     "text": [
      "[[1 2 3]\n",
      " [6 7 8]\n",
      " [6 8 9]\n",
      " [6 8 9]] columns remains constant and rows increases\n"
     ]
    }
   ],
   "source": [
    "l1=np.array([[1,2,3],[6,7,8]])\n",
    "l2=np.array([[6,8,9], [6,8,9]])\n",
    "cl=np.concatenate((l1,l2), axis=0)\n",
    "print(cl,'columns remains constant and rows increases')"
   ]
  },
  {
   "cell_type": "code",
   "execution_count": 12,
   "id": "c07cc8e2",
   "metadata": {},
   "outputs": [
    {
     "name": "stdout",
     "output_type": "stream",
     "text": [
      "[[1 2 3 6 8 9]\n",
      " [6 7 8 6 8 9]] rows remains constant and columns increases\n"
     ]
    }
   ],
   "source": [
    "l1=np.array([[1,2,3],[6,7,8]])\n",
    "l2=np.array([[6,8,9], [6,8,9]])\n",
    "cl=np.concatenate((l1,l2), axis=1)\n",
    "print(cl,'rows remains constant and columns increases')"
   ]
  },
  {
   "cell_type": "markdown",
   "id": "78c5a173",
   "metadata": {},
   "source": [
    "#### T= TRANSPOSE THE MATRIX"
   ]
  },
  {
   "cell_type": "code",
   "execution_count": 13,
   "id": "51a2356b",
   "metadata": {},
   "outputs": [
    {
     "name": "stdout",
     "output_type": "stream",
     "text": [
      "[[6 6]\n",
      " [8 8]\n",
      " [9 9]]\n"
     ]
    }
   ],
   "source": [
    "l2=np.array([[6,8,9], [6,8,9]])\n",
    "print(l2.T)"
   ]
  },
  {
   "cell_type": "code",
   "execution_count": 20,
   "id": "c7225eca",
   "metadata": {},
   "outputs": [
    {
     "name": "stdout",
     "output_type": "stream",
     "text": [
      "[[1 2 3 6 6]\n",
      " [6 7 8 8 8]\n",
      " [5 8 7 9 9]]\n"
     ]
    }
   ],
   "source": [
    "l1=np.array([[1,2,3],[6,7,8],[5,8,7]])\n",
    "l2=np.array([[6,8,9], [6,8,9]])\n",
    "l3 =l2.T\n",
    "cl=np.concatenate((l1,l3), axis=1)\n",
    "print(cl)"
   ]
  },
  {
   "cell_type": "markdown",
   "id": "b44b19fb",
   "metadata": {},
   "source": [
    "### AXIS = NONE, IT WILL PRINT IN ONE ROW"
   ]
  },
  {
   "cell_type": "code",
   "execution_count": 23,
   "id": "6df6ad2d",
   "metadata": {},
   "outputs": [
    {
     "name": "stdout",
     "output_type": "stream",
     "text": [
      "[1 2 3 6 7 8 2 1 3 6 8 9 6 8 9]\n"
     ]
    }
   ],
   "source": [
    "l1=np.array([[1,2,3],[6,7,8],[2,1,3]])\n",
    "l2=np.array([[6,8,9],[6,8,9]])\n",
    "cl=np.concatenate((l1,l2), axis=None)\n",
    "print(cl)"
   ]
  },
  {
   "cell_type": "markdown",
   "id": "07ca5401",
   "metadata": {},
   "source": [
    "### HSPLIT() - TO SPLIT THE ARRAY INTO REQUIRED PARTS HORIZONTALLY, ROWS ARE CONSTANT AND COLUMNS INCREASES\n",
    "\n",
    "### HSPLIT AND VSPLIT DOES NOT WORK WITH 1D ARRAY\n"
   ]
  },
  {
   "cell_type": "code",
   "execution_count": 24,
   "id": "c1cabcf0",
   "metadata": {},
   "outputs": [
    {
     "name": "stdout",
     "output_type": "stream",
     "text": [
      "[array([[1, 2],\n",
      "       [6, 7],\n",
      "       [2, 1]]), array([[3, 7],\n",
      "       [8, 4],\n",
      "       [3, 3]])]\n"
     ]
    }
   ],
   "source": [
    "\n",
    "x=np.array([[1,2,3,7],[6,7,8,4],[2,1,3,3]])\n",
    "y =np.hsplit(x,2)\n",
    "print(y)"
   ]
  },
  {
   "cell_type": "markdown",
   "id": "80208327",
   "metadata": {},
   "source": [
    "#### VSPLIT ()- COLUMNS REMAIN SAME AND ROWS GET DIVIDED"
   ]
  },
  {
   "cell_type": "code",
   "execution_count": 26,
   "id": "7e4609a7",
   "metadata": {},
   "outputs": [
    {
     "name": "stdout",
     "output_type": "stream",
     "text": [
      "[array([[1, 2, 3, 7],\n",
      "       [6, 7, 8, 4],\n",
      "       [2, 1, 3, 3]])]\n"
     ]
    }
   ],
   "source": [
    "x=np.array([[1,2,3,7],[6,7,8,4],[2,1,3,3]])\n",
    "y= np.vsplit(x,1)\n",
    "print(y)"
   ]
  },
  {
   "cell_type": "markdown",
   "id": "87ad9a0d",
   "metadata": {},
   "source": [
    "### SPLIT():- SPLITS AN NUMPY ARRAY HORIZONTALLY AND VERTICALLY"
   ]
  },
  {
   "cell_type": "code",
   "execution_count": 29,
   "id": "08f97fb3",
   "metadata": {},
   "outputs": [
    {
     "name": "stdout",
     "output_type": "stream",
     "text": [
      "[array([1, 2]), array([3, 7]), array([6, 7]), array([8, 4])]\n"
     ]
    }
   ],
   "source": [
    "x=np.array([1,2,3,7,6,7,8,4])\n",
    "y=np.split(x,4)\n",
    "print(y)"
   ]
  },
  {
   "cell_type": "code",
   "execution_count": 30,
   "id": "2c19b0e9",
   "metadata": {},
   "outputs": [
    {
     "name": "stdout",
     "output_type": "stream",
     "text": [
      "[array([1, 2]), array([3, 7, 6]), array([7, 8, 4])]\n"
     ]
    }
   ],
   "source": [
    "x=np.array([1,2,3,7,6,7,8,4])\n",
    "y=np.split(x,[2,5])\n",
    "print(y)"
   ]
  },
  {
   "cell_type": "code",
   "execution_count": 31,
   "id": "e59c3461",
   "metadata": {},
   "outputs": [
    {
     "name": "stdout",
     "output_type": "stream",
     "text": [
      "[array([[ 1,  2,  3,  8,  9],\n",
      "       [18,  7,  6,  7,  9]]), array([[8, 4, 8, 5, 3]]), array([], shape=(0, 5), dtype=int32)]\n"
     ]
    }
   ],
   "source": [
    "x=np.array([[1,2,3,8,9],[18,7,6,7,9],[8,4,8,5,3]])\n",
    "y=np.split(x,[2,5],axis=0)\n",
    "print(y)"
   ]
  },
  {
   "cell_type": "markdown",
   "id": "9566942e",
   "metadata": {},
   "source": [
    "### 1. Obtain non contiguous subset of an array by applying condition.\n",
    "### 2. Condition will be applied to each element.\n",
    "###  3. Element which meets the criteria of condition is selected.\n",
    "###  4. extract () will return the 1D array of values.\n"
   ]
  },
  {
   "cell_type": "code",
   "execution_count": 32,
   "id": "bf5fe3fd",
   "metadata": {},
   "outputs": [
    {
     "name": "stdout",
     "output_type": "stream",
     "text": [
      "[ 3  9 18  6  9  3]\n",
      "<class 'numpy.ndarray'>\n"
     ]
    }
   ],
   "source": [
    "x=np.array([[1,2,3,8,9],[18,7,6,7,9],[8,4,8,5,3]])\n",
    "c=np.mod(x,3)==0\n",
    "y=np.extract(c,x)\n",
    "print(y)\n",
    "print(type(y))"
   ]
  },
  {
   "cell_type": "code",
   "execution_count": 33,
   "id": "b2f61cf6",
   "metadata": {},
   "outputs": [
    {
     "name": "stdout",
     "output_type": "stream",
     "text": [
      "[]\n",
      "<class 'numpy.ndarray'>\n"
     ]
    }
   ],
   "source": [
    "x=np.array([[1,2,3,8,9],[18,7,6,7,9],[8,4,8,5,3]])\n",
    "c=np.sqrt(x)>100\n",
    "y=np.extract(c,x)\n",
    "print(y)\n",
    "print(type(y))"
   ]
  },
  {
   "cell_type": "code",
   "execution_count": 34,
   "id": "d1a09c43",
   "metadata": {},
   "outputs": [
    {
     "name": "stdout",
     "output_type": "stream",
     "text": [
      "[[ 2  3  4  9 10]\n",
      " [19  8  7  8 10]\n",
      " [ 9  5  9  6  4]]\n"
     ]
    }
   ],
   "source": [
    "x=np.array([[1,2,3,8,9],[18,7,6,7,9],[8,4,8,5,3]])\n",
    "nx=x+1\n",
    "print(nx)"
   ]
  },
  {
   "cell_type": "code",
   "execution_count": 35,
   "id": "7ad03311",
   "metadata": {},
   "outputs": [
    {
     "name": "stdout",
     "output_type": "stream",
     "text": [
      "[[ 2  4  6 16 18]\n",
      " [36 14 12 14 18]\n",
      " [16  8 16 10  6]]\n"
     ]
    }
   ],
   "source": [
    "x=np.array([[1,2,3,8,9],[18,7,6,7,9],[8,4,8,5,3]])\n",
    "y=np.array([[1,2,3,8,9],[18,7,6,7,9],[8,4,8,5,3]])\n",
    "nx = x+y\n",
    "print(nx)"
   ]
  },
  {
   "cell_type": "code",
   "execution_count": null,
   "id": "ceda6c6b",
   "metadata": {},
   "outputs": [],
   "source": []
  },
  {
   "cell_type": "code",
   "execution_count": null,
   "id": "2a915979",
   "metadata": {},
   "outputs": [],
   "source": []
  },
  {
   "cell_type": "code",
   "execution_count": null,
   "id": "9031286c",
   "metadata": {},
   "outputs": [],
   "source": []
  },
  {
   "cell_type": "code",
   "execution_count": null,
   "id": "c9586aa8",
   "metadata": {},
   "outputs": [],
   "source": []
  },
  {
   "cell_type": "code",
   "execution_count": null,
   "id": "9eb08b80",
   "metadata": {},
   "outputs": [],
   "source": []
  },
  {
   "cell_type": "code",
   "execution_count": null,
   "id": "c17842ea",
   "metadata": {},
   "outputs": [],
   "source": []
  },
  {
   "cell_type": "code",
   "execution_count": null,
   "id": "df8dbaf0",
   "metadata": {},
   "outputs": [],
   "source": []
  },
  {
   "cell_type": "code",
   "execution_count": null,
   "id": "549d57c9",
   "metadata": {},
   "outputs": [],
   "source": []
  },
  {
   "cell_type": "code",
   "execution_count": null,
   "id": "723e721f",
   "metadata": {},
   "outputs": [],
   "source": []
  },
  {
   "cell_type": "code",
   "execution_count": null,
   "id": "1a27e01c",
   "metadata": {},
   "outputs": [],
   "source": []
  },
  {
   "cell_type": "code",
   "execution_count": null,
   "id": "7a324306",
   "metadata": {},
   "outputs": [],
   "source": []
  },
  {
   "cell_type": "code",
   "execution_count": null,
   "id": "e923022d",
   "metadata": {},
   "outputs": [],
   "source": []
  },
  {
   "cell_type": "code",
   "execution_count": null,
   "id": "05b10f23",
   "metadata": {},
   "outputs": [],
   "source": []
  },
  {
   "cell_type": "code",
   "execution_count": null,
   "id": "fe286619",
   "metadata": {},
   "outputs": [],
   "source": []
  },
  {
   "cell_type": "code",
   "execution_count": null,
   "id": "06701858",
   "metadata": {},
   "outputs": [],
   "source": []
  },
  {
   "cell_type": "code",
   "execution_count": null,
   "id": "f62fb026",
   "metadata": {},
   "outputs": [],
   "source": []
  },
  {
   "cell_type": "code",
   "execution_count": null,
   "id": "f2d5871c",
   "metadata": {},
   "outputs": [],
   "source": []
  },
  {
   "cell_type": "code",
   "execution_count": null,
   "id": "87c546c7",
   "metadata": {},
   "outputs": [],
   "source": []
  },
  {
   "cell_type": "code",
   "execution_count": null,
   "id": "a8b95a24",
   "metadata": {},
   "outputs": [],
   "source": []
  },
  {
   "cell_type": "code",
   "execution_count": null,
   "id": "49e3f392",
   "metadata": {},
   "outputs": [],
   "source": []
  },
  {
   "cell_type": "code",
   "execution_count": null,
   "id": "66556d6f",
   "metadata": {},
   "outputs": [],
   "source": []
  },
  {
   "cell_type": "code",
   "execution_count": null,
   "id": "abd45580",
   "metadata": {},
   "outputs": [],
   "source": []
  },
  {
   "cell_type": "code",
   "execution_count": null,
   "id": "9b9dce3f",
   "metadata": {},
   "outputs": [],
   "source": []
  },
  {
   "cell_type": "code",
   "execution_count": null,
   "id": "1e0884de",
   "metadata": {},
   "outputs": [],
   "source": []
  },
  {
   "cell_type": "code",
   "execution_count": null,
   "id": "59e6190f",
   "metadata": {},
   "outputs": [],
   "source": []
  }
 ],
 "metadata": {
  "kernelspec": {
   "display_name": "Python 3 (ipykernel)",
   "language": "python",
   "name": "python3"
  },
  "language_info": {
   "codemirror_mode": {
    "name": "ipython",
    "version": 3
   },
   "file_extension": ".py",
   "mimetype": "text/x-python",
   "name": "python",
   "nbconvert_exporter": "python",
   "pygments_lexer": "ipython3",
   "version": "3.10.3"
  }
 },
 "nbformat": 4,
 "nbformat_minor": 5
}
