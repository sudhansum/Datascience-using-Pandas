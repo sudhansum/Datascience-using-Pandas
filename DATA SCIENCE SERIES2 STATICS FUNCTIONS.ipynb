{
 "cells": [
  {
   "cell_type": "markdown",
   "id": "e7ccc488",
   "metadata": {},
   "source": [
    "# DATA SCIENCE SERIES2 STATICS FUNCTIONS"
   ]
  },
  {
   "cell_type": "code",
   "execution_count": 3,
   "id": "3fb04b9b",
   "metadata": {},
   "outputs": [],
   "source": [
    "import pandas as pd\n",
    "import numpy as np"
   ]
  },
  {
   "cell_type": "code",
   "execution_count": 5,
   "id": "4780718f",
   "metadata": {},
   "outputs": [
    {
     "name": "stdout",
     "output_type": "stream",
     "text": [
      "    0   1   2\n",
      "0  10  15  18\n",
      "1  22   5   6\n",
      "2   3   2   5\n",
      "\n",
      "0    22\n",
      "1    15\n",
      "2    18\n",
      "dtype: int64\n"
     ]
    }
   ],
   "source": [
    "df1= pd.DataFrame([[10,15,18],[22,5,6],[3,2,5]])\n",
    "print(df1)\n",
    "print()\n",
    "print(df1.max())"
   ]
  },
  {
   "cell_type": "code",
   "execution_count": 6,
   "id": "d3b478c0",
   "metadata": {},
   "outputs": [
    {
     "name": "stdout",
     "output_type": "stream",
     "text": [
      "    0   1   2\n",
      "0  10  15  18\n",
      "1  22   5   6\n",
      "2   3   2   5\n",
      "Gives the mx value row wise\n",
      "0    18\n",
      "1    22\n",
      "2     5\n",
      "dtype: int64\n"
     ]
    }
   ],
   "source": [
    "df1= pd.DataFrame([[10,15,18],[22,5,6],[3,2,5]])\n",
    "print(df1)\n",
    "print('Gives the mx value row wise')\n",
    "print(df1.max(axis=1))"
   ]
  },
  {
   "cell_type": "markdown",
   "id": "ef6f1129",
   "metadata": {},
   "source": [
    "# MODE :- WILL RETURN THE MAXIMIUM RECURRING VALUES COLUMN WISE(USE AXIS=1 FOR ROW WISE)"
   ]
  },
  {
   "cell_type": "code",
   "execution_count": 7,
   "id": "902a915b",
   "metadata": {},
   "outputs": [
    {
     "name": "stdout",
     "output_type": "stream",
     "text": [
      "    0   1   2\n",
      "0  10  15  18\n",
      "1  22   5   6\n",
      "2   3   2   5\n",
      "Gives the mx value row wise\n",
      "    0   1   2\n",
      "0  10  15  18\n",
      "1   5   6  22\n",
      "2   2   3   5\n"
     ]
    }
   ],
   "source": [
    "df1= pd.DataFrame([[10,15,18],[22,5,6],[3,2,5]])\n",
    "print(df1)\n",
    "print('Gives the mx value row wise')\n",
    "print(df1.mode(axis=1))"
   ]
  },
  {
   "cell_type": "code",
   "execution_count": 13,
   "id": "eba4ecfd",
   "metadata": {},
   "outputs": [
    {
     "name": "stdout",
     "output_type": "stream",
     "text": [
      "    0   1   2\n",
      "0  10  15  18\n",
      "1  22   5   6\n",
      "2   3   2   5\n",
      "Gives the mx value column wise\n",
      "    0   1   2\n",
      "0   3   2   5\n",
      "1  10   5   6\n",
      "2  22  15  18\n"
     ]
    }
   ],
   "source": [
    "df1= pd.DataFrame([[10,15,18],[22,5,6],[3,2,5]])\n",
    "print(df1)\n",
    "print('Gives the mx value column wise')\n",
    "print(df1.mode())"
   ]
  },
  {
   "cell_type": "markdown",
   "id": "e7587c5e",
   "metadata": {},
   "source": [
    "# MEAN :- AVERAGE OF THE VALUE\n",
    "# MEDIAN:- SORTED INCREASING ORDER AND  MIDDLE VALUE OF THE SERIES SORTED COLUMN WISE OR ROW WISE"
   ]
  },
  {
   "cell_type": "code",
   "execution_count": 4,
   "id": "064d69f9",
   "metadata": {},
   "outputs": [
    {
     "name": "stdout",
     "output_type": "stream",
     "text": [
      "    0   1   2\n",
      "0  10  15  18\n",
      "1  22   5   6\n",
      "2   3   2   5\n",
      "Gives the mean value column wise total values/number of values\n",
      "0    11.666667\n",
      "1     7.333333\n",
      "2     9.666667\n",
      "dtype: float64\n",
      "\n",
      "median gives the middle value of the column\n",
      "0    10.0\n",
      "1     5.0\n",
      "2     6.0\n",
      "dtype: float64\n"
     ]
    }
   ],
   "source": [
    "df1= pd.DataFrame([[10,15,18],[22,5,6],[3,2,5]])\n",
    "print(df1)\n",
    "print('Gives the mean value column wise total values/number of values')\n",
    "print(df1.mean())\n",
    "print()\n",
    "print('median gives the middle value of the column')\n",
    "print(df1.median())"
   ]
  },
  {
   "cell_type": "markdown",
   "id": "743bd4a8",
   "metadata": {},
   "source": [
    "SUM:- ADDS ALL THE VALUES OF THE ROW OR COLUMN\n",
    "COUNT: NUMBER OF ELEMENTS IN A ROW OR COLUMN"
   ]
  },
  {
   "cell_type": "code",
   "execution_count": 5,
   "id": "d3e4f9b2",
   "metadata": {},
   "outputs": [
    {
     "name": "stdout",
     "output_type": "stream",
     "text": [
      "    0   1   2\n",
      "0  10  15  18\n",
      "1  22   5   6\n",
      "2   3   2   5\n",
      "sum gives the total values of the elements in row or column\n",
      "0    35\n",
      "1    22\n",
      "2    29\n",
      "dtype: int64\n",
      "\n",
      "count gives the number of elements in a row or column\n",
      "0    3\n",
      "1    3\n",
      "2    3\n",
      "dtype: int64\n"
     ]
    }
   ],
   "source": [
    "df1= pd.DataFrame([[10,15,18],[22,5,6],[3,2,5]])\n",
    "print(df1)\n",
    "print(\"sum gives the total values of the elements in row or column\")\n",
    "print(df1.sum())\n",
    "print()\n",
    "print(\"count gives the number of elements in a row or column\")\n",
    "print(df1.count())"
   ]
  },
  {
   "cell_type": "markdown",
   "id": "9f06e59f",
   "metadata": {},
   "source": [
    "# QUANTILE FUNCTION: gives the quarter values ie divided into 4 parts "
   ]
  },
  {
   "cell_type": "code",
   "execution_count": 7,
   "id": "4384457a",
   "metadata": {},
   "outputs": [
    {
     "name": "stdout",
     "output_type": "stream",
     "text": [
      "     0    1     2\n",
      "0    1    0   100\n",
      "1  100  100  1000\n",
      "          0     1      2\n",
      "0.25  25.75  25.0  325.0\n",
      "0.50  50.50  50.0  550.0\n",
      "0.70  70.30  70.0  730.0\n"
     ]
    }
   ],
   "source": [
    "df1 = pd.DataFrame([[1,0,100],[100,100,1000]])\n",
    "print(df1)\n",
    "print(df1.quantile([0.25,0.50,0.70]))"
   ]
  },
  {
   "cell_type": "markdown",
   "id": "8b6b0242",
   "metadata": {},
   "source": [
    " # VARIANCE :- Expalins the spread of the data from the mean or average. \n",
    "a variance of 0 indiacates that all the data are identical\n",
    "a small variance indicates that the data point tends to bevery close to mean and to each other\n",
    "A high variance indicates that the data points are very spreadout from the mena and from one another\n",
    "VARIANCE is the average of the squared distance from each point to the mean.\n",
    "\n",
    "\"https://www.investopedia.com/ask/answers/021915/how-standard-deviation-used-determine-risk.asp\"\n",
    "\n",
    "\"https://www.investopedia.com/ask/answers/021215/what-difference-between-standard-deviation-and-variance.asp#:~:text=The%20variance%20measures%20the%20average,them%20to%20measure%20market%20volatility.\""
   ]
  },
  {
   "cell_type": "code",
   "execution_count": 8,
   "id": "6092bb26",
   "metadata": {},
   "outputs": [
    {
     "name": "stdout",
     "output_type": "stream",
     "text": [
      "0    34\n",
      "1    56\n",
      "2    78\n",
      "3    34\n",
      "4    32\n",
      "dtype: int64\n",
      "401.2\n"
     ]
    }
   ],
   "source": [
    "sr = pd.Series([34,56,78,34,32])\n",
    "print(sr)\n",
    "print(sr.var())"
   ]
  },
  {
   "cell_type": "markdown",
   "id": "127b9c67",
   "metadata": {},
   "source": [
    "# STANDARD DEVIATION:- A quantity expressing how much the members of a group differ\n",
    "from the mean value for the group\n",
    "A low standard deviation indicates that the data points tend to be very close to the mean\n",
    "A high standard deviation indicates that the data points are spread out over a large range of values\n"
   ]
  },
  {
   "cell_type": "code",
   "execution_count": 11,
   "id": "931fa676",
   "metadata": {},
   "outputs": [
    {
     "name": "stdout",
     "output_type": "stream",
     "text": [
      "0    34\n",
      "1    56\n",
      "2    78\n",
      "3    34\n",
      "4    32\n",
      "dtype: int64\n",
      "46.8\n",
      "20.02997753368685\n"
     ]
    }
   ],
   "source": [
    "sr = pd.Series([34,56,78,34,32])\n",
    "print(sr)\n",
    "print(sr.mean())\n",
    "print(sr.std()) \n"
   ]
  },
  {
   "cell_type": "code",
   "execution_count": null,
   "id": "36d60ac5",
   "metadata": {},
   "outputs": [],
   "source": []
  },
  {
   "cell_type": "code",
   "execution_count": null,
   "id": "c660a9ec",
   "metadata": {},
   "outputs": [],
   "source": []
  },
  {
   "cell_type": "code",
   "execution_count": null,
   "id": "156da62c",
   "metadata": {},
   "outputs": [],
   "source": []
  },
  {
   "cell_type": "code",
   "execution_count": null,
   "id": "5b470b82",
   "metadata": {},
   "outputs": [],
   "source": []
  },
  {
   "cell_type": "code",
   "execution_count": null,
   "id": "74ae188d",
   "metadata": {},
   "outputs": [],
   "source": []
  },
  {
   "cell_type": "code",
   "execution_count": null,
   "id": "95273b36",
   "metadata": {},
   "outputs": [],
   "source": []
  },
  {
   "cell_type": "code",
   "execution_count": null,
   "id": "b3bba2ce",
   "metadata": {},
   "outputs": [],
   "source": []
  },
  {
   "cell_type": "code",
   "execution_count": null,
   "id": "3494e9a5",
   "metadata": {},
   "outputs": [],
   "source": []
  },
  {
   "cell_type": "code",
   "execution_count": null,
   "id": "f0076242",
   "metadata": {},
   "outputs": [],
   "source": []
  },
  {
   "cell_type": "code",
   "execution_count": null,
   "id": "2e1aa7b5",
   "metadata": {},
   "outputs": [],
   "source": []
  },
  {
   "cell_type": "code",
   "execution_count": null,
   "id": "d724529f",
   "metadata": {},
   "outputs": [],
   "source": []
  },
  {
   "cell_type": "code",
   "execution_count": null,
   "id": "bd46a215",
   "metadata": {},
   "outputs": [],
   "source": []
  },
  {
   "cell_type": "code",
   "execution_count": null,
   "id": "e71fd6ea",
   "metadata": {},
   "outputs": [],
   "source": []
  }
 ],
 "metadata": {
  "kernelspec": {
   "display_name": "Python 3 (ipykernel)",
   "language": "python",
   "name": "python3"
  },
  "language_info": {
   "codemirror_mode": {
    "name": "ipython",
    "version": 3
   },
   "file_extension": ".py",
   "mimetype": "text/x-python",
   "name": "python",
   "nbconvert_exporter": "python",
   "pygments_lexer": "ipython3",
   "version": "3.10.3"
  }
 },
 "nbformat": 4,
 "nbformat_minor": 5
}
