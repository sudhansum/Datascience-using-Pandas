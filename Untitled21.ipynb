{
 "cells": [
  {
   "cell_type": "markdown",
   "id": "8de031b3",
   "metadata": {},
   "source": [
    "# SERIES 1\n"
   ]
  },
  {
   "cell_type": "code",
   "execution_count": 1,
   "id": "6c4b7617",
   "metadata": {},
   "outputs": [],
   "source": [
    "import pandas as pd\n"
   ]
  },
  {
   "cell_type": "code",
   "execution_count": 2,
   "id": "313b2a65",
   "metadata": {},
   "outputs": [
    {
     "name": "stdout",
     "output_type": "stream",
     "text": [
      "0    1\n",
      "1    2\n",
      "2    3\n",
      "3    4\n",
      "dtype: int64\n"
     ]
    }
   ],
   "source": [
    "Data = [1,2,3,4]\n",
    "si=pd.Series(Data)\n",
    "print(si)"
   ]
  },
  {
   "cell_type": "code",
   "execution_count": 4,
   "id": "5724d818",
   "metadata": {},
   "outputs": [
    {
     "name": "stdout",
     "output_type": "stream",
     "text": [
      "a    1\n",
      "b    2\n",
      "c    3\n",
      "d    4\n",
      "dtype: int64\n"
     ]
    }
   ],
   "source": [
    "d = {'a':1, 'b':2, 'c':3,'d':4}\n",
    "di =pd.Series(d)\n",
    "print(di)"
   ]
  },
  {
   "cell_type": "code",
   "execution_count": 6,
   "id": "bef3b0a6",
   "metadata": {},
   "outputs": [
    {
     "name": "stdout",
     "output_type": "stream",
     "text": [
      "0    [2, 3]\n",
      "1    [6, 7]\n",
      "dtype: object\n"
     ]
    }
   ],
   "source": [
    "Data = [[2,3],[6,7]]\n",
    "sd =pd.Series(Data)\n",
    "print(sd)"
   ]
  },
  {
   "cell_type": "code",
   "execution_count": 9,
   "id": "2452290a",
   "metadata": {},
   "outputs": [
    {
     "name": "stdout",
     "output_type": "stream",
     "text": [
      "A    [2, 3]\n",
      "B    [6, 7]\n",
      "dtype: object\n"
     ]
    }
   ],
   "source": [
    "index =['A','B']\n",
    "ser = pd.Series(Data,index)\n",
    "print(ser)"
   ]
  },
  {
   "cell_type": "code",
   "execution_count": 10,
   "id": "22f788b3",
   "metadata": {},
   "outputs": [
    {
     "name": "stdout",
     "output_type": "stream",
     "text": [
      "A    10\n",
      "B    10\n",
      "dtype: int64\n"
     ]
    }
   ],
   "source": [
    "ser = pd.Series(10,index)\n",
    "print(ser)"
   ]
  },
  {
   "cell_type": "code",
   "execution_count": 12,
   "id": "d095157b",
   "metadata": {},
   "outputs": [
    {
     "name": "stdout",
     "output_type": "stream",
     "text": [
      "0    12\n",
      "1    13\n",
      "2    14\n",
      "3    15\n",
      "4    32\n",
      "dtype: int64\n",
      "0    12\n",
      "1    13\n",
      "2    14\n",
      "dtype: int64\n"
     ]
    }
   ],
   "source": [
    "index=[0,1,2,3,4,5]\n",
    "lst= [12,13,14,15,32,21]\n",
    "ser=pd.Series(lst,index)\n",
    "print(ser.head())\n",
    "print(ser.head(3))"
   ]
  },
  {
   "cell_type": "code",
   "execution_count": 13,
   "id": "07e57095",
   "metadata": {},
   "outputs": [
    {
     "name": "stdout",
     "output_type": "stream",
     "text": [
      "1    13\n",
      "2    14\n",
      "3    15\n",
      "4    32\n",
      "5    21\n",
      "dtype: int64\n"
     ]
    }
   ],
   "source": [
    "print(ser.tail())"
   ]
  },
  {
   "cell_type": "code",
   "execution_count": 14,
   "id": "e58b2159",
   "metadata": {},
   "outputs": [
    {
     "name": "stdout",
     "output_type": "stream",
     "text": [
      "3    15\n",
      "4    32\n",
      "5    21\n",
      "dtype: int64\n"
     ]
    }
   ],
   "source": [
    "print(ser.tail(3))"
   ]
  },
  {
   "cell_type": "code",
   "execution_count": 17,
   "id": "7869a34e",
   "metadata": {},
   "outputs": [
    {
     "name": "stdout",
     "output_type": "stream",
     "text": [
      "    0   1   2\n",
      "0  10  15  18\n",
      "1  22   5   6\n",
      "2   3   2   5\n",
      "    0   1   2\n",
      "0  10  15  18\n",
      "1  22   5   6\n",
      "2   3   2   5\n",
      "\n",
      "    0   1   2\n",
      "0  10  15  18\n",
      "1  22   5   6\n",
      "\n",
      "    0   1   2\n",
      "0  10  15  18\n",
      "1  22   5   6\n",
      "2   3   2   5\n",
      "\n",
      "    0  1  2\n",
      "1  22  5  6\n",
      "2   3  2  5\n"
     ]
    }
   ],
   "source": [
    "sd = [[10,15,18],[22,5,6],[3,2,5]]\n",
    "df =pd.DataFrame(sd)\n",
    "print(df)\n",
    "print(df.head())\n",
    "print()\n",
    "print(df.head(2))\n",
    "print()\n",
    "print(df.tail())\n",
    "print()\n",
    "print(df.tail(2))"
   ]
  },
  {
   "cell_type": "code",
   "execution_count": 18,
   "id": "6511c055",
   "metadata": {},
   "outputs": [
    {
     "name": "stdout",
     "output_type": "stream",
     "text": [
      "0    12\n",
      "1    13\n",
      "2    14\n",
      "3    15\n",
      "4    32\n",
      "5    21\n",
      "dtype: int64\n",
      "\n",
      "1    13\n",
      "2    14\n",
      "3    15\n",
      "dtype: int64\n",
      "\n",
      "1    13\n",
      "2    14\n",
      "dtype: int64\n"
     ]
    }
   ],
   "source": [
    "index=[0,1,2,3,4,5]\n",
    "lst= [12,13,14,15,32,21]\n",
    "ser=pd.Series(lst,index)\n",
    "print(ser)\n",
    "print()\n",
    "print(ser.loc[1:3])\n",
    "print()\n",
    "print(ser.iloc[1:3])"
   ]
  },
  {
   "cell_type": "code",
   "execution_count": 19,
   "id": "4c5b11e5",
   "metadata": {},
   "outputs": [
    {
     "name": "stdout",
     "output_type": "stream",
     "text": [
      "0    12\n",
      "1    13\n",
      "2    14\n",
      "3    15\n",
      "4    32\n",
      "5    21\n",
      "dtype: int64\n",
      "1    13\n",
      "2    14\n",
      "dtype: int64\n",
      "\n",
      "0    12\n",
      "1    13\n",
      "2    14\n",
      "dtype: int64\n",
      "\n",
      "3    15\n",
      "4    32\n",
      "5    21\n",
      "dtype: int64\n"
     ]
    }
   ],
   "source": [
    "index=[0,1,2,3,4,5]\n",
    "lst= [12,13,14,15,32,21]\n",
    "ser=pd.Series(lst,index)\n",
    "print(ser)\n",
    "print(ser[1:3])\n",
    "print()\n",
    "print(ser[:3])\n",
    "print()\n",
    "print(ser[3:])"
   ]
  },
  {
   "cell_type": "markdown",
   "id": "a1c5f2e1",
   "metadata": {},
   "source": [
    "#    DATAFRAME "
   ]
  },
  {
   "cell_type": "markdown",
   "id": "412b9ba4",
   "metadata": {},
   "source": [
    "Dataframe is a 2D array structure\n"
   ]
  },
  {
   "cell_type": "code",
   "execution_count": 20,
   "id": "082084f3",
   "metadata": {},
   "outputs": [
    {
     "name": "stdout",
     "output_type": "stream",
     "text": [
      "[{'a': 1, 'b': 2, 'c': 3}, {'a': 5, 'b': 6, 'c': 7, 'd': 8}]\n",
      "\n",
      "   a  b  c    d\n",
      "0  1  2  3  NaN\n",
      "1  5  6  7  8.0\n"
     ]
    }
   ],
   "source": [
    "dt1= {'a':1, 'b':2,'c':3}\n",
    "dt2 = {'a':5,'b':6,'c':7,'d':8}\n",
    "lst = [dt1,dt2]\n",
    "print(lst)\n",
    "print()\n",
    "df = pd.DataFrame(lst)\n",
    "print(df)"
   ]
  },
  {
   "cell_type": "code",
   "execution_count": 22,
   "id": "ea765ead",
   "metadata": {},
   "outputs": [
    {
     "name": "stdout",
     "output_type": "stream",
     "text": [
      "   a    b  c\n",
      "0  1  1.1  a\n",
      "1  2  3.5  b\n",
      "2  3  4.4  c\n",
      "3  4  5.5  d\n"
     ]
    }
   ],
   "source": [
    "s1 = pd.Series([1,2,3,4])\n",
    "s2= pd.Series([1.1,3.5,4.4,5.5])\n",
    "s3 = pd.Series(['a','b','c','d'])\n",
    "data ={'a':s1,'b':s2,'c':s3}\n",
    "dfseries =pd.DataFrame(data)\n",
    "print(dfseries)"
   ]
  },
  {
   "cell_type": "code",
   "execution_count": 24,
   "id": "6305e196",
   "metadata": {},
   "outputs": [
    {
     "name": "stdout",
     "output_type": "stream",
     "text": [
      "   e  f\n",
      "a  1  5\n",
      "b  2  6\n",
      "c  3  7\n",
      "d  9  8\n",
      "\n",
      "1\n",
      "\n",
      "7\n"
     ]
    }
   ],
   "source": [
    "dt1= {'a':1, 'b':2,'c':3,'d':9}\n",
    "dt2 = {'a':5,'b':6,'c':7,'d':8}\n",
    "data= {'e':dt1, 'f':dt2}\n",
    "df=pd.DataFrame(data)\n",
    "print(df)\n",
    "print()\n",
    "print(df['e'][0])\n",
    "print()\n",
    "print(df.f[2])"
   ]
  },
  {
   "cell_type": "markdown",
   "id": "57f65330",
   "metadata": {},
   "source": [
    "ADDING A COLUMN"
   ]
  },
  {
   "cell_type": "code",
   "execution_count": 25,
   "id": "cffb1fe8",
   "metadata": {},
   "outputs": [
    {
     "name": "stdout",
     "output_type": "stream",
     "text": [
      "    0\n",
      "0  10\n",
      "1  15\n",
      "2  20\n",
      "3  22\n",
      "\n",
      "    0  month\n",
      "0  10      5\n",
      "1  15      6\n",
      "2  20      7\n",
      "3  22      8\n"
     ]
    }
   ],
   "source": [
    "lst =[10,15,20,22]\n",
    "df=pd.DataFrame(lst)\n",
    "print(df)\n",
    "print()\n",
    "df['month']=[5,6,7,8]\n",
    "print(df)"
   ]
  },
  {
   "cell_type": "code",
   "execution_count": 32,
   "id": "7c01ee7a",
   "metadata": {},
   "outputs": [
    {
     "name": "stdout",
     "output_type": "stream",
     "text": [
      "    0\n",
      "0  10\n",
      "1  15\n",
      "2  20\n",
      "3  22\n",
      "\n",
      "    0  month\n",
      "0  10      5\n",
      "1  15      6\n",
      "2  20      7\n",
      "3  22      8\n",
      "    0  month  year\n",
      "0  10      5    12\n",
      "1  15      6    13\n",
      "2  20      7    14\n",
      "3  22      8    15\n"
     ]
    }
   ],
   "source": [
    "lst =[10,15,20,22]\n",
    "df=pd.DataFrame(lst)\n",
    "print(df)\n",
    "print()\n",
    "df['month']=[5,6,7,8]\n",
    "print(df)\n",
    "df['year'] = [12,13,14,15]\n",
    "print(df)"
   ]
  },
  {
   "cell_type": "markdown",
   "id": "1824ae61",
   "metadata": {},
   "source": [
    "RENAME A COLUMN"
   ]
  },
  {
   "cell_type": "code",
   "execution_count": 35,
   "id": "09ca6a7d",
   "metadata": {},
   "outputs": [
    {
     "name": "stdout",
     "output_type": "stream",
     "text": [
      "    0\n",
      "0  10\n",
      "1  15\n",
      "2  20\n",
      "3  22\n",
      "\n",
      "    0  month\n",
      "0  10      5\n",
      "1  15      6\n",
      "2  20      7\n",
      "3  22      8\n",
      "   ab  bc\n",
      "0  10   5\n",
      "1  15   6\n",
      "2  20   7\n",
      "3  22   8\n"
     ]
    }
   ],
   "source": [
    "lst =[10,15,20,22]\n",
    "df=pd.DataFrame(lst)\n",
    "print(df)\n",
    "print()\n",
    "df['month']=[5,6,7,8]\n",
    "print(df)\n",
    "df.columns=[\"ab\",\"bc\"]\n",
    "print(df)"
   ]
  },
  {
   "cell_type": "code",
   "execution_count": 36,
   "id": "ae0c0cf9",
   "metadata": {},
   "outputs": [
    {
     "name": "stdout",
     "output_type": "stream",
     "text": [
      "    0\n",
      "0  10\n",
      "1  15\n",
      "2  20\n",
      "3  22\n",
      "\n",
      "Empty DataFrame\n",
      "Columns: []\n",
      "Index: [0, 1, 2, 3]\n"
     ]
    }
   ],
   "source": [
    "lst =[10,15,20,22]\n",
    "df=pd.DataFrame(lst)\n",
    "print(df)\n",
    "print()\n",
    "del df[0] #we provide the name of the column\n",
    "print(df)"
   ]
  },
  {
   "cell_type": "markdown",
   "id": "99d87b2a",
   "metadata": {},
   "source": [
    "#ADDING A ROW"
   ]
  },
  {
   "cell_type": "code",
   "execution_count": 42,
   "id": "c24526df",
   "metadata": {},
   "outputs": [
    {
     "name": "stdout",
     "output_type": "stream",
     "text": [
      "    0   1   2   3\n",
      "0  10  15  20  22\n",
      "1   5   6   7   8\n",
      "2  12  13  14  15\n",
      "\n",
      "    0   1   2   3\n",
      "0  10  15  20  22\n",
      "1   5   6   7   8\n",
      "2  12  13  14  15\n",
      "4   6   4   3   9\n"
     ]
    }
   ],
   "source": [
    "lst =[[10,15,20,22],[5,6,7,8],[12,13,14,15]]\n",
    "df=pd.DataFrame(lst)\n",
    "print(df)\n",
    "print()\n",
    "df.loc[4]=[6,4,3,9]\n",
    "print(df)\n"
   ]
  },
  {
   "cell_type": "code",
   "execution_count": 43,
   "id": "144d87bd",
   "metadata": {},
   "outputs": [
    {
     "name": "stdout",
     "output_type": "stream",
     "text": [
      "    0   1   2   3\n",
      "0  10  15  20  22\n",
      "1   5   6   7   8\n",
      "2  12  13  14  15\n",
      "\n",
      "    2   3\n",
      "0  20  22\n",
      "1   7   8\n",
      "2  14  15\n"
     ]
    }
   ],
   "source": [
    "lst =[[10,15,20,22],[5,6,7,8],[12,13,14,15]]\n",
    "df=pd.DataFrame(lst)\n",
    "print(df)\n",
    "print()\n",
    "print(df.drop([0,1],axis=1)) #DELETING THE DATA COLUMN WISE"
   ]
  },
  {
   "cell_type": "code",
   "execution_count": 45,
   "id": "a48246ad",
   "metadata": {},
   "outputs": [
    {
     "name": "stdout",
     "output_type": "stream",
     "text": [
      "    0   1   2   3\n",
      "0  10  15  20  22\n",
      "1   5   6   7   8\n",
      "2  12  13  14  15\n",
      "RENAME INDEX\n",
      "     0   1   2   3\n",
      "r1  10  15  20  22\n",
      "r2   5   6   7   8\n",
      "r3  12  13  14  15\n"
     ]
    }
   ],
   "source": [
    "lst =[[10,15,20,22],[5,6,7,8],[12,13,14,15]]\n",
    "df=pd.DataFrame(lst)\n",
    "print(df)\n",
    "print(\"RENAME INDEX\")\n",
    "print(df.rename(index={0:'r1',1:'r2',2:'r3'}))"
   ]
  },
  {
   "cell_type": "markdown",
   "id": "d9760125",
   "metadata": {},
   "source": [
    "#BOOLEAN INDEXING"
   ]
  },
  {
   "cell_type": "code",
   "execution_count": 46,
   "id": "c6edeafe",
   "metadata": {},
   "outputs": [
    {
     "name": "stdout",
     "output_type": "stream",
     "text": [
      "    0   1   2   3\n",
      "0  10  15  20  22\n",
      "1   5   6   7   8\n",
      "2  12  13  14  15\n",
      "        0   1   2   3\n",
      "True   10  15  20  22\n",
      "False   5   6   7   8\n",
      "True   12  13  14  15\n",
      "       0   1   2   3\n",
      "True  10  15  20  22\n",
      "True  12  13  14  15\n"
     ]
    }
   ],
   "source": [
    "lst =[[10,15,20,22],[5,6,7,8],[12,13,14,15]]\n",
    "df=pd.DataFrame(lst)\n",
    "print(df)\n",
    "df=pd.DataFrame(lst,index=[True,False,True])\n",
    "print(df)\n",
    "print(df.loc[True])"
   ]
  },
  {
   "cell_type": "markdown",
   "id": "517fbc00",
   "metadata": {},
   "source": [
    "#JOINING MERGING AND CONCATENATION OF DATAFRAME\n"
   ]
  },
  {
   "cell_type": "code",
   "execution_count": 50,
   "id": "7f87ce86",
   "metadata": {},
   "outputs": [
    {
     "name": "stdout",
     "output_type": "stream",
     "text": [
      "    0      1   2     3\n",
      "0  10  15.00  20  22.0\n",
      "1   5   6.00   7   8.0\n",
      "2  12  13.00  14  15.0\n",
      "0  12  13.00  14  15.0\n",
      "1  32  21.15  18   NaN\n",
      "2  14  15.00  46  21.0\n",
      "ignore_index=True gives the continious indexing\n",
      "    0      1   2     3\n",
      "0  10  15.00  20  22.0\n",
      "1   5   6.00   7   8.0\n",
      "2  12  13.00  14  15.0\n",
      "3  12  13.00  14  15.0\n",
      "4  32  21.15  18   NaN\n",
      "5  14  15.00  46  21.0\n"
     ]
    }
   ],
   "source": [
    "lst1 =[[10,15,20,22],[5,6,7,8],[12,13,14,15]]\n",
    "df1=pd.DataFrame(lst1)\n",
    "lst2=[[12,13,14,15],[32,21.15,18],[14,15,46,21]]\n",
    "df2= pd.DataFrame(lst2)\n",
    "df3= pd.concat([df1,df2])\n",
    "print(df3)\n",
    "print(\"ignore_index=True\",'gives the continious indexing')\n",
    "df3= pd.concat([df1,df2],ignore_index=True)\n",
    "print(df3)\n"
   ]
  },
  {
   "cell_type": "markdown",
   "id": "dfe91710",
   "metadata": {},
   "source": [
    "# MERGING TWO DATA SETS ON THE BASIS OF COMMON ATTRIBUTES"
   ]
  },
  {
   "cell_type": "code",
   "execution_count": 51,
   "id": "af38999d",
   "metadata": {},
   "outputs": [
    {
     "name": "stdout",
     "output_type": "stream",
     "text": [
      "   id    Name  subj\n",
      "0   1    Alex  sub1\n",
      "1   2     Amy  sub2\n",
      "2   3   Allen  sub3\n",
      "3   4   Alica  sub4\n",
      "4   5  Andrew  sub5\n",
      "\n",
      "   id    Name  subj\n",
      "0   1     Sam  sub1\n",
      "1   2   Monoj  sub2\n",
      "2   3    Nata  sub3\n",
      "3   4   Alica  sub4\n",
      "4   5  Andrew  sub5\n",
      "\n",
      "   id  Name_x subj_x  Name_y subj_y\n",
      "0   1    Alex   sub1     Sam   sub1\n",
      "1   2     Amy   sub2   Monoj   sub2\n",
      "2   3   Allen   sub3    Nata   sub3\n",
      "3   4   Alica   sub4   Alica   sub4\n",
      "4   5  Andrew   sub5  Andrew   sub5\n"
     ]
    }
   ],
   "source": [
    "cl1= pd.DataFrame({'id':[1,2,3,4,5],'Name':['Alex','Amy','Allen', 'Alica','Andrew'],'subj':['sub1','sub2','sub3','sub4','sub5']})\n",
    "cl2 =pd.DataFrame({'id':[1,2,3,4,5],'Name':['Sam','Monoj','Nata','Alica','Andrew'],'subj':['sub1','sub2','sub3','sub4','sub5']})\n",
    "print(cl1)\n",
    "print()\n",
    "print(cl2)\n",
    "print()\n",
    "df = pd.merge(cl1,cl2,on='id')\n",
    "print(df)"
   ]
  },
  {
   "cell_type": "code",
   "execution_count": null,
   "id": "e86705de",
   "metadata": {},
   "outputs": [],
   "source": []
  },
  {
   "cell_type": "code",
   "execution_count": null,
   "id": "374a93c2",
   "metadata": {},
   "outputs": [],
   "source": []
  },
  {
   "cell_type": "code",
   "execution_count": null,
   "id": "0eadc2ef",
   "metadata": {},
   "outputs": [],
   "source": []
  },
  {
   "cell_type": "code",
   "execution_count": null,
   "id": "ace261f0",
   "metadata": {},
   "outputs": [],
   "source": []
  },
  {
   "cell_type": "code",
   "execution_count": null,
   "id": "c15e1c58",
   "metadata": {},
   "outputs": [],
   "source": []
  },
  {
   "cell_type": "code",
   "execution_count": null,
   "id": "179ffdbc",
   "metadata": {},
   "outputs": [],
   "source": []
  },
  {
   "cell_type": "code",
   "execution_count": null,
   "id": "7dbe25ef",
   "metadata": {},
   "outputs": [],
   "source": []
  },
  {
   "cell_type": "code",
   "execution_count": null,
   "id": "e1d09e77",
   "metadata": {},
   "outputs": [],
   "source": []
  },
  {
   "cell_type": "code",
   "execution_count": null,
   "id": "880e06e2",
   "metadata": {},
   "outputs": [],
   "source": []
  },
  {
   "cell_type": "code",
   "execution_count": null,
   "id": "524eaedc",
   "metadata": {},
   "outputs": [],
   "source": []
  },
  {
   "cell_type": "code",
   "execution_count": null,
   "id": "5ad00400",
   "metadata": {},
   "outputs": [],
   "source": []
  },
  {
   "cell_type": "code",
   "execution_count": null,
   "id": "d351be0e",
   "metadata": {},
   "outputs": [],
   "source": []
  },
  {
   "cell_type": "code",
   "execution_count": null,
   "id": "1f399863",
   "metadata": {},
   "outputs": [],
   "source": []
  },
  {
   "cell_type": "code",
   "execution_count": null,
   "id": "23e20cb9",
   "metadata": {},
   "outputs": [],
   "source": []
  },
  {
   "cell_type": "code",
   "execution_count": null,
   "id": "05016a9f",
   "metadata": {},
   "outputs": [],
   "source": []
  },
  {
   "cell_type": "code",
   "execution_count": null,
   "id": "a0753365",
   "metadata": {},
   "outputs": [],
   "source": []
  },
  {
   "cell_type": "code",
   "execution_count": null,
   "id": "5781db5a",
   "metadata": {},
   "outputs": [],
   "source": []
  },
  {
   "cell_type": "code",
   "execution_count": null,
   "id": "5e662c3b",
   "metadata": {},
   "outputs": [],
   "source": []
  },
  {
   "cell_type": "code",
   "execution_count": null,
   "id": "2a6896ef",
   "metadata": {},
   "outputs": [],
   "source": []
  },
  {
   "cell_type": "code",
   "execution_count": null,
   "id": "a667c157",
   "metadata": {},
   "outputs": [],
   "source": []
  },
  {
   "cell_type": "code",
   "execution_count": null,
   "id": "69b520c1",
   "metadata": {},
   "outputs": [],
   "source": []
  },
  {
   "cell_type": "code",
   "execution_count": null,
   "id": "d1c51ec3",
   "metadata": {},
   "outputs": [],
   "source": []
  },
  {
   "cell_type": "code",
   "execution_count": null,
   "id": "4727f7e6",
   "metadata": {},
   "outputs": [],
   "source": []
  },
  {
   "cell_type": "code",
   "execution_count": null,
   "id": "bae8bbed",
   "metadata": {},
   "outputs": [],
   "source": []
  },
  {
   "cell_type": "code",
   "execution_count": null,
   "id": "8edc02a1",
   "metadata": {},
   "outputs": [],
   "source": []
  },
  {
   "cell_type": "code",
   "execution_count": null,
   "id": "a54d67a9",
   "metadata": {},
   "outputs": [],
   "source": []
  },
  {
   "cell_type": "code",
   "execution_count": null,
   "id": "7cff4d2d",
   "metadata": {},
   "outputs": [],
   "source": []
  },
  {
   "cell_type": "code",
   "execution_count": null,
   "id": "d69ab337",
   "metadata": {},
   "outputs": [],
   "source": []
  },
  {
   "cell_type": "code",
   "execution_count": null,
   "id": "c0434736",
   "metadata": {},
   "outputs": [],
   "source": []
  }
 ],
 "metadata": {
  "kernelspec": {
   "display_name": "Python 3 (ipykernel)",
   "language": "python",
   "name": "python3"
  },
  "language_info": {
   "codemirror_mode": {
    "name": "ipython",
    "version": 3
   },
   "file_extension": ".py",
   "mimetype": "text/x-python",
   "name": "python",
   "nbconvert_exporter": "python",
   "pygments_lexer": "ipython3",
   "version": "3.10.3"
  }
 },
 "nbformat": 4,
 "nbformat_minor": 5
}
