{
 "cells": [
  {
   "cell_type": "code",
   "execution_count": 1,
   "id": "a7f9146d",
   "metadata": {},
   "outputs": [],
   "source": [
    "import numpy as np"
   ]
  },
  {
   "cell_type": "code",
   "execution_count": 4,
   "id": "10b4287a",
   "metadata": {},
   "outputs": [
    {
     "name": "stdout",
     "output_type": "stream",
     "text": [
      "ONE DIMENTIONAL ARRAY\n",
      "[5 6 7 8]\n"
     ]
    }
   ],
   "source": [
    "print('ONE DIMENTIONAL ARRAY')\n",
    "l = [5,6,7,8]\n",
    "y=np.array(l)\n",
    "x= np.array([1,2,3,4])\n",
    "x\n",
    "print(y)"
   ]
  },
  {
   "cell_type": "code",
   "execution_count": 7,
   "id": "888dff78",
   "metadata": {},
   "outputs": [
    {
     "name": "stdout",
     "output_type": "stream",
     "text": [
      "[5 6 7 8]\n",
      "[5, 6, 7, 8]\n"
     ]
    }
   ],
   "source": [
    "l = [5,6,7,8]\n",
    "a = np.array(l)\n",
    "print(a, 'array do not have comma')\n",
    "print(l ,'lsit have comma')"
   ]
  },
  {
   "cell_type": "code",
   "execution_count": 8,
   "id": "ac70f976",
   "metadata": {},
   "outputs": [
    {
     "name": "stdout",
     "output_type": "stream",
     "text": [
      "<class 'numpy.ndarray'>\n"
     ]
    }
   ],
   "source": [
    "print(type(a))"
   ]
  },
  {
   "cell_type": "code",
   "execution_count": 10,
   "id": "48581160",
   "metadata": {},
   "outputs": [
    {
     "name": "stdout",
     "output_type": "stream",
     "text": [
      "[[5 6 7 8]\n",
      " [6 7 8 9]]\n",
      "<class 'numpy.ndarray'>\n"
     ]
    }
   ],
   "source": [
    "import numpy as np\n",
    "l1=[5,6,7,8]\n",
    "l2=[6,7,8,9]\n",
    "a=np.array([l1,l2])\n",
    "print(a)\n",
    "print(type(a))"
   ]
  },
  {
   "cell_type": "code",
   "execution_count": 11,
   "id": "97e39e9a",
   "metadata": {},
   "outputs": [
    {
     "name": "stdout",
     "output_type": "stream",
     "text": [
      "[[ 5  6  7  8]\n",
      " [ 6  7  8  9]\n",
      " [11  7  8  9]]\n",
      "<class 'numpy.ndarray'>\n"
     ]
    }
   ],
   "source": [
    "import numpy as np\n",
    "a=np.array([[5,6,7,8],[6,7,8,9],[11,7,8,9]])\n",
    "print(a)\n",
    "print(type(a))"
   ]
  },
  {
   "cell_type": "markdown",
   "id": "17f268c2",
   "metadata": {},
   "source": [
    "## How array are stored?\n",
    "##  1.  Axes:An array can be 1d,2d or Multi Dimensional\n",
    "##    Numpy refer to dimension of arrays as axis\n",
    "##    Axis0=1d,axis1=2d,axis2=3d ...... so on\n",
    "###     2. Rank:Number of axes\n",
    "###     3. Shape:Number of elements along each axis of it.\n",
    "###            shape is in the form of tuple.\n"
   ]
  },
  {
   "cell_type": "code",
   "execution_count": 13,
   "id": "16f06965",
   "metadata": {},
   "outputs": [
    {
     "name": "stdout",
     "output_type": "stream",
     "text": [
      "[[ 5  6  7  8]\n",
      " [ 6  7  8  9]\n",
      " [11  7  8  9]]\n",
      "(3, 4)\n",
      "int32\n"
     ]
    }
   ],
   "source": [
    "a=np.array([[5,6,7,8],[6,7,8,9],[11,7,8,9]])\n",
    "print(a)\n",
    "print(a.shape)\n",
    "print(a.dtype)"
   ]
  },
  {
   "cell_type": "markdown",
   "id": "1c7f0078",
   "metadata": {},
   "source": [
    "### 5. Itemsize-size of each element in bytes\n"
   ]
  },
  {
   "cell_type": "code",
   "execution_count": 14,
   "id": "df847b40",
   "metadata": {},
   "outputs": [
    {
     "name": "stdout",
     "output_type": "stream",
     "text": [
      "4\n"
     ]
    }
   ],
   "source": [
    "x=np.array([5,7,8])\n",
    "print(x.itemsize)"
   ]
  },
  {
   "cell_type": "markdown",
   "id": "70e9c107",
   "metadata": {},
   "source": [
    " ### DIFFERENCE BETWEEN NUMPY ARRAY AND PYTHON LIST\n",
    " 1. Arrays are indexed in memory in the same manner as list elements.\n",
    " 2. Array takes less memory and fast to access\n",
    " 3. The size of the arrays cannot be changed but list we can append.\n",
    " "
   ]
  },
  {
   "cell_type": "code",
   "execution_count": 37,
   "id": "836877ec",
   "metadata": {},
   "outputs": [
    {
     "name": "stdout",
     "output_type": "stream",
     "text": [
      "5\n",
      "6\n",
      "class:  ndarray\n",
      "shape:  (3,)\n",
      "strides:  (4,)\n",
      "itemsize:  4\n",
      "aligned:  True\n",
      "contiguous:  True\n",
      "fortran:  True\n",
      "data pointer: 0x2e050ba6530\n",
      "byteorder:  little\n",
      "byteswap:  False\n",
      "type: int32\n",
      "None\n"
     ]
    }
   ],
   "source": [
    "x=np.array([5,7,8])\n",
    "y=[6,7,8]\n",
    "print(x[0])\n",
    "print(y[0])\n",
    "print(np.info(x))"
   ]
  },
  {
   "cell_type": "markdown",
   "id": "858e66ce",
   "metadata": {},
   "source": [
    "###  3. The size of the arrays cannot be changed but list we can append.\n"
   ]
  },
  {
   "cell_type": "code",
   "execution_count": 20,
   "id": "53a263e0",
   "metadata": {},
   "outputs": [
    {
     "name": "stdout",
     "output_type": "stream",
     "text": [
      "[6, 7, 8, 8]\n"
     ]
    }
   ],
   "source": [
    "\n",
    "y=[6,7,8]\n",
    "y.append(8)\n",
    "print(y)"
   ]
  },
  {
   "cell_type": "markdown",
   "id": "6e8ede27",
   "metadata": {},
   "source": [
    "### 4. Array cannot be appended.It will give an errror"
   ]
  },
  {
   "cell_type": "code",
   "execution_count": 21,
   "id": "e3b1ed46",
   "metadata": {},
   "outputs": [
    {
     "ename": "AttributeError",
     "evalue": "'numpy.ndarray' object has no attribute 'append'",
     "output_type": "error",
     "traceback": [
      "\u001b[1;31m---------------------------------------------------------------------------\u001b[0m",
      "\u001b[1;31mAttributeError\u001b[0m                            Traceback (most recent call last)",
      "Input \u001b[1;32mIn [21]\u001b[0m, in \u001b[0;36m<module>\u001b[1;34m\u001b[0m\n\u001b[0;32m      1\u001b[0m x\u001b[38;5;241m=\u001b[39mnp\u001b[38;5;241m.\u001b[39marray([\u001b[38;5;241m5\u001b[39m,\u001b[38;5;241m7\u001b[39m,\u001b[38;5;241m8\u001b[39m])\n\u001b[1;32m----> 2\u001b[0m \u001b[43mx\u001b[49m\u001b[38;5;241;43m.\u001b[39;49m\u001b[43mappend\u001b[49m(\u001b[38;5;241m9\u001b[39m)\n\u001b[0;32m      3\u001b[0m \u001b[38;5;28mprint\u001b[39m(x)\n",
      "\u001b[1;31mAttributeError\u001b[0m: 'numpy.ndarray' object has no attribute 'append'"
     ]
    }
   ],
   "source": [
    "x=np.array([5,7,8])\n",
    "x.append(9)\n",
    "print(x)"
   ]
  },
  {
   "cell_type": "markdown",
   "id": "c7949dc1",
   "metadata": {},
   "source": [
    "#### 2. Array contain elements of homongenous types.\n",
    "#### 3. Arrays occupies much less space thanalist.\n",
    "#### 4. Arrays are faster than lists.\n",
    "#### 5. Arrays support vectorized operations.\n",
    "     (if we applyafunction it is applied on every item.)"
   ]
  },
  {
   "cell_type": "code",
   "execution_count": 23,
   "id": "6307e7be",
   "metadata": {},
   "outputs": [
    {
     "name": "stdout",
     "output_type": "stream",
     "text": [
      "vectorised operation\n",
      "[10  3  4]\n"
     ]
    }
   ],
   "source": [
    "print('vectorised operation')\n",
    "x=np.array([9,2,3])\n",
    "x=x+1\n",
    "print(x)"
   ]
  },
  {
   "cell_type": "markdown",
   "id": "66a88037",
   "metadata": {},
   "source": [
    "### 2)fromiter()\n",
    "      useful for creating non numeric sequence type array\n",
    "      however it can create any type of array mostly used from making an array from a Dictonary"
   ]
  },
  {
   "cell_type": "code",
   "execution_count": 24,
   "id": "c1fa8766",
   "metadata": {},
   "outputs": [
    {
     "name": "stdout",
     "output_type": "stream",
     "text": [
      "[3 6 7]\n"
     ]
    }
   ],
   "source": [
    "y={3:\"d\",6:\"m\",7:4}\n",
    "x=np.fromiter(y,dtype=np.int32)\n",
    "print(x)"
   ]
  },
  {
   "cell_type": "code",
   "execution_count": 25,
   "id": "8b7b0290",
   "metadata": {},
   "outputs": [
    {
     "name": "stdout",
     "output_type": "stream",
     "text": [
      "[3 6] when the keys are same it ignores the repeatative values\n"
     ]
    }
   ],
   "source": [
    "y={3:\"d\",6:\"m\",6:4}\n",
    "x=np.fromiter(y,dtype=np.int32)\n",
    "print(x, 'when the keys are same it ignores the repeatative values')"
   ]
  },
  {
   "cell_type": "code",
   "execution_count": 26,
   "id": "dba06c19",
   "metadata": {},
   "outputs": [
    {
     "name": "stdout",
     "output_type": "stream",
     "text": [
      "['i' 'l' 'o' 'v' 'e' 'p' 'y' 't' 'h' 'o' 'n']\n"
     ]
    }
   ],
   "source": [
    "y=\"ilovepython\"\n",
    "x=np.fromiter(y,dtype=\"U2\")\n",
    "print(x)"
   ]
  },
  {
   "cell_type": "markdown",
   "id": "ee2195c1",
   "metadata": {},
   "source": [
    "####  3. arange() - to create an array from a range"
   ]
  },
  {
   "cell_type": "code",
   "execution_count": 32,
   "id": "45bc2cd6",
   "metadata": {},
   "outputs": [
    {
     "name": "stdout",
     "output_type": "stream",
     "text": [
      "[3. 5. 7. 9.]\n",
      "(4,)\n",
      "4\n"
     ]
    }
   ],
   "source": [
    "x= np.arange(3,10,2,dtype=np.float32)\n",
    "print(x)\n",
    "print(x.shape)\n",
    "print(x.itemsize)"
   ]
  },
  {
   "cell_type": "markdown",
   "id": "4b9304f7",
   "metadata": {},
   "source": [
    "### 4. linspace():- creates an array equally spaced"
   ]
  },
  {
   "cell_type": "code",
   "execution_count": 33,
   "id": "ea5fba6d",
   "metadata": {},
   "outputs": [
    {
     "name": "stdout",
     "output_type": "stream",
     "text": [
      "[ 3.5   6.75 10.  ] Ending value is included\n"
     ]
    }
   ],
   "source": [
    "x=np.linspace(3.5,10,3)\n",
    "print(x,'Ending value is included')"
   ]
  },
  {
   "cell_type": "code",
   "execution_count": 34,
   "id": "1d799494",
   "metadata": {},
   "outputs": [
    {
     "name": "stdout",
     "output_type": "stream",
     "text": [
      "[ 3.5   6.75 10.  ] since the datatype is int so it will round up to the nearest\n"
     ]
    }
   ],
   "source": [
    "import numpy as np\n",
    "x=np.linspace(3.5,10,3)\n",
    "print(x, 'since the datatype is int so it will round up to the nearest')"
   ]
  },
  {
   "cell_type": "markdown",
   "id": "222b5616",
   "metadata": {},
   "source": [
    "###     2D ARRAY"
   ]
  },
  {
   "cell_type": "code",
   "execution_count": 35,
   "id": "0d92f016",
   "metadata": {},
   "outputs": [
    {
     "name": "stdout",
     "output_type": "stream",
     "text": [
      "[[5 6 7 8]\n",
      " [6 7 8 9]\n",
      " [6 7 8 3]] CREATING A 2D ARRAY FROM A TUPLE\n"
     ]
    }
   ],
   "source": [
    "t=((5,6,7,8),(6,7,8,9),(6,7,8,3))\n",
    "a=np.array(t)\n",
    "print(a ,'CREATING A 2D ARRAY FROM A TUPLE')"
   ]
  },
  {
   "cell_type": "code",
   "execution_count": 36,
   "id": "d888cf88",
   "metadata": {},
   "outputs": [
    {
     "name": "stdout",
     "output_type": "stream",
     "text": [
      "[[0 1 2]\n",
      " [3 4 5]] CREATING A 2D ARRAY USING A RESHAPE\n"
     ]
    }
   ],
   "source": [
    "x=np.arange(6)\n",
    "x=x.reshape(2,3)\n",
    "print(x ,'CREATING A 2D ARRAY USING A RESHAPE')"
   ]
  },
  {
   "cell_type": "markdown",
   "id": "82c166bb",
   "metadata": {},
   "source": [
    "#### ALTERNATIVE METHODS OF CREATING AN ARRAY"
   ]
  },
  {
   "cell_type": "markdown",
   "id": "b200d80a",
   "metadata": {},
   "source": [
    " ### 1. Creating empty arrays using empty()\n",
    "To create empty arrays of specified shape and dtype in\n",
    "which you can store data when required."
   ]
  },
  {
   "cell_type": "markdown",
   "id": "b98d608c",
   "metadata": {},
   "source": [
    "####\n",
    "Creating empty arrays using empty()\n",
    "To create empty arrays ofspecified shape and dtype in\n",
    "which you can store data when required.\n",
    "You can also arrange elements in specific order\n",
    "1. Contiguous order - row major\n",
    "2. Fortran order- column major\n",
    "(order=\"c\")\n",
    "(order =\"f\")\n",
    "\n"
   ]
  },
  {
   "cell_type": "code",
   "execution_count": 50,
   "id": "eeb66fbf",
   "metadata": {},
   "outputs": [
    {
     "name": "stdout",
     "output_type": "stream",
     "text": [
      "[[0 0 0 0]\n",
      " [0 0 0 0]\n",
      " [0 0 0 0]]\n"
     ]
    }
   ],
   "source": [
    "x =np.empty([3,4],dtype=np.int32,order=\"f\")\n",
    "print(x)"
   ]
  },
  {
   "cell_type": "markdown",
   "id": "e9b48bad",
   "metadata": {},
   "source": [
    " ### empty_like(), zeros_like(), ones_like()\n",
    "###     To create an array similar to another existing array)having\n",
    "###      similar dtype ,shape and order."
   ]
  },
  {
   "cell_type": "code",
   "execution_count": 56,
   "id": "a0cd18ec",
   "metadata": {},
   "outputs": [
    {
     "name": "stdout",
     "output_type": "stream",
     "text": [
      "[[ 5  6  7  8]\n",
      " [ 6  7  8  9]\n",
      " [11  7  8  9]]\n"
     ]
    }
   ],
   "source": [
    "y =np.empty_like(x)\n",
    "print(y)"
   ]
  },
  {
   "cell_type": "code",
   "execution_count": 54,
   "id": "12027755",
   "metadata": {},
   "outputs": [
    {
     "name": "stdout",
     "output_type": "stream",
     "text": [
      "[[1 1 1 1]\n",
      " [1 1 1 1]\n",
      " [1 1 1 1]]\n"
     ]
    }
   ],
   "source": [
    "x =np.ones([3,4],dtype =np.int32)\n",
    "print(x)"
   ]
  },
  {
   "cell_type": "code",
   "execution_count": 55,
   "id": "56e22e21",
   "metadata": {},
   "outputs": [
    {
     "name": "stdout",
     "output_type": "stream",
     "text": [
      "[[1 1 1 1]\n",
      " [1 1 1 1]\n",
      " [1 1 1 1]]\n"
     ]
    }
   ],
   "source": [
    "y =np.ones_like(x)\n",
    "print(y)"
   ]
  },
  {
   "cell_type": "code",
   "execution_count": 57,
   "id": "d952bedf",
   "metadata": {},
   "outputs": [
    {
     "name": "stdout",
     "output_type": "stream",
     "text": [
      "[[0 0 0 0 0 0 0 0 0 0]\n",
      " [0 0 0 0 0 0 0 0 0 0]\n",
      " [0 0 0 0 0 0 0 0 0 0]\n",
      " [0 0 0 0 0 0 0 0 0 0]\n",
      " [0 0 0 0 0 0 0 0 0 0]\n",
      " [0 0 0 0 0 0 0 0 0 0]\n",
      " [0 0 0 0 0 0 0 0 0 0]\n",
      " [0 0 0 0 0 0 0 0 0 0]\n",
      " [0 0 0 0 0 0 0 0 0 0]\n",
      " [0 0 0 0 0 0 0 0 0 0]] <class 'numpy.ndarray'> 8\n"
     ]
    }
   ],
   "source": [
    "x = np.zeros((10,10),dtype = np.int64)\n",
    "print(x,type(x),x.itemsize)"
   ]
  },
  {
   "cell_type": "code",
   "execution_count": 58,
   "id": "65d73eaf",
   "metadata": {},
   "outputs": [
    {
     "name": "stdout",
     "output_type": "stream",
     "text": [
      "[[0 0 0 0 0 0 0 0 0 0]\n",
      " [0 0 0 0 0 0 0 0 0 0]\n",
      " [0 0 0 0 0 0 0 0 0 0]\n",
      " [0 0 0 0 0 0 0 0 0 0]\n",
      " [0 0 0 0 0 0 0 0 0 0]\n",
      " [0 0 0 0 0 0 0 0 0 0]\n",
      " [0 0 0 0 0 0 0 0 0 0]\n",
      " [0 0 0 0 0 0 0 0 0 0]\n",
      " [0 0 0 0 0 0 0 0 0 0]\n",
      " [0 0 0 0 0 0 0 0 0 0]] <class 'numpy.ndarray'> 8\n"
     ]
    }
   ],
   "source": [
    "y = np.zeros_like(x)\n",
    "print(x,type(x),x.itemsize)"
   ]
  },
  {
   "cell_type": "code",
   "execution_count": 59,
   "id": "a9aa3ce7",
   "metadata": {},
   "outputs": [
    {
     "name": "stdout",
     "output_type": "stream",
     "text": [
      "[[1. 0. 0.]\n",
      " [0. 1. 0.]\n",
      " [0. 0. 1.]]\n"
     ]
    }
   ],
   "source": [
    "x=np.eye(3)\n",
    "print(x)"
   ]
  },
  {
   "cell_type": "code",
   "execution_count": 40,
   "id": "401b6dfe",
   "metadata": {},
   "outputs": [
    {
     "name": "stdout",
     "output_type": "stream",
     "text": [
      "[[1 1 1 1 1 1 1 1 1 1]\n",
      " [1 1 1 1 1 1 1 1 1 1]\n",
      " [1 1 1 1 1 1 1 1 1 1]\n",
      " [1 1 1 1 1 1 1 1 1 1]\n",
      " [1 1 1 1 1 1 1 1 1 1]\n",
      " [1 1 1 1 1 1 1 1 1 1]\n",
      " [1 1 1 1 1 1 1 1 1 1]\n",
      " [1 1 1 1 1 1 1 1 1 1]\n",
      " [1 1 1 1 1 1 1 1 1 1]\n",
      " [1 1 1 1 1 1 1 1 1 1]] <class 'numpy.ndarray'> 8\n"
     ]
    }
   ],
   "source": [
    "x = np.ones((10,10),dtype = np.int64)\n",
    "print(x,type(x),x.itemsize)"
   ]
  },
  {
   "cell_type": "code",
   "execution_count": 42,
   "id": "20b989e8",
   "metadata": {},
   "outputs": [
    {
     "name": "stdout",
     "output_type": "stream",
     "text": [
      "[[7 7 7 7 7]\n",
      " [7 7 7 7 7]\n",
      " [7 7 7 7 7]\n",
      " [7 7 7 7 7]\n",
      " [7 7 7 7 7]] <class 'numpy.ndarray'> 8\n"
     ]
    }
   ],
   "source": [
    "x = np.full((5,5),7,dtype = np.int64)\n",
    "print(x,type(x),x.itemsize)"
   ]
  },
  {
   "cell_type": "code",
   "execution_count": 43,
   "id": "4491968c",
   "metadata": {},
   "outputs": [
    {
     "name": "stdout",
     "output_type": "stream",
     "text": [
      "[[1 0 0 0 0 0 0 0 0 0]\n",
      " [0 1 0 0 0 0 0 0 0 0]\n",
      " [0 0 1 0 0 0 0 0 0 0]\n",
      " [0 0 0 1 0 0 0 0 0 0]\n",
      " [0 0 0 0 1 0 0 0 0 0]\n",
      " [0 0 0 0 0 1 0 0 0 0]\n",
      " [0 0 0 0 0 0 1 0 0 0]\n",
      " [0 0 0 0 0 0 0 1 0 0]\n",
      " [0 0 0 0 0 0 0 0 1 0]\n",
      " [0 0 0 0 0 0 0 0 0 1]] <class 'numpy.ndarray'> 8\n"
     ]
    }
   ],
   "source": [
    "x = np.eye(10,10,dtype = np.int64)\n",
    "print(x,type(x),x.itemsize)"
   ]
  },
  {
   "cell_type": "code",
   "execution_count": 44,
   "id": "1144f160",
   "metadata": {},
   "outputs": [
    {
     "name": "stdout",
     "output_type": "stream",
     "text": [
      "[ 0.          3.33333333  6.66666667 10.        ]\n"
     ]
    }
   ],
   "source": [
    "x = np.linspace(0,10,num =4)\n",
    "print(x)"
   ]
  },
  {
   "cell_type": "code",
   "execution_count": 60,
   "id": "fd0f3d5f",
   "metadata": {},
   "outputs": [
    {
     "name": "stdout",
     "output_type": "stream",
     "text": [
      "[[0.19130765 0.92076537 0.44401181 0.82953144]\n",
      " [0.0963711  0.08127319 0.81941828 0.05639623]\n",
      " [0.30604803 0.7565242  0.76909469 0.98940132]]\n"
     ]
    }
   ],
   "source": [
    "x= np.random.rand(3,4)\n",
    "print(x)"
   ]
  },
  {
   "cell_type": "code",
   "execution_count": 61,
   "id": "a564236b",
   "metadata": {},
   "outputs": [
    {
     "name": "stdout",
     "output_type": "stream",
     "text": [
      "[[ 5.31238836 31.19544842 71.94710592 12.94443847]\n",
      " [93.84998337 78.64522432 43.97451044 29.89247391]\n",
      " [29.93434153 18.76020133 72.58995822 63.22913051]]\n"
     ]
    }
   ],
   "source": [
    "x= np.random.rand(3,4)*100\n",
    "print(x)"
   ]
  },
  {
   "cell_type": "code",
   "execution_count": null,
   "id": "f3d01cc3",
   "metadata": {},
   "outputs": [],
   "source": []
  },
  {
   "cell_type": "code",
   "execution_count": null,
   "id": "1bacc327",
   "metadata": {},
   "outputs": [],
   "source": []
  },
  {
   "cell_type": "code",
   "execution_count": null,
   "id": "8de89f26",
   "metadata": {},
   "outputs": [],
   "source": []
  },
  {
   "cell_type": "code",
   "execution_count": null,
   "id": "5cd4f63c",
   "metadata": {},
   "outputs": [],
   "source": []
  },
  {
   "cell_type": "code",
   "execution_count": null,
   "id": "701f0a7d",
   "metadata": {},
   "outputs": [],
   "source": []
  },
  {
   "cell_type": "code",
   "execution_count": null,
   "id": "4039545a",
   "metadata": {},
   "outputs": [],
   "source": []
  },
  {
   "cell_type": "code",
   "execution_count": null,
   "id": "80c2c0c4",
   "metadata": {},
   "outputs": [],
   "source": []
  },
  {
   "cell_type": "code",
   "execution_count": null,
   "id": "0ea11da4",
   "metadata": {},
   "outputs": [],
   "source": []
  },
  {
   "cell_type": "code",
   "execution_count": null,
   "id": "46c6f095",
   "metadata": {},
   "outputs": [],
   "source": []
  },
  {
   "cell_type": "code",
   "execution_count": null,
   "id": "84ba2f95",
   "metadata": {},
   "outputs": [],
   "source": []
  },
  {
   "cell_type": "code",
   "execution_count": null,
   "id": "6b74c995",
   "metadata": {},
   "outputs": [],
   "source": []
  },
  {
   "cell_type": "code",
   "execution_count": null,
   "id": "1f22d131",
   "metadata": {},
   "outputs": [],
   "source": []
  },
  {
   "cell_type": "code",
   "execution_count": null,
   "id": "372611b5",
   "metadata": {},
   "outputs": [],
   "source": []
  }
 ],
 "metadata": {
  "kernelspec": {
   "display_name": "Python 3 (ipykernel)",
   "language": "python",
   "name": "python3"
  },
  "language_info": {
   "codemirror_mode": {
    "name": "ipython",
    "version": 3
   },
   "file_extension": ".py",
   "mimetype": "text/x-python",
   "name": "python",
   "nbconvert_exporter": "python",
   "pygments_lexer": "ipython3",
   "version": "3.10.3"
  }
 },
 "nbformat": 4,
 "nbformat_minor": 5
}
