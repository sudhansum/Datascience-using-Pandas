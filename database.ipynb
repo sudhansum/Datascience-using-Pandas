{
 "cells": [
  {
   "cell_type": "code",
   "execution_count": 1,
   "id": "c4e8aaff",
   "metadata": {},
   "outputs": [],
   "source": [
    "import sqlite3\n"
   ]
  },
  {
   "cell_type": "code",
   "execution_count": 2,
   "id": "cac5151d",
   "metadata": {},
   "outputs": [],
   "source": [
    "def myConnect():\n",
    "    con = sqlite3.connect('mydb.db')\n",
    "    return con"
   ]
  },
  {
   "cell_type": "code",
   "execution_count": 3,
   "id": "d10b1d7f",
   "metadata": {},
   "outputs": [
    {
     "name": "stdout",
     "output_type": "stream",
     "text": [
      "connected\n"
     ]
    }
   ],
   "source": [
    "con = myConnect()\n",
    "if con:\n",
    "    print('connected')"
   ]
  },
  {
   "cell_type": "code",
   "execution_count": 4,
   "id": "3dd9fc08",
   "metadata": {},
   "outputs": [],
   "source": [
    "def createTable(con):\n",
    "    cur=con.cursor()\n",
    "    qry = 'CREATE TABLE student(name TEXT,id INT,per REAL,phone_no INT)'\n",
    "    cur.execute(qry)\n",
    "    con.commit()\n",
    "    print('Table Created')\n",
    "    "
   ]
  },
  {
   "cell_type": "code",
   "execution_count": 5,
   "id": "54027088",
   "metadata": {},
   "outputs": [
    {
     "name": "stdout",
     "output_type": "stream",
     "text": [
      "Table Created\n"
     ]
    }
   ],
   "source": [
    "con=myConnect()\n",
    "createTable(con)"
   ]
  },
  {
   "cell_type": "code",
   "execution_count": 17,
   "id": "069810b0",
   "metadata": {},
   "outputs": [],
   "source": [
    "def insertRecord(con):\n",
    "    cur=con.cursor()\n",
    "    qry=\"INSERT INTO student VALUES('vamsi',13,97.0,977556)\"\n",
    "    cur.execute(qry)\n",
    "    con.commit()\n",
    "    print('row inserted')"
   ]
  },
  {
   "cell_type": "code",
   "execution_count": 18,
   "id": "6d466f9d",
   "metadata": {},
   "outputs": [
    {
     "name": "stdout",
     "output_type": "stream",
     "text": [
      "row inserted\n"
     ]
    }
   ],
   "source": [
    "insertRecord(con)"
   ]
  },
  {
   "cell_type": "code",
   "execution_count": 23,
   "id": "8b4655b9",
   "metadata": {},
   "outputs": [],
   "source": [
    "def display(con):\n",
    "    cur=con.cursor()\n",
    "    qry=\"SELECT * FROM student\"\n",
    "    cur.execute(qry)\n",
    "    res=cur.fetchall()\n",
    "    for i in res:\n",
    "        print (i)"
   ]
  },
  {
   "cell_type": "code",
   "execution_count": 29,
   "id": "5f68d6e7",
   "metadata": {},
   "outputs": [
    {
     "name": "stdout",
     "output_type": "stream",
     "text": [
      "('vamsi', 13, 97.0, 977556)\n",
      "('vamsi', 13, 97.0, 977556)\n",
      "('vamsi', 13, 97.0, 977556)\n"
     ]
    }
   ],
   "source": [
    "display(con)"
   ]
  },
  {
   "cell_type": "code",
   "execution_count": 30,
   "id": "40edbd50",
   "metadata": {},
   "outputs": [],
   "source": [
    "def delete(con):\n",
    "    cur=con.cursor()\n",
    "    qry=\"DELETE FROM student WHERE id=12\"\n",
    "    cur.execute(qry)\n",
    "    con.commit()\n",
    "    "
   ]
  },
  {
   "cell_type": "code",
   "execution_count": 31,
   "id": "7b8f94d6",
   "metadata": {},
   "outputs": [],
   "source": [
    "delete(con)"
   ]
  },
  {
   "cell_type": "code",
   "execution_count": 32,
   "id": "adc5b653",
   "metadata": {},
   "outputs": [],
   "source": [
    "def display(con):\n",
    "    cur=con.cursor()\n",
    "    qry=\"SELECT * FROM student\"\n",
    "    cur.execute(qry)\n",
    "    res=cur.fetchall()\n",
    "    for i in res:\n",
    "        print (i)"
   ]
  },
  {
   "cell_type": "code",
   "execution_count": 33,
   "id": "383c931a",
   "metadata": {},
   "outputs": [
    {
     "name": "stdout",
     "output_type": "stream",
     "text": [
      "('vamsi', 13, 97.0, 977556)\n",
      "('vamsi', 13, 97.0, 977556)\n",
      "('vamsi', 13, 97.0, 977556)\n"
     ]
    }
   ],
   "source": [
    "display(con)"
   ]
  },
  {
   "cell_type": "code",
   "execution_count": null,
   "id": "56c4e2dc",
   "metadata": {},
   "outputs": [],
   "source": []
  },
  {
   "cell_type": "code",
   "execution_count": null,
   "id": "f5bdbca7",
   "metadata": {},
   "outputs": [],
   "source": []
  },
  {
   "cell_type": "code",
   "execution_count": null,
   "id": "15a1622a",
   "metadata": {},
   "outputs": [],
   "source": []
  },
  {
   "cell_type": "code",
   "execution_count": null,
   "id": "fa47485e",
   "metadata": {},
   "outputs": [],
   "source": []
  },
  {
   "cell_type": "code",
   "execution_count": null,
   "id": "ec5525e9",
   "metadata": {},
   "outputs": [],
   "source": []
  },
  {
   "cell_type": "code",
   "execution_count": null,
   "id": "0ea3b5e8",
   "metadata": {},
   "outputs": [],
   "source": []
  },
  {
   "cell_type": "code",
   "execution_count": null,
   "id": "6be7f195",
   "metadata": {},
   "outputs": [],
   "source": []
  },
  {
   "cell_type": "code",
   "execution_count": null,
   "id": "177ce319",
   "metadata": {},
   "outputs": [],
   "source": []
  },
  {
   "cell_type": "code",
   "execution_count": null,
   "id": "f07a311e",
   "metadata": {},
   "outputs": [],
   "source": []
  },
  {
   "cell_type": "code",
   "execution_count": null,
   "id": "f3931ee8",
   "metadata": {},
   "outputs": [],
   "source": []
  }
 ],
 "metadata": {
  "kernelspec": {
   "display_name": "Python 3 (ipykernel)",
   "language": "python",
   "name": "python3"
  },
  "language_info": {
   "codemirror_mode": {
    "name": "ipython",
    "version": 3
   },
   "file_extension": ".py",
   "mimetype": "text/x-python",
   "name": "python",
   "nbconvert_exporter": "python",
   "pygments_lexer": "ipython3",
   "version": "3.10.3"
  }
 },
 "nbformat": 4,
 "nbformat_minor": 5
}
