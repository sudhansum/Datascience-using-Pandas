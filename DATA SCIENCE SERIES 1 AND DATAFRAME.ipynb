{
 "cells": [
  {
   "cell_type": "markdown",
   "id": "59ec0bc4",
   "metadata": {},
   "source": [
    "# SERIES 1\n"
   ]
  },
  {
   "cell_type": "code",
   "execution_count": 23,
   "id": "ae6e7ee3",
   "metadata": {},
   "outputs": [],
   "source": [
    "import pandas as pd\n",
    "import numpy as np\n"
   ]
  },
  {
   "cell_type": "code",
   "execution_count": 2,
   "id": "d5a5d96b",
   "metadata": {},
   "outputs": [
    {
     "name": "stdout",
     "output_type": "stream",
     "text": [
      "0    1\n",
      "1    2\n",
      "2    3\n",
      "3    4\n",
      "dtype: int64\n"
     ]
    }
   ],
   "source": [
    "Data = [1,2,3,4]\n",
    "si=pd.Series(Data)\n",
    "print(si)"
   ]
  },
  {
   "cell_type": "code",
   "execution_count": 4,
   "id": "5bb3c95b",
   "metadata": {},
   "outputs": [
    {
     "name": "stdout",
     "output_type": "stream",
     "text": [
      "a    1\n",
      "b    2\n",
      "c    3\n",
      "d    4\n",
      "dtype: int64\n"
     ]
    }
   ],
   "source": [
    "d = {'a':1, 'b':2, 'c':3,'d':4}\n",
    "di =pd.Series(d)\n",
    "print(di)"
   ]
  },
  {
   "cell_type": "code",
   "execution_count": 6,
   "id": "6424d3e6",
   "metadata": {},
   "outputs": [
    {
     "name": "stdout",
     "output_type": "stream",
     "text": [
      "0    [2, 3]\n",
      "1    [6, 7]\n",
      "dtype: object\n"
     ]
    }
   ],
   "source": [
    "Data = [[2,3],[6,7]]\n",
    "sd =pd.Series(Data)\n",
    "print(sd)"
   ]
  },
  {
   "cell_type": "code",
   "execution_count": 9,
   "id": "0055db17",
   "metadata": {},
   "outputs": [
    {
     "name": "stdout",
     "output_type": "stream",
     "text": [
      "A    [2, 3]\n",
      "B    [6, 7]\n",
      "dtype: object\n"
     ]
    }
   ],
   "source": [
    "index =['A','B']\n",
    "ser = pd.Series(Data,index)\n",
    "print(ser)"
   ]
  },
  {
   "cell_type": "code",
   "execution_count": 10,
   "id": "b844526c",
   "metadata": {},
   "outputs": [
    {
     "name": "stdout",
     "output_type": "stream",
     "text": [
      "A    10\n",
      "B    10\n",
      "dtype: int64\n"
     ]
    }
   ],
   "source": [
    "ser = pd.Series(10,index)\n",
    "print(ser)"
   ]
  },
  {
   "cell_type": "code",
   "execution_count": 12,
   "id": "96a6395b",
   "metadata": {},
   "outputs": [
    {
     "name": "stdout",
     "output_type": "stream",
     "text": [
      "0    12\n",
      "1    13\n",
      "2    14\n",
      "3    15\n",
      "4    32\n",
      "dtype: int64\n",
      "0    12\n",
      "1    13\n",
      "2    14\n",
      "dtype: int64\n"
     ]
    }
   ],
   "source": [
    "index=[0,1,2,3,4,5]\n",
    "lst= [12,13,14,15,32,21]\n",
    "ser=pd.Series(lst,index)\n",
    "print(ser.head())\n",
    "print(ser.head(3))"
   ]
  },
  {
   "cell_type": "code",
   "execution_count": 13,
   "id": "72f5f942",
   "metadata": {},
   "outputs": [
    {
     "name": "stdout",
     "output_type": "stream",
     "text": [
      "1    13\n",
      "2    14\n",
      "3    15\n",
      "4    32\n",
      "5    21\n",
      "dtype: int64\n"
     ]
    }
   ],
   "source": [
    "print(ser.tail())"
   ]
  },
  {
   "cell_type": "code",
   "execution_count": 14,
   "id": "25de445d",
   "metadata": {},
   "outputs": [
    {
     "name": "stdout",
     "output_type": "stream",
     "text": [
      "3    15\n",
      "4    32\n",
      "5    21\n",
      "dtype: int64\n"
     ]
    }
   ],
   "source": [
    "print(ser.tail(3))"
   ]
  },
  {
   "cell_type": "code",
   "execution_count": 17,
   "id": "8539c96e",
   "metadata": {},
   "outputs": [
    {
     "name": "stdout",
     "output_type": "stream",
     "text": [
      "    0   1   2\n",
      "0  10  15  18\n",
      "1  22   5   6\n",
      "2   3   2   5\n",
      "    0   1   2\n",
      "0  10  15  18\n",
      "1  22   5   6\n",
      "2   3   2   5\n",
      "\n",
      "    0   1   2\n",
      "0  10  15  18\n",
      "1  22   5   6\n",
      "\n",
      "    0   1   2\n",
      "0  10  15  18\n",
      "1  22   5   6\n",
      "2   3   2   5\n",
      "\n",
      "    0  1  2\n",
      "1  22  5  6\n",
      "2   3  2  5\n"
     ]
    }
   ],
   "source": [
    "sd = [[10,15,18],[22,5,6],[3,2,5]]\n",
    "df =pd.DataFrame(sd)\n",
    "print(df)\n",
    "print(df.head())\n",
    "print()\n",
    "print(df.head(2))\n",
    "print()\n",
    "print(df.tail())\n",
    "print()\n",
    "print(df.tail(2))"
   ]
  },
  {
   "cell_type": "code",
   "execution_count": 18,
   "id": "4e3e3703",
   "metadata": {},
   "outputs": [
    {
     "name": "stdout",
     "output_type": "stream",
     "text": [
      "0    12\n",
      "1    13\n",
      "2    14\n",
      "3    15\n",
      "4    32\n",
      "5    21\n",
      "dtype: int64\n",
      "\n",
      "1    13\n",
      "2    14\n",
      "3    15\n",
      "dtype: int64\n",
      "\n",
      "1    13\n",
      "2    14\n",
      "dtype: int64\n"
     ]
    }
   ],
   "source": [
    "index=[0,1,2,3,4,5]\n",
    "lst= [12,13,14,15,32,21]\n",
    "ser=pd.Series(lst,index)\n",
    "print(ser)\n",
    "print()\n",
    "print(ser.loc[1:3])\n",
    "print()\n",
    "print(ser.iloc[1:3])"
   ]
  },
  {
   "cell_type": "code",
   "execution_count": 19,
   "id": "348c02c8",
   "metadata": {},
   "outputs": [
    {
     "name": "stdout",
     "output_type": "stream",
     "text": [
      "0    12\n",
      "1    13\n",
      "2    14\n",
      "3    15\n",
      "4    32\n",
      "5    21\n",
      "dtype: int64\n",
      "1    13\n",
      "2    14\n",
      "dtype: int64\n",
      "\n",
      "0    12\n",
      "1    13\n",
      "2    14\n",
      "dtype: int64\n",
      "\n",
      "3    15\n",
      "4    32\n",
      "5    21\n",
      "dtype: int64\n"
     ]
    }
   ],
   "source": [
    "index=[0,1,2,3,4,5]\n",
    "lst= [12,13,14,15,32,21]\n",
    "ser=pd.Series(lst,index)\n",
    "print(ser)\n",
    "print(ser[1:3])\n",
    "print()\n",
    "print(ser[:3])\n",
    "print()\n",
    "print(ser[3:])"
   ]
  },
  {
   "cell_type": "markdown",
   "id": "574cf7ea",
   "metadata": {},
   "source": [
    "#    DATAFRAME "
   ]
  },
  {
   "cell_type": "markdown",
   "id": "cd5d1245",
   "metadata": {},
   "source": [
    "Dataframe is a 2D array structure\n"
   ]
  },
  {
   "cell_type": "code",
   "execution_count": 20,
   "id": "c068fa9f",
   "metadata": {},
   "outputs": [
    {
     "name": "stdout",
     "output_type": "stream",
     "text": [
      "[{'a': 1, 'b': 2, 'c': 3}, {'a': 5, 'b': 6, 'c': 7, 'd': 8}]\n",
      "\n",
      "   a  b  c    d\n",
      "0  1  2  3  NaN\n",
      "1  5  6  7  8.0\n"
     ]
    }
   ],
   "source": [
    "dt1= {'a':1, 'b':2,'c':3}\n",
    "dt2 = {'a':5,'b':6,'c':7,'d':8}\n",
    "lst = [dt1,dt2]\n",
    "print(lst)\n",
    "print()\n",
    "df = pd.DataFrame(lst)\n",
    "print(df)"
   ]
  },
  {
   "cell_type": "code",
   "execution_count": 22,
   "id": "8e3417ae",
   "metadata": {},
   "outputs": [
    {
     "name": "stdout",
     "output_type": "stream",
     "text": [
      "   a    b  c\n",
      "0  1  1.1  a\n",
      "1  2  3.5  b\n",
      "2  3  4.4  c\n",
      "3  4  5.5  d\n"
     ]
    }
   ],
   "source": [
    "s1 = pd.Series([1,2,3,4])\n",
    "s2= pd.Series([1.1,3.5,4.4,5.5])\n",
    "s3 = pd.Series(['a','b','c','d'])\n",
    "data ={'a':s1,'b':s2,'c':s3}\n",
    "dfseries =pd.DataFrame(data)\n",
    "print(dfseries)"
   ]
  },
  {
   "cell_type": "code",
   "execution_count": 24,
   "id": "08d2931b",
   "metadata": {},
   "outputs": [
    {
     "name": "stdout",
     "output_type": "stream",
     "text": [
      "   e  f\n",
      "a  1  5\n",
      "b  2  6\n",
      "c  3  7\n",
      "d  9  8\n",
      "\n",
      "1\n",
      "\n",
      "7\n"
     ]
    }
   ],
   "source": [
    "dt1= {'a':1, 'b':2,'c':3,'d':9}\n",
    "dt2 = {'a':5,'b':6,'c':7,'d':8}\n",
    "data= {'e':dt1, 'f':dt2}\n",
    "df=pd.DataFrame(data)\n",
    "print(df)\n",
    "print()\n",
    "print(df['e'][0])\n",
    "print()\n",
    "print(df.f[2])"
   ]
  },
  {
   "cell_type": "markdown",
   "id": "2e0435ae",
   "metadata": {},
   "source": [
    "ADDING A COLUMN"
   ]
  },
  {
   "cell_type": "code",
   "execution_count": 25,
   "id": "c42d720c",
   "metadata": {},
   "outputs": [
    {
     "name": "stdout",
     "output_type": "stream",
     "text": [
      "    0\n",
      "0  10\n",
      "1  15\n",
      "2  20\n",
      "3  22\n",
      "\n",
      "    0  month\n",
      "0  10      5\n",
      "1  15      6\n",
      "2  20      7\n",
      "3  22      8\n"
     ]
    }
   ],
   "source": [
    "lst =[10,15,20,22]\n",
    "df=pd.DataFrame(lst)\n",
    "print(df)\n",
    "print()\n",
    "df['month']=[5,6,7,8]\n",
    "print(df)"
   ]
  },
  {
   "cell_type": "code",
   "execution_count": 32,
   "id": "e0506ca9",
   "metadata": {},
   "outputs": [
    {
     "name": "stdout",
     "output_type": "stream",
     "text": [
      "    0\n",
      "0  10\n",
      "1  15\n",
      "2  20\n",
      "3  22\n",
      "\n",
      "    0  month\n",
      "0  10      5\n",
      "1  15      6\n",
      "2  20      7\n",
      "3  22      8\n",
      "    0  month  year\n",
      "0  10      5    12\n",
      "1  15      6    13\n",
      "2  20      7    14\n",
      "3  22      8    15\n"
     ]
    }
   ],
   "source": [
    "lst =[10,15,20,22]\n",
    "df=pd.DataFrame(lst)\n",
    "print(df)\n",
    "print()\n",
    "df['month']=[5,6,7,8]\n",
    "print(df)\n",
    "df['year'] = [12,13,14,15]\n",
    "print(df)"
   ]
  },
  {
   "cell_type": "markdown",
   "id": "42852931",
   "metadata": {},
   "source": [
    "RENAME A COLUMN"
   ]
  },
  {
   "cell_type": "code",
   "execution_count": 35,
   "id": "14ed4376",
   "metadata": {},
   "outputs": [
    {
     "name": "stdout",
     "output_type": "stream",
     "text": [
      "    0\n",
      "0  10\n",
      "1  15\n",
      "2  20\n",
      "3  22\n",
      "\n",
      "    0  month\n",
      "0  10      5\n",
      "1  15      6\n",
      "2  20      7\n",
      "3  22      8\n",
      "   ab  bc\n",
      "0  10   5\n",
      "1  15   6\n",
      "2  20   7\n",
      "3  22   8\n"
     ]
    }
   ],
   "source": [
    "lst =[10,15,20,22]\n",
    "df=pd.DataFrame(lst)\n",
    "print(df)\n",
    "print()\n",
    "df['month']=[5,6,7,8]\n",
    "print(df)\n",
    "df.columns=[\"ab\",\"bc\"]\n",
    "print(df)"
   ]
  },
  {
   "cell_type": "code",
   "execution_count": 36,
   "id": "f8e52ea8",
   "metadata": {},
   "outputs": [
    {
     "name": "stdout",
     "output_type": "stream",
     "text": [
      "    0\n",
      "0  10\n",
      "1  15\n",
      "2  20\n",
      "3  22\n",
      "\n",
      "Empty DataFrame\n",
      "Columns: []\n",
      "Index: [0, 1, 2, 3]\n"
     ]
    }
   ],
   "source": [
    "lst =[10,15,20,22]\n",
    "df=pd.DataFrame(lst)\n",
    "print(df)\n",
    "print()\n",
    "del df[0] #we provide the name of the column\n",
    "print(df)"
   ]
  },
  {
   "cell_type": "markdown",
   "id": "d1af0128",
   "metadata": {},
   "source": [
    "#ADDING A ROW"
   ]
  },
  {
   "cell_type": "code",
   "execution_count": 42,
   "id": "443c2450",
   "metadata": {},
   "outputs": [
    {
     "name": "stdout",
     "output_type": "stream",
     "text": [
      "    0   1   2   3\n",
      "0  10  15  20  22\n",
      "1   5   6   7   8\n",
      "2  12  13  14  15\n",
      "\n",
      "    0   1   2   3\n",
      "0  10  15  20  22\n",
      "1   5   6   7   8\n",
      "2  12  13  14  15\n",
      "4   6   4   3   9\n"
     ]
    }
   ],
   "source": [
    "lst =[[10,15,20,22],[5,6,7,8],[12,13,14,15]]\n",
    "df=pd.DataFrame(lst)\n",
    "print(df)\n",
    "print()\n",
    "df.loc[4]=[6,4,3,9]\n",
    "print(df)\n"
   ]
  },
  {
   "cell_type": "code",
   "execution_count": 43,
   "id": "6a6e8de4",
   "metadata": {},
   "outputs": [
    {
     "name": "stdout",
     "output_type": "stream",
     "text": [
      "    0   1   2   3\n",
      "0  10  15  20  22\n",
      "1   5   6   7   8\n",
      "2  12  13  14  15\n",
      "\n",
      "    2   3\n",
      "0  20  22\n",
      "1   7   8\n",
      "2  14  15\n"
     ]
    }
   ],
   "source": [
    "lst =[[10,15,20,22],[5,6,7,8],[12,13,14,15]]\n",
    "df=pd.DataFrame(lst)\n",
    "print(df)\n",
    "print()\n",
    "print(df.drop([0,1],axis=1)) #DELETING THE DATA COLUMN WISE"
   ]
  },
  {
   "cell_type": "markdown",
   "id": "a8dc82f6",
   "metadata": {},
   "source": [
    "# Rename Index\n"
   ]
  },
  {
   "cell_type": "code",
   "execution_count": null,
   "id": "babc7115",
   "metadata": {},
   "outputs": [],
   "source": []
  },
  {
   "cell_type": "code",
   "execution_count": 45,
   "id": "a73390cd",
   "metadata": {},
   "outputs": [
    {
     "name": "stdout",
     "output_type": "stream",
     "text": [
      "    0   1   2   3\n",
      "0  10  15  20  22\n",
      "1   5   6   7   8\n",
      "2  12  13  14  15\n",
      "RENAME INDEX\n",
      "     0   1   2   3\n",
      "r1  10  15  20  22\n",
      "r2   5   6   7   8\n",
      "r3  12  13  14  15\n"
     ]
    }
   ],
   "source": [
    "lst =[[10,15,20,22],[5,6,7,8],[12,13,14,15]]\n",
    "df=pd.DataFrame(lst)\n",
    "print(df)\n",
    "print(\"RENAME INDEX\")\n",
    "print(df.rename(index={0:'r1',1:'r2',2:'r3'}))"
   ]
  },
  {
   "cell_type": "markdown",
   "id": "90616442",
   "metadata": {},
   "source": [
    "#BOOLEAN INDEXING"
   ]
  },
  {
   "cell_type": "code",
   "execution_count": 46,
   "id": "5c568b36",
   "metadata": {},
   "outputs": [
    {
     "name": "stdout",
     "output_type": "stream",
     "text": [
      "    0   1   2   3\n",
      "0  10  15  20  22\n",
      "1   5   6   7   8\n",
      "2  12  13  14  15\n",
      "        0   1   2   3\n",
      "True   10  15  20  22\n",
      "False   5   6   7   8\n",
      "True   12  13  14  15\n",
      "       0   1   2   3\n",
      "True  10  15  20  22\n",
      "True  12  13  14  15\n"
     ]
    }
   ],
   "source": [
    "lst =[[10,15,20,22],[5,6,7,8],[12,13,14,15]]\n",
    "df=pd.DataFrame(lst)\n",
    "print(df)\n",
    "df=pd.DataFrame(lst,index=[True,False,True])\n",
    "print(df)\n",
    "print(df.loc[True])"
   ]
  },
  {
   "cell_type": "markdown",
   "id": "1ace0269",
   "metadata": {},
   "source": [
    "#JOINING MERGING AND CONCATENATION OF DATAFRAME\n"
   ]
  },
  {
   "cell_type": "code",
   "execution_count": 50,
   "id": "924f84c0",
   "metadata": {},
   "outputs": [
    {
     "name": "stdout",
     "output_type": "stream",
     "text": [
      "    0      1   2     3\n",
      "0  10  15.00  20  22.0\n",
      "1   5   6.00   7   8.0\n",
      "2  12  13.00  14  15.0\n",
      "0  12  13.00  14  15.0\n",
      "1  32  21.15  18   NaN\n",
      "2  14  15.00  46  21.0\n",
      "ignore_index=True gives the continious indexing\n",
      "    0      1   2     3\n",
      "0  10  15.00  20  22.0\n",
      "1   5   6.00   7   8.0\n",
      "2  12  13.00  14  15.0\n",
      "3  12  13.00  14  15.0\n",
      "4  32  21.15  18   NaN\n",
      "5  14  15.00  46  21.0\n"
     ]
    }
   ],
   "source": [
    "lst1 =[[10,15,20,22],[5,6,7,8],[12,13,14,15]]\n",
    "df1=pd.DataFrame(lst1)\n",
    "lst2=[[12,13,14,15],[32,21.15,18],[14,15,46,21]]\n",
    "df2= pd.DataFrame(lst2)\n",
    "df3= pd.concat([df1,df2])\n",
    "print(df3)\n",
    "print(\"ignore_index=True\",'gives the continious indexing')\n",
    "df3= pd.concat([df1,df2],ignore_index=True)\n",
    "print(df3)\n"
   ]
  },
  {
   "cell_type": "markdown",
   "id": "12ddc896",
   "metadata": {},
   "source": [
    "# MERGING TWO DATA SETS ON THE BASIS OF COMMON ATTRIBUTES"
   ]
  },
  {
   "cell_type": "markdown",
   "id": "93592796",
   "metadata": {},
   "source": [
    "Merging 2 data sets is the process of bringing 2 datasets together into one and aligning the rows based on common attributes "
   ]
  },
  {
   "cell_type": "code",
   "execution_count": 6,
   "id": "5ab21e0b",
   "metadata": {},
   "outputs": [
    {
     "name": "stdout",
     "output_type": "stream",
     "text": [
      "   id    Name  subj\n",
      "0   1    Alex  sub1\n",
      "1   2     Amy  sub2\n",
      "2   3   Allen  sub3\n",
      "3   4   Alica  sub4\n",
      "4   5  Andrew  sub5\n",
      "\n",
      "   id    Name  subj\n",
      "0   1     Sam  sub1\n",
      "1   2   Monoj  sub2\n",
      "2   3    Nata  sub3\n",
      "3   4   Alica  sub4\n",
      "4   5  Andrew  sub5\n",
      "\n",
      "   id  Name_x subj_x  Name_y subj_y\n",
      "0   1    Alex   sub1     Sam   sub1\n",
      "1   2     Amy   sub2   Monoj   sub2\n",
      "2   3   Allen   sub3    Nata   sub3\n",
      "3   4   Alica   sub4   Alica   sub4\n",
      "4   5  Andrew   sub5  Andrew   sub5\n",
      "\n",
      "   id    Name subj_x subj_y\n",
      "0   4   Alica   sub4   sub4\n",
      "1   5  Andrew   sub5   sub5\n"
     ]
    }
   ],
   "source": [
    "cl1= pd.DataFrame({'id':[1,2,3,4,5],'Name':['Alex','Amy','Allen', 'Alica','Andrew'],'subj':['sub1','sub2','sub3','sub4','sub5']})\n",
    "cl2 =pd.DataFrame({'id':[1,2,3,4,5],'Name':['Sam','Monoj','Nata','Alica','Andrew'],'subj':['sub1','sub2','sub3','sub4','sub5']})\n",
    "print(cl1)\n",
    "print()\n",
    "print(cl2)\n",
    "print()\n",
    "df = pd.merge(cl1,cl2,on='id')\n",
    "print(df)\n",
    "print()\n",
    "df = pd.merge(cl1,cl2,on=['id','Name'])\n",
    "print(df)"
   ]
  },
  {
   "cell_type": "markdown",
   "id": "cf32b810",
   "metadata": {},
   "source": [
    "# DESCRIPTIVE STATISTICS WITH PANDAS"
   ]
  },
  {
   "cell_type": "code",
   "execution_count": 8,
   "id": "13b583c8",
   "metadata": {},
   "outputs": [
    {
     "name": "stdout",
     "output_type": "stream",
     "text": [
      "  k1  k2\n",
      "0  a   1\n",
      "1  b   2\n",
      "2  c   3\n",
      "3  a   4\n",
      "4  b   5\n",
      "5  f   6\n",
      "\n",
      "    k2\n",
      "k1    \n",
      "a    5\n",
      "b    7\n",
      "c    3\n",
      "f    6\n",
      "\n",
      "    k2\n",
      "k1    \n",
      "a    4\n",
      "b    5\n",
      "c    3\n",
      "f    6\n"
     ]
    }
   ],
   "source": [
    "dt ={'k1':['a','b','c','a','b','f'],'k2':[1,2,3,4,5,6]}\n",
    "df = pd.DataFrame(dt)\n",
    "print(df)\n",
    "print()\n",
    "print(df.groupby('k1').sum())\n",
    "print()\n",
    "print(df.groupby('k1').max())\n"
   ]
  },
  {
   "cell_type": "markdown",
   "id": "ac034953",
   "metadata": {},
   "source": [
    "# SORTING:- CAN BE DONE ROW WISE AND COLUMN WISE\n",
    "    1. sort_values(): to sort the data of a given column in ascending or decending order\n",
    "    2.sort_index(): to sort the data on index values.    "
   ]
  },
  {
   "cell_type": "code",
   "execution_count": 10,
   "id": "f0460a2b",
   "metadata": {},
   "outputs": [
    {
     "name": "stdout",
     "output_type": "stream",
     "text": [
      "  k1  k2\n",
      "0  a   1\n",
      "1  b   2\n",
      "2  c   3\n",
      "3  a   4\n",
      "4  b   5\n",
      "5  f   6\n",
      "\n",
      "  k1  k2\n",
      "0  a   1\n",
      "3  a   4\n",
      "1  b   2\n",
      "4  b   5\n",
      "2  c   3\n",
      "5  f   6\n"
     ]
    }
   ],
   "source": [
    "dt ={'k1':['a','b','c','a','b','f'],'k2':[1,2,3,4,5,6]}\n",
    "df=pd.DataFrame(dt)\n",
    "print(df)\n",
    "print()\n",
    "print(df.sort_values(by='k1',ascending=True))"
   ]
  },
  {
   "cell_type": "markdown",
   "id": "2c2c7156",
   "metadata": {},
   "source": [
    "# multiple column sort"
   ]
  },
  {
   "cell_type": "markdown",
   "id": "55e58659",
   "metadata": {},
   "source": [
    "#In multiple column sort first the df will be sorted on the basis of column 'by' and if there\n",
    "are equal values in the first column, then the rows will be sorted on the basis of second\n",
    "given column and so on"
   ]
  },
  {
   "cell_type": "code",
   "execution_count": 12,
   "id": "48161ac0",
   "metadata": {},
   "outputs": [
    {
     "name": "stdout",
     "output_type": "stream",
     "text": [
      "  k1  k2 k3\n",
      "0  a   1  h\n",
      "1  b   2  j\n",
      "2  c   3  k\n",
      "3  a   4  b\n",
      "4  b   5  m\n",
      "5  f   6  n\n",
      "\n",
      "  k1  k2 k3\n",
      "0  a   1  h\n",
      "3  a   4  b\n",
      "4  b   5  m\n",
      "1  b   2  j\n",
      "2  c   3  k\n",
      "5  f   6  n\n"
     ]
    }
   ],
   "source": [
    "dt ={'k1':['a','b','c','a','b','f'],'k2':[1,2,3,4,5,6],'k3':['h','j','k','b','m','n']}\n",
    "df=pd.DataFrame(dt)\n",
    "print(df)\n",
    "print()\n",
    "print(df.sort_values(by=['k1','k3'],ascending=[True,False]))"
   ]
  },
  {
   "cell_type": "code",
   "execution_count": 13,
   "id": "7beb5033",
   "metadata": {},
   "outputs": [
    {
     "name": "stdout",
     "output_type": "stream",
     "text": [
      "  k1  k2 k3\n",
      "1  a   1  h\n",
      "2  b   2  j\n",
      "3  c   3  k\n",
      "4  a   4  b\n",
      "5  b   5  m\n",
      "6  f   6  n\n",
      "\n",
      "  k1  k2 k3\n",
      "1  a   1  h\n",
      "2  b   2  j\n",
      "3  c   3  k\n",
      "4  a   4  b\n",
      "5  b   5  m\n",
      "6  f   6  n\n"
     ]
    }
   ],
   "source": [
    "dt ={'k1':['a','b','c','a','b','f'],'k2':[1,2,3,4,5,6],'k3':['h','j','k','b','m','n']}\n",
    "df=pd.DataFrame(dt,index=[1,2,3,4,5,6])\n",
    "print(df)\n",
    "print()\n",
    "df=df.sort_index()\n",
    "print(df)"
   ]
  },
  {
   "cell_type": "code",
   "execution_count": 16,
   "id": "5ae8d56f",
   "metadata": {},
   "outputs": [
    {
     "name": "stdout",
     "output_type": "stream",
     "text": [
      "  k1  k2 k3\n",
      "0  a   1  h\n",
      "1  b   2  j\n",
      "2  c   3  k\n",
      "3  a   4  b\n",
      "4  b   5  m\n",
      "5  f   6  n\n",
      "\n",
      "  k1  k2 k3\n",
      "0  a   1  h\n",
      "3  a   4  b\n",
      "4  b   5  m\n",
      "1  b   2  j\n",
      "2  c   3  k\n",
      "5  f   6  n\n"
     ]
    }
   ],
   "source": [
    "dt ={'k1':['a','b','c','a','b','f'],'k2':[1,2,3,4,5,6],'k3':['h','j','k','b','m','n']}\n",
    "df=pd.DataFrame(dt)\n",
    "print(df)\n",
    "print()\n",
    "df=df.sort_values(by=['k1','k3'],ascending=[True,False])\n",
    "print(df)"
   ]
  },
  {
   "cell_type": "markdown",
   "id": "c6ddb41c",
   "metadata": {},
   "source": [
    "# Deleting Index"
   ]
  },
  {
   "cell_type": "code",
   "execution_count": 17,
   "id": "358c0b95",
   "metadata": {},
   "outputs": [
    {
     "name": "stdout",
     "output_type": "stream",
     "text": [
      "  k1  k2 k3\n",
      "1  a   1  h\n",
      "2  b   2  j\n",
      "3  c   3  k\n",
      "4  a   4  b\n",
      "5  b   5  m\n",
      "6  f   6  n\n",
      "\n",
      "  k1  k2 k3\n",
      "1  a   1  h\n",
      "3  c   3  k\n",
      "4  a   4  b\n",
      "5  b   5  m\n",
      "6  f   6  n\n"
     ]
    }
   ],
   "source": [
    "dt ={'k1':['a','b','c','a','b','f'],'k2':[1,2,3,4,5,6],'k3':['h','j','k','b','m','n']}\n",
    "df=pd.DataFrame(dt,index=[1,2,3,4,5,6])\n",
    "print(df)\n",
    "print()\n",
    "df2=df.drop(index=[2])\n",
    "print(df2)"
   ]
  },
  {
   "cell_type": "markdown",
   "id": "1a62c0fa",
   "metadata": {},
   "source": [
    "# PIVOTING:-Helps us to summarise extensive data,it rotates data by transforming\n",
    "# rows into columns and analyze the data in different prespective"
   ]
  },
  {
   "cell_type": "code",
   "execution_count": 21,
   "id": "062e8974",
   "metadata": {},
   "outputs": [
    {
     "name": "stdout",
     "output_type": "stream",
     "text": [
      "   Year Team  runs\n",
      "0  2018   mi  2500\n",
      "1  2019   mi  2650\n",
      "2  2018  rcb  2200\n",
      "3  2019  rcb  2400\n",
      "4  2018  csk  2300\n",
      "5  2019  csk  2700\n",
      "\n",
      "Team   csk    mi   rcb\n",
      "Year                  \n",
      "2018  2300  2500  2200\n",
      "2019  2700  2650  2400\n"
     ]
    }
   ],
   "source": [
    "data= {'Year':['2018','2019','2018','2019','2018','2019'],'Team':['mi','mi','rcb','rcb','csk','csk'],'runs':[2500,2650,2200,2400,2300,2700]}\n",
    "df=pd.DataFrame(data)\n",
    "print(df)\n",
    "print()\n",
    "pv= pd.pivot(df,index= 'Year',columns= 'Team',values = 'runs')\n",
    "print(pv)"
   ]
  },
  {
   "cell_type": "markdown",
   "id": "3b89c9f0",
   "metadata": {},
   "source": [
    "# pivot table we can use statical funtions"
   ]
  },
  {
   "cell_type": "code",
   "execution_count": 22,
   "id": "d39baf59",
   "metadata": {},
   "outputs": [
    {
     "name": "stdout",
     "output_type": "stream",
     "text": [
      "       A         B   C\n",
      "0   John    Master  27\n",
      "1   Boby  Graduate  23\n",
      "2  Meena  Graduate  21\n",
      "\n",
      "             C               A       \n",
      "B     Graduate Master Graduate Master\n",
      "A                                    \n",
      "Boby        23    NaN     Boby    NaN\n",
      "John       NaN     27      NaN   John\n",
      "Meena       21    NaN    Meena    NaN\n"
     ]
    }
   ],
   "source": [
    "df=pd.DataFrame({'A':['John','Boby','Meena'],\"B\":['Master','Graduate','Graduate'],'C':[27,23,21]})\n",
    "print(df)\n",
    "print()\n",
    "x=df.pivot(index='A',columns='B',values=['C','A'])\n",
    "print(x)"
   ]
  },
  {
   "cell_type": "code",
   "execution_count": 30,
   "id": "229e460c",
   "metadata": {},
   "outputs": [
    {
     "name": "stdout",
     "output_type": "stream",
     "text": [
      "  date     city  humidity\n",
      "0  1-1    Delhi        60\n",
      "1  1-1    Delhi        55\n",
      "2  1-2   Mumbai        80\n",
      "3  1-2   Mumbai        90\n",
      "4  1-3  chennai        85\n",
      "5  1-3  chennai        70\n",
      "\n",
      "         humidity\n",
      "city             \n",
      "Delhi        57.5\n",
      "Mumbai       85.0\n",
      "chennai      77.5\n"
     ]
    }
   ],
   "source": [
    "data ={'date':['1-1','1-1','1-2','1-2','1-3','1-3'],'city':['Delhi','Delhi','Mumbai','Mumbai','chennai','chennai'], 'humidity':[60,55,80,90,85,70]}\n",
    "df=pd.DataFrame(data)\n",
    "print(df)\n",
    "print()\n",
    "pv= pd.pivot_table(df,index='city',values='humidity',aggfunc='mean')\n",
    "print(pv)"
   ]
  },
  {
   "cell_type": "code",
   "execution_count": 35,
   "id": "0694a1b0",
   "metadata": {},
   "outputs": [
    {
     "name": "stdout",
     "output_type": "stream",
     "text": [
      "  date    city  temp  humidity\n",
      "0  1-1     NaN    28       NaN\n",
      "1  1-2   Delhi    30      55.0\n",
      "2  1-3  Mumbai    22      80.0\n",
      "\n",
      "  date    city  temp  humidity\n",
      "0  1-1   Delhi    28      67.0\n",
      "1  1-2   Delhi    30      55.0\n",
      "2  1-3  Mumbai    22      80.0\n"
     ]
    }
   ],
   "source": [
    "data ={'date':['1-1','1-2','1-3'],'city':[np.nan,'Delhi','Mumbai'],'temp':[28,30,22],'humidity':[np.nan,55,80]}\n",
    "df=pd.DataFrame(data)\n",
    "print(df)\n",
    "print()\n",
    "df1=df.fillna({'city':'Delhi', 'humidity':67 })\n",
    "print(df1)\n"
   ]
  },
  {
   "cell_type": "code",
   "execution_count": null,
   "id": "c0ea7b8b",
   "metadata": {},
   "outputs": [],
   "source": []
  },
  {
   "cell_type": "code",
   "execution_count": null,
   "id": "74b64e65",
   "metadata": {},
   "outputs": [],
   "source": []
  },
  {
   "cell_type": "code",
   "execution_count": null,
   "id": "4f33c662",
   "metadata": {},
   "outputs": [],
   "source": []
  },
  {
   "cell_type": "code",
   "execution_count": null,
   "id": "27845ad2",
   "metadata": {},
   "outputs": [],
   "source": []
  },
  {
   "cell_type": "code",
   "execution_count": null,
   "id": "3141166e",
   "metadata": {},
   "outputs": [],
   "source": []
  },
  {
   "cell_type": "code",
   "execution_count": null,
   "id": "4e4eeb99",
   "metadata": {},
   "outputs": [],
   "source": []
  },
  {
   "cell_type": "code",
   "execution_count": null,
   "id": "de460e6e",
   "metadata": {},
   "outputs": [],
   "source": []
  },
  {
   "cell_type": "code",
   "execution_count": null,
   "id": "7fd7822b",
   "metadata": {},
   "outputs": [],
   "source": []
  },
  {
   "cell_type": "code",
   "execution_count": null,
   "id": "3400e352",
   "metadata": {},
   "outputs": [],
   "source": []
  },
  {
   "cell_type": "code",
   "execution_count": null,
   "id": "b3a7512a",
   "metadata": {},
   "outputs": [],
   "source": []
  },
  {
   "cell_type": "code",
   "execution_count": null,
   "id": "f3e2d3ba",
   "metadata": {},
   "outputs": [],
   "source": []
  },
  {
   "cell_type": "code",
   "execution_count": null,
   "id": "a35084e9",
   "metadata": {},
   "outputs": [],
   "source": []
  },
  {
   "cell_type": "code",
   "execution_count": null,
   "id": "e2c764d5",
   "metadata": {},
   "outputs": [],
   "source": []
  },
  {
   "cell_type": "code",
   "execution_count": null,
   "id": "c79c8691",
   "metadata": {},
   "outputs": [],
   "source": []
  },
  {
   "cell_type": "code",
   "execution_count": null,
   "id": "238199f2",
   "metadata": {},
   "outputs": [],
   "source": []
  },
  {
   "cell_type": "code",
   "execution_count": null,
   "id": "e3af6936",
   "metadata": {},
   "outputs": [],
   "source": []
  },
  {
   "cell_type": "code",
   "execution_count": null,
   "id": "f5b1ad8e",
   "metadata": {},
   "outputs": [],
   "source": []
  },
  {
   "cell_type": "code",
   "execution_count": null,
   "id": "cf0b7190",
   "metadata": {},
   "outputs": [],
   "source": []
  },
  {
   "cell_type": "code",
   "execution_count": null,
   "id": "a5f5ba7f",
   "metadata": {},
   "outputs": [],
   "source": []
  },
  {
   "cell_type": "code",
   "execution_count": null,
   "id": "393e8737",
   "metadata": {},
   "outputs": [],
   "source": []
  },
  {
   "cell_type": "code",
   "execution_count": null,
   "id": "35cc7524",
   "metadata": {},
   "outputs": [],
   "source": []
  },
  {
   "cell_type": "code",
   "execution_count": null,
   "id": "a5a142b6",
   "metadata": {},
   "outputs": [],
   "source": []
  },
  {
   "cell_type": "code",
   "execution_count": null,
   "id": "386d0727",
   "metadata": {},
   "outputs": [],
   "source": []
  },
  {
   "cell_type": "code",
   "execution_count": null,
   "id": "f29f542a",
   "metadata": {},
   "outputs": [],
   "source": []
  },
  {
   "cell_type": "code",
   "execution_count": null,
   "id": "40fb383a",
   "metadata": {},
   "outputs": [],
   "source": []
  },
  {
   "cell_type": "code",
   "execution_count": null,
   "id": "d1b3fcfd",
   "metadata": {},
   "outputs": [],
   "source": []
  },
  {
   "cell_type": "code",
   "execution_count": null,
   "id": "2bb4de62",
   "metadata": {},
   "outputs": [],
   "source": []
  },
  {
   "cell_type": "code",
   "execution_count": null,
   "id": "fff66814",
   "metadata": {},
   "outputs": [],
   "source": []
  },
  {
   "cell_type": "code",
   "execution_count": null,
   "id": "f8b5929d",
   "metadata": {},
   "outputs": [],
   "source": []
  },
  {
   "cell_type": "code",
   "execution_count": null,
   "id": "099adb84",
   "metadata": {},
   "outputs": [],
   "source": []
  },
  {
   "cell_type": "code",
   "execution_count": null,
   "id": "4265fd79",
   "metadata": {},
   "outputs": [],
   "source": []
  },
  {
   "cell_type": "code",
   "execution_count": null,
   "id": "948a90d5",
   "metadata": {},
   "outputs": [],
   "source": []
  },
  {
   "cell_type": "code",
   "execution_count": null,
   "id": "15925947",
   "metadata": {},
   "outputs": [],
   "source": []
  },
  {
   "cell_type": "code",
   "execution_count": null,
   "id": "41929d4e",
   "metadata": {},
   "outputs": [],
   "source": []
  },
  {
   "cell_type": "code",
   "execution_count": null,
   "id": "ca276192",
   "metadata": {},
   "outputs": [],
   "source": []
  },
  {
   "cell_type": "code",
   "execution_count": null,
   "id": "d637bd35",
   "metadata": {},
   "outputs": [],
   "source": []
  },
  {
   "cell_type": "code",
   "execution_count": null,
   "id": "5810f8ff",
   "metadata": {},
   "outputs": [],
   "source": []
  },
  {
   "cell_type": "code",
   "execution_count": null,
   "id": "f2bbcd18",
   "metadata": {},
   "outputs": [],
   "source": []
  },
  {
   "cell_type": "code",
   "execution_count": null,
   "id": "bd8115b2",
   "metadata": {},
   "outputs": [],
   "source": []
  },
  {
   "cell_type": "code",
   "execution_count": null,
   "id": "c3c72eea",
   "metadata": {},
   "outputs": [],
   "source": []
  },
  {
   "cell_type": "code",
   "execution_count": null,
   "id": "41af8d65",
   "metadata": {},
   "outputs": [],
   "source": []
  },
  {
   "cell_type": "code",
   "execution_count": null,
   "id": "d0a6e499",
   "metadata": {},
   "outputs": [],
   "source": []
  },
  {
   "cell_type": "code",
   "execution_count": null,
   "id": "0c60f1c7",
   "metadata": {},
   "outputs": [],
   "source": []
  },
  {
   "cell_type": "code",
   "execution_count": null,
   "id": "da364120",
   "metadata": {},
   "outputs": [],
   "source": []
  },
  {
   "cell_type": "code",
   "execution_count": null,
   "id": "fe8a1326",
   "metadata": {},
   "outputs": [],
   "source": []
  },
  {
   "cell_type": "code",
   "execution_count": null,
   "id": "335ea57f",
   "metadata": {},
   "outputs": [],
   "source": []
  },
  {
   "cell_type": "code",
   "execution_count": null,
   "id": "b52de57b",
   "metadata": {},
   "outputs": [],
   "source": []
  },
  {
   "cell_type": "code",
   "execution_count": null,
   "id": "148afe3e",
   "metadata": {},
   "outputs": [],
   "source": []
  },
  {
   "cell_type": "code",
   "execution_count": null,
   "id": "3a99809a",
   "metadata": {},
   "outputs": [],
   "source": []
  },
  {
   "cell_type": "code",
   "execution_count": null,
   "id": "f5bce845",
   "metadata": {},
   "outputs": [],
   "source": []
  }
 ],
 "metadata": {
  "kernelspec": {
   "display_name": "Python 3 (ipykernel)",
   "language": "python",
   "name": "python3"
  },
  "language_info": {
   "codemirror_mode": {
    "name": "ipython",
    "version": 3
   },
   "file_extension": ".py",
   "mimetype": "text/x-python",
   "name": "python",
   "nbconvert_exporter": "python",
   "pygments_lexer": "ipython3",
   "version": "3.10.3"
  }
 },
 "nbformat": 4,
 "nbformat_minor": 5
}
