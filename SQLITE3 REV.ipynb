{
 "cells": [
  {
   "cell_type": "markdown",
   "id": "0a6bd3ed",
   "metadata": {},
   "source": [
    " SQLITE3"
   ]
  },
  {
   "cell_type": "code",
   "execution_count": 2,
   "id": "33e472ef",
   "metadata": {},
   "outputs": [],
   "source": [
    "import sqlite3"
   ]
  },
  {
   "cell_type": "code",
   "execution_count": 3,
   "id": "1ffe79bf",
   "metadata": {},
   "outputs": [
    {
     "name": "stdout",
     "output_type": "stream",
     "text": [
      "to create the DB we need a fn\n"
     ]
    }
   ],
   "source": [
    "print(\"to create the DB we need a fn\")\n",
    "def myConnect():\n",
    "    con= sqlite3.connect(\"mypy.db\")\n",
    "    return con"
   ]
  },
  {
   "cell_type": "code",
   "execution_count": 4,
   "id": "36acef2a",
   "metadata": {},
   "outputs": [
    {
     "name": "stdout",
     "output_type": "stream",
     "text": [
      "create a connection object\n",
      "connected\n"
     ]
    }
   ],
   "source": [
    "print('create a connection object')\n",
    "con = myConnect()\n",
    "if con:\n",
    "    print(\"connected\")"
   ]
  },
  {
   "cell_type": "code",
   "execution_count": 5,
   "id": "fc8f1564",
   "metadata": {},
   "outputs": [
    {
     "name": "stdout",
     "output_type": "stream",
     "text": [
      "create a function to create table\n"
     ]
    }
   ],
   "source": [
    "print('create a function to create table')\n",
    "def createTable(con):\n",
    "    cur= con.cursor()\n",
    "    qry = \"CREATE TABLE student(name TEXT,id INT,per REAL,phone_no INT)\"\n",
    "    cur.execute(qry)\n",
    "    con.commit()\n",
    "    print('table created')"
   ]
  },
  {
   "cell_type": "code",
   "execution_count": 14,
   "id": "7591af35",
   "metadata": {
    "scrolled": true
   },
   "outputs": [
    {
     "name": "stdout",
     "output_type": "stream",
     "text": [
      "to create the table in the DB and access the DB\n"
     ]
    },
    {
     "ename": "OperationalError",
     "evalue": "table student already exists",
     "output_type": "error",
     "traceback": [
      "\u001b[1;31m---------------------------------------------------------------------------\u001b[0m",
      "\u001b[1;31mOperationalError\u001b[0m                          Traceback (most recent call last)",
      "Input \u001b[1;32mIn [14]\u001b[0m, in \u001b[0;36m<module>\u001b[1;34m\u001b[0m\n\u001b[0;32m      1\u001b[0m \u001b[38;5;28mprint\u001b[39m(\u001b[38;5;124m'\u001b[39m\u001b[38;5;124mto create the table in the DB and access the DB\u001b[39m\u001b[38;5;124m'\u001b[39m)\n\u001b[0;32m      2\u001b[0m \u001b[38;5;66;03m#con= myConnect()\u001b[39;00m\n\u001b[1;32m----> 3\u001b[0m \u001b[43mcreateTable\u001b[49m\u001b[43m(\u001b[49m\u001b[43mcon\u001b[49m\u001b[43m)\u001b[49m\n",
      "Input \u001b[1;32mIn [5]\u001b[0m, in \u001b[0;36mcreateTable\u001b[1;34m(con)\u001b[0m\n\u001b[0;32m      3\u001b[0m cur\u001b[38;5;241m=\u001b[39m con\u001b[38;5;241m.\u001b[39mcursor()\n\u001b[0;32m      4\u001b[0m qry \u001b[38;5;241m=\u001b[39m \u001b[38;5;124m\"\u001b[39m\u001b[38;5;124mCREATE TABLE student(name TEXT,id INT,per REAL,phone_no INT)\u001b[39m\u001b[38;5;124m\"\u001b[39m\n\u001b[1;32m----> 5\u001b[0m \u001b[43mcur\u001b[49m\u001b[38;5;241;43m.\u001b[39;49m\u001b[43mexecute\u001b[49m\u001b[43m(\u001b[49m\u001b[43mqry\u001b[49m\u001b[43m)\u001b[49m\n\u001b[0;32m      6\u001b[0m con\u001b[38;5;241m.\u001b[39mcommit()\n\u001b[0;32m      7\u001b[0m \u001b[38;5;28mprint\u001b[39m(\u001b[38;5;124m'\u001b[39m\u001b[38;5;124mtable created\u001b[39m\u001b[38;5;124m'\u001b[39m)\n",
      "\u001b[1;31mOperationalError\u001b[0m: table student already exists"
     ]
    }
   ],
   "source": [
    "print('to create the table in the DB and access the DB')\n",
    "#con= myConnect()\n",
    "createTable(con)"
   ]
  },
  {
   "cell_type": "code",
   "execution_count": 23,
   "id": "3f77257b",
   "metadata": {},
   "outputs": [
    {
     "name": "stdout",
     "output_type": "stream",
     "text": [
      "to insert the record create a cursor object\n"
     ]
    }
   ],
   "source": [
    "print(\"to insert the record create a cursor object\")\n",
    "def insertRecord(con):\n",
    "    cur=con.cursor()\n",
    "    qry=\"INSERT INTO Student VALUES('cup',12,86,4561237)\"\n",
    "    qry=\"INSERT INTO Student VALUES('cup2',123,864,34561237)\"\n",
    "    qry=\"INSERT INTO Student VALUES('cup3',123,864,34561237)\"\n",
    "    print(\"to execute the query we commit it and \")\n",
    "    cur.execute(qry)\n",
    "    con.commit()\n",
    "    print('row inserted')"
   ]
  },
  {
   "cell_type": "code",
   "execution_count": 24,
   "id": "05dafd85",
   "metadata": {},
   "outputs": [
    {
     "name": "stdout",
     "output_type": "stream",
     "text": [
      "to insert the record into a row\n",
      "to execute the query we commit it and \n",
      "row inserted\n"
     ]
    }
   ],
   "source": [
    "print('to insert the record into a row')\n",
    "insertRecord(con)"
   ]
  },
  {
   "cell_type": "code",
   "execution_count": null,
   "id": "1c5e3ec6",
   "metadata": {},
   "outputs": [],
   "source": []
  },
  {
   "cell_type": "code",
   "execution_count": 25,
   "id": "16f8a11b",
   "metadata": {},
   "outputs": [
    {
     "name": "stdout",
     "output_type": "stream",
     "text": [
      "to display the record\n"
     ]
    }
   ],
   "source": [
    "print('to display the record')\n",
    "def display(con):\n",
    "    cur=con.cursor()\n",
    "    qry=\"SELECT * FROM student\"\n",
    "    cur.execute(qry)\n",
    "    res=cur.fetchall()\n",
    "    for i in res:\n",
    "        print(i)\n",
    "        \n"
   ]
  },
  {
   "cell_type": "code",
   "execution_count": null,
   "id": "f2d68010",
   "metadata": {},
   "outputs": [],
   "source": []
  },
  {
   "cell_type": "code",
   "execution_count": 26,
   "id": "d5f095d2",
   "metadata": {},
   "outputs": [
    {
     "name": "stdout",
     "output_type": "stream",
     "text": [
      "('cup2', 123, 864.0, 34561237)\n",
      "('cup3', 123, 864.0, 34561237)\n"
     ]
    }
   ],
   "source": [
    "display(con)"
   ]
  },
  {
   "cell_type": "code",
   "execution_count": null,
   "id": "a2bb4968",
   "metadata": {},
   "outputs": [],
   "source": []
  },
  {
   "cell_type": "code",
   "execution_count": 27,
   "id": "3bb8bf2e",
   "metadata": {},
   "outputs": [],
   "source": [
    "def delete(con):\n",
    "    cur=con.cursor()\n",
    "    qry=\"DELETE FROM student where id=12\"\n",
    "    cur.execute(qry)\n",
    "    con.commit()\n",
    "    "
   ]
  },
  {
   "cell_type": "code",
   "execution_count": null,
   "id": "5907e628",
   "metadata": {},
   "outputs": [],
   "source": []
  },
  {
   "cell_type": "code",
   "execution_count": null,
   "id": "6072115e",
   "metadata": {},
   "outputs": [],
   "source": []
  },
  {
   "cell_type": "code",
   "execution_count": 28,
   "id": "f45a1fba",
   "metadata": {},
   "outputs": [],
   "source": [
    "delete(con)"
   ]
  },
  {
   "cell_type": "code",
   "execution_count": null,
   "id": "f81abfee",
   "metadata": {},
   "outputs": [],
   "source": []
  },
  {
   "cell_type": "code",
   "execution_count": null,
   "id": "0d61ca58",
   "metadata": {},
   "outputs": [],
   "source": []
  },
  {
   "cell_type": "code",
   "execution_count": 29,
   "id": "3b1149cc",
   "metadata": {},
   "outputs": [
    {
     "name": "stdout",
     "output_type": "stream",
     "text": [
      "('cup2', 123, 864.0, 34561237)\n",
      "('cup3', 123, 864.0, 34561237)\n"
     ]
    }
   ],
   "source": [
    "display(con)"
   ]
  },
  {
   "cell_type": "code",
   "execution_count": null,
   "id": "b32e86d2",
   "metadata": {},
   "outputs": [],
   "source": []
  },
  {
   "cell_type": "code",
   "execution_count": null,
   "id": "d9ec29d9",
   "metadata": {},
   "outputs": [],
   "source": []
  },
  {
   "cell_type": "code",
   "execution_count": null,
   "id": "bd90d529",
   "metadata": {},
   "outputs": [],
   "source": []
  },
  {
   "cell_type": "code",
   "execution_count": null,
   "id": "c2f83b3c",
   "metadata": {},
   "outputs": [],
   "source": []
  },
  {
   "cell_type": "code",
   "execution_count": null,
   "id": "520a0de4",
   "metadata": {},
   "outputs": [],
   "source": []
  },
  {
   "cell_type": "code",
   "execution_count": null,
   "id": "29bf1a5c",
   "metadata": {},
   "outputs": [],
   "source": []
  },
  {
   "cell_type": "code",
   "execution_count": null,
   "id": "fd4779bf",
   "metadata": {},
   "outputs": [],
   "source": []
  },
  {
   "cell_type": "code",
   "execution_count": null,
   "id": "fadb093c",
   "metadata": {},
   "outputs": [],
   "source": []
  },
  {
   "cell_type": "code",
   "execution_count": null,
   "id": "02894b4b",
   "metadata": {},
   "outputs": [],
   "source": []
  },
  {
   "cell_type": "code",
   "execution_count": null,
   "id": "bb002276",
   "metadata": {},
   "outputs": [],
   "source": []
  },
  {
   "cell_type": "code",
   "execution_count": null,
   "id": "685111aa",
   "metadata": {},
   "outputs": [],
   "source": []
  },
  {
   "cell_type": "code",
   "execution_count": null,
   "id": "a77aab5f",
   "metadata": {},
   "outputs": [],
   "source": []
  },
  {
   "cell_type": "code",
   "execution_count": null,
   "id": "c5080f03",
   "metadata": {},
   "outputs": [],
   "source": []
  },
  {
   "cell_type": "code",
   "execution_count": null,
   "id": "0a1bdafc",
   "metadata": {},
   "outputs": [],
   "source": []
  },
  {
   "cell_type": "code",
   "execution_count": null,
   "id": "5a397030",
   "metadata": {},
   "outputs": [],
   "source": []
  },
  {
   "cell_type": "code",
   "execution_count": null,
   "id": "0feca3e3",
   "metadata": {},
   "outputs": [],
   "source": []
  }
 ],
 "metadata": {
  "kernelspec": {
   "display_name": "Python 3 (ipykernel)",
   "language": "python",
   "name": "python3"
  },
  "language_info": {
   "codemirror_mode": {
    "name": "ipython",
    "version": 3
   },
   "file_extension": ".py",
   "mimetype": "text/x-python",
   "name": "python",
   "nbconvert_exporter": "python",
   "pygments_lexer": "ipython3",
   "version": "3.10.3"
  }
 },
 "nbformat": 4,
 "nbformat_minor": 5
}
