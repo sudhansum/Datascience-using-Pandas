{
 "cells": [
  {
   "cell_type": "code",
   "execution_count": 2,
   "id": "b2d6bc2f",
   "metadata": {},
   "outputs": [],
   "source": [
    "import sqlite3\n"
   ]
  },
  {
   "cell_type": "code",
   "execution_count": 3,
   "id": "16bc2013",
   "metadata": {},
   "outputs": [],
   "source": [
    "def myConnect():\n",
    "    con = sqlite3.connect('mydb.db')\n",
    "    return con"
   ]
  },
  {
   "cell_type": "code",
   "execution_count": 4,
   "id": "f7cbcbc0",
   "metadata": {},
   "outputs": [
    {
     "name": "stdout",
     "output_type": "stream",
     "text": [
      "connected\n"
     ]
    }
   ],
   "source": [
    "con = myConnect()\n",
    "if con:\n",
    "    print('connected')"
   ]
  },
  {
   "cell_type": "code",
   "execution_count": 5,
   "id": "a2b629ed",
   "metadata": {},
   "outputs": [],
   "source": [
    "def createTable(con):\n",
    "    cur=con.cursor()\n",
    "    qry = 'CREATE TABLE Student(name TEXT,id INT,per REAL,phone_no INT)'\n",
    "    cur.execute(qry)\n",
    "    con.commit()\n",
    "    print('Table Created')"
   ]
  },
  {
   "cell_type": "code",
   "execution_count": 6,
   "id": "a3ab5b53",
   "metadata": {},
   "outputs": [
    {
     "name": "stdout",
     "output_type": "stream",
     "text": [
      "Table Created\n"
     ]
    }
   ],
   "source": [
    "createTable(con)"
   ]
  },
  {
   "cell_type": "code",
   "execution_count": 19,
   "id": "4b81c221",
   "metadata": {},
   "outputs": [],
   "source": [
    "def insertRecord(con):\n",
    "    cur=con.cursor()\n",
    "    qry=\"INSERT INTO Student VALUES('std1',23,14,23456178)\"\n",
    "    qry=\"INSERT INTO Student VALUES('std2',22,15,33456178)\"\n",
    "    cur.execute(qry)\n",
    "    con.commit()\n",
    "    print(\"row inserted\")"
   ]
  },
  {
   "cell_type": "code",
   "execution_count": 20,
   "id": "68ac6dfa",
   "metadata": {},
   "outputs": [
    {
     "name": "stdout",
     "output_type": "stream",
     "text": [
      "row inserted\n"
     ]
    }
   ],
   "source": [
    "insertRecord(con)"
   ]
  },
  {
   "cell_type": "code",
   "execution_count": 21,
   "id": "f0894c4b",
   "metadata": {},
   "outputs": [],
   "source": [
    "def display(con):\n",
    "    cur=con.cursor()\n",
    "    qry=\"SELECT * FROM Student\"\n",
    "    cur.execute(qry)\n",
    "    con.commit()\n",
    "    res=cur.fetchall()\n",
    "    for i in res:\n",
    "        print(i)"
   ]
  },
  {
   "cell_type": "code",
   "execution_count": 40,
   "id": "29f61ad6",
   "metadata": {},
   "outputs": [
    {
     "name": "stdout",
     "output_type": "stream",
     "text": [
      "('std1', 23, 14.0, 23456178)\n",
      "('std2', 22, 15.0, 33456178)\n"
     ]
    }
   ],
   "source": [
    "display(con)"
   ]
  },
  {
   "cell_type": "code",
   "execution_count": 53,
   "id": "92cb56bb",
   "metadata": {},
   "outputs": [],
   "source": [
    "def delete(con):\n",
    "    cur=con.cursor()\n",
    "    6\n",
    "    cur.execute(qry)\n",
    "    con.commit()"
   ]
  },
  {
   "cell_type": "code",
   "execution_count": 54,
   "id": "01df93d0",
   "metadata": {},
   "outputs": [],
   "source": [
    "delete(con)"
   ]
  },
  {
   "cell_type": "code",
   "execution_count": 55,
   "id": "d4432075",
   "metadata": {},
   "outputs": [
    {
     "name": "stdout",
     "output_type": "stream",
     "text": [
      "('std1', 23, 14.0, 23456178)\n",
      "('std2', 22, 15.0, 33456178)\n",
      "('std2', 22, 15.0, 33456178)\n"
     ]
    }
   ],
   "source": [
    "display(con)"
   ]
  },
  {
   "cell_type": "code",
   "execution_count": null,
   "id": "d76f9481",
   "metadata": {},
   "outputs": [],
   "source": []
  },
  {
   "cell_type": "code",
   "execution_count": null,
   "id": "64ca1063",
   "metadata": {},
   "outputs": [],
   "source": []
  },
  {
   "cell_type": "code",
   "execution_count": null,
   "id": "033970a2",
   "metadata": {},
   "outputs": [],
   "source": []
  },
  {
   "cell_type": "code",
   "execution_count": null,
   "id": "d07dd1fd",
   "metadata": {},
   "outputs": [],
   "source": []
  },
  {
   "cell_type": "code",
   "execution_count": null,
   "id": "4a542aa2",
   "metadata": {},
   "outputs": [],
   "source": []
  },
  {
   "cell_type": "code",
   "execution_count": null,
   "id": "898ecec4",
   "metadata": {},
   "outputs": [],
   "source": []
  },
  {
   "cell_type": "code",
   "execution_count": null,
   "id": "921b72cd",
   "metadata": {},
   "outputs": [],
   "source": []
  },
  {
   "cell_type": "code",
   "execution_count": null,
   "id": "59e2277c",
   "metadata": {},
   "outputs": [],
   "source": []
  },
  {
   "cell_type": "code",
   "execution_count": null,
   "id": "ec7d3fea",
   "metadata": {},
   "outputs": [],
   "source": []
  },
  {
   "cell_type": "code",
   "execution_count": null,
   "id": "8667763b",
   "metadata": {},
   "outputs": [],
   "source": []
  },
  {
   "cell_type": "code",
   "execution_count": null,
   "id": "71b7e90d",
   "metadata": {},
   "outputs": [],
   "source": []
  },
  {
   "cell_type": "code",
   "execution_count": null,
   "id": "603b8b41",
   "metadata": {},
   "outputs": [],
   "source": []
  },
  {
   "cell_type": "code",
   "execution_count": null,
   "id": "3b61beab",
   "metadata": {},
   "outputs": [],
   "source": []
  },
  {
   "cell_type": "code",
   "execution_count": null,
   "id": "46ae0dff",
   "metadata": {},
   "outputs": [],
   "source": []
  },
  {
   "cell_type": "code",
   "execution_count": null,
   "id": "072caff9",
   "metadata": {},
   "outputs": [],
   "source": []
  },
  {
   "cell_type": "code",
   "execution_count": null,
   "id": "50a69643",
   "metadata": {},
   "outputs": [],
   "source": []
  },
  {
   "cell_type": "code",
   "execution_count": null,
   "id": "16f75803",
   "metadata": {},
   "outputs": [],
   "source": []
  }
 ],
 "metadata": {
  "kernelspec": {
   "display_name": "Python 3 (ipykernel)",
   "language": "python",
   "name": "python3"
  },
  "language_info": {
   "codemirror_mode": {
    "name": "ipython",
    "version": 3
   },
   "file_extension": ".py",
   "mimetype": "text/x-python",
   "name": "python",
   "nbconvert_exporter": "python",
   "pygments_lexer": "ipython3",
   "version": "3.10.3"
  }
 },
 "nbformat": 4,
 "nbformat_minor": 5
}
